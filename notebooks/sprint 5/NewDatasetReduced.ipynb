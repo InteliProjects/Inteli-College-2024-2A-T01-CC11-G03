{
  "nbformat": 4,
  "nbformat_minor": 0,
  "metadata": {
    "colab": {
      "provenance": []
    },
    "kernelspec": {
      "name": "python3",
      "display_name": "Python 3"
    },
    "language_info": {
      "name": "python"
    }
  },
  "cells": [
    {
      "cell_type": "code",
      "execution_count": 2,
      "metadata": {
        "colab": {
          "base_uri": "https://localhost:8080/"
        },
        "id": "oQ46j5ZOOOyf",
        "outputId": "a3bcdadc-2f74-40b0-b242-1f59f9518941"
      },
      "outputs": [
        {
          "output_type": "stream",
          "name": "stdout",
          "text": [
            "Mounted at /content/drive\n"
          ]
        }
      ],
      "source": [
        "from google.colab import drive\n",
        "import pandas as pd\n",
        "\n",
        "drive.mount('/content/drive')"
      ]
    },
    {
      "cell_type": "code",
      "source": [
        "chats_clients = pd.read_csv('/content/drive/Shareddrives/grupo3moshi/augmented_data.csv')\n",
        "intents_dict = {\n",
        "    'Como depositar': 'Transações e envios',\n",
        "    'Como fazer remessa': 'Transações e envios',\n",
        "    'Tempo de remessa': 'Consultas sobre prazos',\n",
        "    'Pedido de envio via metodo \"ByPhone\"': 'Transações e envios',\n",
        "    'Como se inscrever': 'Consultas e informações gerais',\n",
        "    'Confirmacao de cambio/taxas': 'Consultas e informações gerais',\n",
        "    'Envio via Deposit Code': 'Transações e envios',\n",
        "    'Registro/Atualizacao de Documento': 'Gerenciamento de cadastro e documentos',\n",
        "    'Solicitacao de cartao de remessas': 'Cartões e solicitações',\n",
        "    'Cadastro de beneficiario': 'Gerenciamento de cadastro e documentos',\n",
        "    'Acesso a conta': 'Consultas e informações gerais',\n",
        "    'Termos e condicoes do servico': 'Consultas e informações gerais',\n",
        "    'Problemas de remessa': 'Problemas de remessa',\n",
        "    'Tempo de entrega do cartao': 'Consultas sobre prazos',\n",
        "    'Reembolso': 'Problemas e suporte',\n",
        "    'Regras do servico': 'Consultas e informações gerais',\n",
        "    'Atualizacao de dados cadastrais': 'Gerenciamento de cadastro e documentos',\n",
        "    'Cancelamento': 'Problemas e suporte'\n",
        "}\n",
        "\n",
        "chats_clients['Intencao'] = chats_clients['Intencao'].map(intents_dict)\n",
        "chats_clients.head()\n",
        "\n",
        "chats_clients.to_csv('/content/drive/Shareddrives/grupo3moshi/reduced_augmented_data.csv', index=False)"
      ],
      "metadata": {
        "id": "3yQxxmMqQVM2"
      },
      "execution_count": 3,
      "outputs": []
    }
  ]
}