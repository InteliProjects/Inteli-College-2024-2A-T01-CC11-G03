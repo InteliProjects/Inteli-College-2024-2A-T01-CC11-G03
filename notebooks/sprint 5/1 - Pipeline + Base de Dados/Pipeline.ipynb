{
  "cells": [
    {
      "cell_type": "code",
      "execution_count": 27,
      "metadata": {
        "colab": {
          "base_uri": "https://localhost:8080/"
        },
        "collapsed": true,
        "id": "O0wvdPXKWeJh",
        "outputId": "504d6267-78e8-4f45-a812-b7f8f8fcbd37"
      },
      "outputs": [
        {
          "output_type": "stream",
          "name": "stdout",
          "text": [
            "Collecting pt-core-news-sm==3.7.0\n",
            "  Downloading https://github.com/explosion/spacy-models/releases/download/pt_core_news_sm-3.7.0/pt_core_news_sm-3.7.0-py3-none-any.whl (13.0 MB)\n",
            "\u001b[2K     \u001b[90m━━━━━━━━━━━━━━━━━━━━━━━━━━━━━━━━━━━━━━━━\u001b[0m \u001b[32m13.0/13.0 MB\u001b[0m \u001b[31m109.4 MB/s\u001b[0m eta \u001b[36m0:00:00\u001b[0m\n",
            "\u001b[?25hRequirement already satisfied: spacy<3.8.0,>=3.7.0 in /usr/local/lib/python3.10/dist-packages (from pt-core-news-sm==3.7.0) (3.7.5)\n",
            "Requirement already satisfied: spacy-legacy<3.1.0,>=3.0.11 in /usr/local/lib/python3.10/dist-packages (from spacy<3.8.0,>=3.7.0->pt-core-news-sm==3.7.0) (3.0.12)\n",
            "Requirement already satisfied: spacy-loggers<2.0.0,>=1.0.0 in /usr/local/lib/python3.10/dist-packages (from spacy<3.8.0,>=3.7.0->pt-core-news-sm==3.7.0) (1.0.5)\n",
            "Requirement already satisfied: murmurhash<1.1.0,>=0.28.0 in /usr/local/lib/python3.10/dist-packages (from spacy<3.8.0,>=3.7.0->pt-core-news-sm==3.7.0) (1.0.10)\n",
            "Requirement already satisfied: cymem<2.1.0,>=2.0.2 in /usr/local/lib/python3.10/dist-packages (from spacy<3.8.0,>=3.7.0->pt-core-news-sm==3.7.0) (2.0.8)\n",
            "Requirement already satisfied: preshed<3.1.0,>=3.0.2 in /usr/local/lib/python3.10/dist-packages (from spacy<3.8.0,>=3.7.0->pt-core-news-sm==3.7.0) (3.0.9)\n",
            "Requirement already satisfied: thinc<8.3.0,>=8.2.2 in /usr/local/lib/python3.10/dist-packages (from spacy<3.8.0,>=3.7.0->pt-core-news-sm==3.7.0) (8.2.5)\n",
            "Requirement already satisfied: wasabi<1.2.0,>=0.9.1 in /usr/local/lib/python3.10/dist-packages (from spacy<3.8.0,>=3.7.0->pt-core-news-sm==3.7.0) (1.1.3)\n",
            "Requirement already satisfied: srsly<3.0.0,>=2.4.3 in /usr/local/lib/python3.10/dist-packages (from spacy<3.8.0,>=3.7.0->pt-core-news-sm==3.7.0) (2.4.8)\n",
            "Requirement already satisfied: catalogue<2.1.0,>=2.0.6 in /usr/local/lib/python3.10/dist-packages (from spacy<3.8.0,>=3.7.0->pt-core-news-sm==3.7.0) (2.0.10)\n",
            "Requirement already satisfied: weasel<0.5.0,>=0.1.0 in /usr/local/lib/python3.10/dist-packages (from spacy<3.8.0,>=3.7.0->pt-core-news-sm==3.7.0) (0.4.1)\n",
            "Requirement already satisfied: typer<1.0.0,>=0.3.0 in /usr/local/lib/python3.10/dist-packages (from spacy<3.8.0,>=3.7.0->pt-core-news-sm==3.7.0) (0.12.5)\n",
            "Requirement already satisfied: tqdm<5.0.0,>=4.38.0 in /usr/local/lib/python3.10/dist-packages (from spacy<3.8.0,>=3.7.0->pt-core-news-sm==3.7.0) (4.66.5)\n",
            "Requirement already satisfied: requests<3.0.0,>=2.13.0 in /usr/local/lib/python3.10/dist-packages (from spacy<3.8.0,>=3.7.0->pt-core-news-sm==3.7.0) (2.32.3)\n",
            "Requirement already satisfied: pydantic!=1.8,!=1.8.1,<3.0.0,>=1.7.4 in /usr/local/lib/python3.10/dist-packages (from spacy<3.8.0,>=3.7.0->pt-core-news-sm==3.7.0) (2.9.2)\n",
            "Requirement already satisfied: jinja2 in /usr/local/lib/python3.10/dist-packages (from spacy<3.8.0,>=3.7.0->pt-core-news-sm==3.7.0) (3.1.4)\n",
            "Requirement already satisfied: setuptools in /usr/local/lib/python3.10/dist-packages (from spacy<3.8.0,>=3.7.0->pt-core-news-sm==3.7.0) (71.0.4)\n",
            "Requirement already satisfied: packaging>=20.0 in /usr/local/lib/python3.10/dist-packages (from spacy<3.8.0,>=3.7.0->pt-core-news-sm==3.7.0) (24.1)\n",
            "Requirement already satisfied: langcodes<4.0.0,>=3.2.0 in /usr/local/lib/python3.10/dist-packages (from spacy<3.8.0,>=3.7.0->pt-core-news-sm==3.7.0) (3.4.1)\n",
            "Requirement already satisfied: numpy>=1.19.0 in /usr/local/lib/python3.10/dist-packages (from spacy<3.8.0,>=3.7.0->pt-core-news-sm==3.7.0) (1.26.4)\n",
            "Requirement already satisfied: language-data>=1.2 in /usr/local/lib/python3.10/dist-packages (from langcodes<4.0.0,>=3.2.0->spacy<3.8.0,>=3.7.0->pt-core-news-sm==3.7.0) (1.2.0)\n",
            "Requirement already satisfied: annotated-types>=0.6.0 in /usr/local/lib/python3.10/dist-packages (from pydantic!=1.8,!=1.8.1,<3.0.0,>=1.7.4->spacy<3.8.0,>=3.7.0->pt-core-news-sm==3.7.0) (0.7.0)\n",
            "Requirement already satisfied: pydantic-core==2.23.4 in /usr/local/lib/python3.10/dist-packages (from pydantic!=1.8,!=1.8.1,<3.0.0,>=1.7.4->spacy<3.8.0,>=3.7.0->pt-core-news-sm==3.7.0) (2.23.4)\n",
            "Requirement already satisfied: typing-extensions>=4.6.1 in /usr/local/lib/python3.10/dist-packages (from pydantic!=1.8,!=1.8.1,<3.0.0,>=1.7.4->spacy<3.8.0,>=3.7.0->pt-core-news-sm==3.7.0) (4.12.2)\n",
            "Requirement already satisfied: charset-normalizer<4,>=2 in /usr/local/lib/python3.10/dist-packages (from requests<3.0.0,>=2.13.0->spacy<3.8.0,>=3.7.0->pt-core-news-sm==3.7.0) (3.3.2)\n",
            "Requirement already satisfied: idna<4,>=2.5 in /usr/local/lib/python3.10/dist-packages (from requests<3.0.0,>=2.13.0->spacy<3.8.0,>=3.7.0->pt-core-news-sm==3.7.0) (3.10)\n",
            "Requirement already satisfied: urllib3<3,>=1.21.1 in /usr/local/lib/python3.10/dist-packages (from requests<3.0.0,>=2.13.0->spacy<3.8.0,>=3.7.0->pt-core-news-sm==3.7.0) (2.2.3)\n",
            "Requirement already satisfied: certifi>=2017.4.17 in /usr/local/lib/python3.10/dist-packages (from requests<3.0.0,>=2.13.0->spacy<3.8.0,>=3.7.0->pt-core-news-sm==3.7.0) (2024.8.30)\n",
            "Requirement already satisfied: blis<0.8.0,>=0.7.8 in /usr/local/lib/python3.10/dist-packages (from thinc<8.3.0,>=8.2.2->spacy<3.8.0,>=3.7.0->pt-core-news-sm==3.7.0) (0.7.11)\n",
            "Requirement already satisfied: confection<1.0.0,>=0.0.1 in /usr/local/lib/python3.10/dist-packages (from thinc<8.3.0,>=8.2.2->spacy<3.8.0,>=3.7.0->pt-core-news-sm==3.7.0) (0.1.5)\n",
            "Requirement already satisfied: click>=8.0.0 in /usr/local/lib/python3.10/dist-packages (from typer<1.0.0,>=0.3.0->spacy<3.8.0,>=3.7.0->pt-core-news-sm==3.7.0) (8.1.7)\n",
            "Requirement already satisfied: shellingham>=1.3.0 in /usr/local/lib/python3.10/dist-packages (from typer<1.0.0,>=0.3.0->spacy<3.8.0,>=3.7.0->pt-core-news-sm==3.7.0) (1.5.4)\n",
            "Requirement already satisfied: rich>=10.11.0 in /usr/local/lib/python3.10/dist-packages (from typer<1.0.0,>=0.3.0->spacy<3.8.0,>=3.7.0->pt-core-news-sm==3.7.0) (13.9.1)\n",
            "Requirement already satisfied: cloudpathlib<1.0.0,>=0.7.0 in /usr/local/lib/python3.10/dist-packages (from weasel<0.5.0,>=0.1.0->spacy<3.8.0,>=3.7.0->pt-core-news-sm==3.7.0) (0.19.0)\n",
            "Requirement already satisfied: smart-open<8.0.0,>=5.2.1 in /usr/local/lib/python3.10/dist-packages (from weasel<0.5.0,>=0.1.0->spacy<3.8.0,>=3.7.0->pt-core-news-sm==3.7.0) (7.0.4)\n",
            "Requirement already satisfied: MarkupSafe>=2.0 in /usr/local/lib/python3.10/dist-packages (from jinja2->spacy<3.8.0,>=3.7.0->pt-core-news-sm==3.7.0) (2.1.5)\n",
            "Requirement already satisfied: marisa-trie>=0.7.7 in /usr/local/lib/python3.10/dist-packages (from language-data>=1.2->langcodes<4.0.0,>=3.2.0->spacy<3.8.0,>=3.7.0->pt-core-news-sm==3.7.0) (1.2.0)\n",
            "Requirement already satisfied: markdown-it-py>=2.2.0 in /usr/local/lib/python3.10/dist-packages (from rich>=10.11.0->typer<1.0.0,>=0.3.0->spacy<3.8.0,>=3.7.0->pt-core-news-sm==3.7.0) (3.0.0)\n",
            "Requirement already satisfied: pygments<3.0.0,>=2.13.0 in /usr/local/lib/python3.10/dist-packages (from rich>=10.11.0->typer<1.0.0,>=0.3.0->spacy<3.8.0,>=3.7.0->pt-core-news-sm==3.7.0) (2.18.0)\n",
            "Requirement already satisfied: wrapt in /usr/local/lib/python3.10/dist-packages (from smart-open<8.0.0,>=5.2.1->weasel<0.5.0,>=0.1.0->spacy<3.8.0,>=3.7.0->pt-core-news-sm==3.7.0) (1.16.0)\n",
            "Requirement already satisfied: mdurl~=0.1 in /usr/local/lib/python3.10/dist-packages (from markdown-it-py>=2.2.0->rich>=10.11.0->typer<1.0.0,>=0.3.0->spacy<3.8.0,>=3.7.0->pt-core-news-sm==3.7.0) (0.1.2)\n",
            "\u001b[38;5;2m✔ Download and installation successful\u001b[0m\n",
            "You can now load the package via spacy.load('pt_core_news_sm')\n",
            "\u001b[38;5;3m⚠ Restart to reload dependencies\u001b[0m\n",
            "If you are in a Jupyter or Colab notebook, you may need to restart Python in\n",
            "order to load all the package's dependencies. You can do this by selecting the\n",
            "'Restart kernel' or 'Restart runtime' option.\n",
            "Requirement already satisfied: enelvo in /usr/local/lib/python3.10/dist-packages (0.15)\n",
            "Requirement already satisfied: editdistance>=0.6.0 in /usr/local/lib/python3.10/dist-packages (from enelvo) (0.8.1)\n",
            "Requirement already satisfied: emoji==2.2.0 in /usr/local/lib/python3.10/dist-packages (from enelvo) (2.2.0)\n",
            "Requirement already satisfied: gensim>=4.1.2 in /usr/local/lib/python3.10/dist-packages (from enelvo) (4.3.3)\n",
            "Requirement already satisfied: numpy>=1.19.5 in /usr/local/lib/python3.10/dist-packages (from enelvo) (1.26.4)\n",
            "Requirement already satisfied: tabulate>=0.8.9 in /usr/local/lib/python3.10/dist-packages (from enelvo) (0.9.0)\n",
            "Requirement already satisfied: scipy<1.14.0,>=1.7.0 in /usr/local/lib/python3.10/dist-packages (from gensim>=4.1.2->enelvo) (1.13.1)\n",
            "Requirement already satisfied: smart-open>=1.8.1 in /usr/local/lib/python3.10/dist-packages (from gensim>=4.1.2->enelvo) (7.0.4)\n",
            "Requirement already satisfied: wrapt in /usr/local/lib/python3.10/dist-packages (from smart-open>=1.8.1->gensim>=4.1.2->enelvo) (1.16.0)\n"
          ]
        }
      ],
      "source": [
        "!python -m spacy download pt_core_news_sm\n",
        "!pip install enelvo"
      ]
    },
    {
      "cell_type": "code",
      "execution_count": 28,
      "metadata": {
        "colab": {
          "base_uri": "https://localhost:8080/"
        },
        "id": "j-twBc2TRpYu",
        "outputId": "a9e0bb80-e819-44da-c83c-c6395157e375"
      },
      "outputs": [
        {
          "output_type": "stream",
          "name": "stderr",
          "text": [
            "[nltk_data] Downloading package stopwords to /root/nltk_data...\n",
            "[nltk_data]   Package stopwords is already up-to-date!\n"
          ]
        }
      ],
      "source": [
        "from google.colab import drive\n",
        "from enelvo.normaliser import Normaliser\n",
        "import re\n",
        "import pandas as pd\n",
        "import spacy\n",
        "import nltk\n",
        "\n",
        "nltk.download('stopwords')\n",
        "\n",
        "from nltk.corpus import stopwords"
      ]
    },
    {
      "cell_type": "code",
      "execution_count": 29,
      "metadata": {
        "colab": {
          "base_uri": "https://localhost:8080/"
        },
        "id": "XnoPT8gnRprN",
        "outputId": "78890f60-588f-42f0-d690-9ddadfb983fa"
      },
      "outputs": [
        {
          "output_type": "stream",
          "name": "stdout",
          "text": [
            "Drive already mounted at /content/drive; to attempt to forcibly remount, call drive.mount(\"/content/drive\", force_remount=True).\n"
          ]
        }
      ],
      "source": [
        "drive.mount('/content/drive')"
      ]
    },
    {
      "cell_type": "code",
      "execution_count": 30,
      "metadata": {
        "colab": {
          "base_uri": "https://localhost:8080/"
        },
        "id": "epMANJawWXim",
        "outputId": "dece4882-ccfe-47c9-9beb-d993bd4a2e84"
      },
      "outputs": [
        {
          "output_type": "stream",
          "name": "stderr",
          "text": [
            "/usr/local/lib/python3.10/dist-packages/spacy/util.py:1740: UserWarning: [W111] Jupyter notebook detected: if using `prefer_gpu()` or `require_gpu()`, include it in the same cell right before `spacy.load()` to ensure that the model is loaded on the correct device. More information: http://spacy.io/usage/v3#jupyter-notebook-gpu\n",
            "  warnings.warn(Warnings.W111)\n"
          ]
        }
      ],
      "source": [
        "nlp_pt = spacy.load(\"pt_core_news_sm\")"
      ]
    },
    {
      "cell_type": "markdown",
      "metadata": {
        "id": "4zKtGlTO_k37"
      },
      "source": [
        "# Pré-processamento"
      ]
    },
    {
      "cell_type": "markdown",
      "metadata": {
        "id": "TgQ368mGxOdd"
      },
      "source": [
        "## 0) Base de Dados"
      ]
    },
    {
      "cell_type": "code",
      "execution_count": 31,
      "metadata": {
        "colab": {
          "base_uri": "https://localhost:8080/",
          "height": 206
        },
        "collapsed": true,
        "id": "LsvYNwsYT2oa",
        "outputId": "05052eb6-6650-48fa-85b4-1a6562b0be48"
      },
      "outputs": [
        {
          "output_type": "execute_result",
          "data": {
            "text/plain": [
              "   No                              Intencao  \\\n",
              "0   1                        Como depositar   \n",
              "1   2                    Como fazer remessa   \n",
              "2   3                      Tempo de remessa   \n",
              "3   4  Pedido de envio via metodo \"ByPhone\"   \n",
              "4   5  Pedido de envio via metodo \"ByPhone\"   \n",
              "\n",
              "                                            Pergunta  \\\n",
              "0  Boa dia.tudo bem?eu gostaria de saber sobre aq...   \n",
              "1                     Como enviar dinheiro do Japão?   \n",
              "2  Quanto tempo levará para o beneficiário recebe...   \n",
              "3  Boa tarde\\nAcabei de fazer a transferência de ...   \n",
              "4  Poderia fazer a remessa de 22yenes para o BBB ...   \n",
              "\n",
              "                                            Resposta  \n",
              "0  Bom dia! Sim, o sr pode utilizar o cartão de d...  \n",
              "1  Para se inscrever no serviço de remessa, por f...  \n",
              "2  Via de regra, as remessas serão pagas via PIX ...  \n",
              "3  iremos processar a sua solicitacao.\\nMuito obr...  \n",
              "4  iremos processar a sua solicitacao.\\nMuito obr...  "
            ],
            "text/html": [
              "\n",
              "  <div id=\"df-4239b00b-58d1-40e0-a35f-a75157bb1a07\" class=\"colab-df-container\">\n",
              "    <div>\n",
              "<style scoped>\n",
              "    .dataframe tbody tr th:only-of-type {\n",
              "        vertical-align: middle;\n",
              "    }\n",
              "\n",
              "    .dataframe tbody tr th {\n",
              "        vertical-align: top;\n",
              "    }\n",
              "\n",
              "    .dataframe thead th {\n",
              "        text-align: right;\n",
              "    }\n",
              "</style>\n",
              "<table border=\"1\" class=\"dataframe\">\n",
              "  <thead>\n",
              "    <tr style=\"text-align: right;\">\n",
              "      <th></th>\n",
              "      <th>No</th>\n",
              "      <th>Intencao</th>\n",
              "      <th>Pergunta</th>\n",
              "      <th>Resposta</th>\n",
              "    </tr>\n",
              "  </thead>\n",
              "  <tbody>\n",
              "    <tr>\n",
              "      <th>0</th>\n",
              "      <td>1</td>\n",
              "      <td>Como depositar</td>\n",
              "      <td>Boa dia.tudo bem?eu gostaria de saber sobre aq...</td>\n",
              "      <td>Bom dia! Sim, o sr pode utilizar o cartão de d...</td>\n",
              "    </tr>\n",
              "    <tr>\n",
              "      <th>1</th>\n",
              "      <td>2</td>\n",
              "      <td>Como fazer remessa</td>\n",
              "      <td>Como enviar dinheiro do Japão?</td>\n",
              "      <td>Para se inscrever no serviço de remessa, por f...</td>\n",
              "    </tr>\n",
              "    <tr>\n",
              "      <th>2</th>\n",
              "      <td>3</td>\n",
              "      <td>Tempo de remessa</td>\n",
              "      <td>Quanto tempo levará para o beneficiário recebe...</td>\n",
              "      <td>Via de regra, as remessas serão pagas via PIX ...</td>\n",
              "    </tr>\n",
              "    <tr>\n",
              "      <th>3</th>\n",
              "      <td>4</td>\n",
              "      <td>Pedido de envio via metodo \"ByPhone\"</td>\n",
              "      <td>Boa tarde\\nAcabei de fazer a transferência de ...</td>\n",
              "      <td>iremos processar a sua solicitacao.\\nMuito obr...</td>\n",
              "    </tr>\n",
              "    <tr>\n",
              "      <th>4</th>\n",
              "      <td>5</td>\n",
              "      <td>Pedido de envio via metodo \"ByPhone\"</td>\n",
              "      <td>Poderia fazer a remessa de 22yenes para o BBB ...</td>\n",
              "      <td>iremos processar a sua solicitacao.\\nMuito obr...</td>\n",
              "    </tr>\n",
              "  </tbody>\n",
              "</table>\n",
              "</div>\n",
              "    <div class=\"colab-df-buttons\">\n",
              "\n",
              "  <div class=\"colab-df-container\">\n",
              "    <button class=\"colab-df-convert\" onclick=\"convertToInteractive('df-4239b00b-58d1-40e0-a35f-a75157bb1a07')\"\n",
              "            title=\"Convert this dataframe to an interactive table.\"\n",
              "            style=\"display:none;\">\n",
              "\n",
              "  <svg xmlns=\"http://www.w3.org/2000/svg\" height=\"24px\" viewBox=\"0 -960 960 960\">\n",
              "    <path d=\"M120-120v-720h720v720H120Zm60-500h600v-160H180v160Zm220 220h160v-160H400v160Zm0 220h160v-160H400v160ZM180-400h160v-160H180v160Zm440 0h160v-160H620v160ZM180-180h160v-160H180v160Zm440 0h160v-160H620v160Z\"/>\n",
              "  </svg>\n",
              "    </button>\n",
              "\n",
              "  <style>\n",
              "    .colab-df-container {\n",
              "      display:flex;\n",
              "      gap: 12px;\n",
              "    }\n",
              "\n",
              "    .colab-df-convert {\n",
              "      background-color: #E8F0FE;\n",
              "      border: none;\n",
              "      border-radius: 50%;\n",
              "      cursor: pointer;\n",
              "      display: none;\n",
              "      fill: #1967D2;\n",
              "      height: 32px;\n",
              "      padding: 0 0 0 0;\n",
              "      width: 32px;\n",
              "    }\n",
              "\n",
              "    .colab-df-convert:hover {\n",
              "      background-color: #E2EBFA;\n",
              "      box-shadow: 0px 1px 2px rgba(60, 64, 67, 0.3), 0px 1px 3px 1px rgba(60, 64, 67, 0.15);\n",
              "      fill: #174EA6;\n",
              "    }\n",
              "\n",
              "    .colab-df-buttons div {\n",
              "      margin-bottom: 4px;\n",
              "    }\n",
              "\n",
              "    [theme=dark] .colab-df-convert {\n",
              "      background-color: #3B4455;\n",
              "      fill: #D2E3FC;\n",
              "    }\n",
              "\n",
              "    [theme=dark] .colab-df-convert:hover {\n",
              "      background-color: #434B5C;\n",
              "      box-shadow: 0px 1px 3px 1px rgba(0, 0, 0, 0.15);\n",
              "      filter: drop-shadow(0px 1px 2px rgba(0, 0, 0, 0.3));\n",
              "      fill: #FFFFFF;\n",
              "    }\n",
              "  </style>\n",
              "\n",
              "    <script>\n",
              "      const buttonEl =\n",
              "        document.querySelector('#df-4239b00b-58d1-40e0-a35f-a75157bb1a07 button.colab-df-convert');\n",
              "      buttonEl.style.display =\n",
              "        google.colab.kernel.accessAllowed ? 'block' : 'none';\n",
              "\n",
              "      async function convertToInteractive(key) {\n",
              "        const element = document.querySelector('#df-4239b00b-58d1-40e0-a35f-a75157bb1a07');\n",
              "        const dataTable =\n",
              "          await google.colab.kernel.invokeFunction('convertToInteractive',\n",
              "                                                    [key], {});\n",
              "        if (!dataTable) return;\n",
              "\n",
              "        const docLinkHtml = 'Like what you see? Visit the ' +\n",
              "          '<a target=\"_blank\" href=https://colab.research.google.com/notebooks/data_table.ipynb>data table notebook</a>'\n",
              "          + ' to learn more about interactive tables.';\n",
              "        element.innerHTML = '';\n",
              "        dataTable['output_type'] = 'display_data';\n",
              "        await google.colab.output.renderOutput(dataTable, element);\n",
              "        const docLink = document.createElement('div');\n",
              "        docLink.innerHTML = docLinkHtml;\n",
              "        element.appendChild(docLink);\n",
              "      }\n",
              "    </script>\n",
              "  </div>\n",
              "\n",
              "\n",
              "<div id=\"df-b8f957a5-98d1-4f6b-8256-abb9ac79ba9d\">\n",
              "  <button class=\"colab-df-quickchart\" onclick=\"quickchart('df-b8f957a5-98d1-4f6b-8256-abb9ac79ba9d')\"\n",
              "            title=\"Suggest charts\"\n",
              "            style=\"display:none;\">\n",
              "\n",
              "<svg xmlns=\"http://www.w3.org/2000/svg\" height=\"24px\"viewBox=\"0 0 24 24\"\n",
              "     width=\"24px\">\n",
              "    <g>\n",
              "        <path d=\"M19 3H5c-1.1 0-2 .9-2 2v14c0 1.1.9 2 2 2h14c1.1 0 2-.9 2-2V5c0-1.1-.9-2-2-2zM9 17H7v-7h2v7zm4 0h-2V7h2v10zm4 0h-2v-4h2v4z\"/>\n",
              "    </g>\n",
              "</svg>\n",
              "  </button>\n",
              "\n",
              "<style>\n",
              "  .colab-df-quickchart {\n",
              "      --bg-color: #E8F0FE;\n",
              "      --fill-color: #1967D2;\n",
              "      --hover-bg-color: #E2EBFA;\n",
              "      --hover-fill-color: #174EA6;\n",
              "      --disabled-fill-color: #AAA;\n",
              "      --disabled-bg-color: #DDD;\n",
              "  }\n",
              "\n",
              "  [theme=dark] .colab-df-quickchart {\n",
              "      --bg-color: #3B4455;\n",
              "      --fill-color: #D2E3FC;\n",
              "      --hover-bg-color: #434B5C;\n",
              "      --hover-fill-color: #FFFFFF;\n",
              "      --disabled-bg-color: #3B4455;\n",
              "      --disabled-fill-color: #666;\n",
              "  }\n",
              "\n",
              "  .colab-df-quickchart {\n",
              "    background-color: var(--bg-color);\n",
              "    border: none;\n",
              "    border-radius: 50%;\n",
              "    cursor: pointer;\n",
              "    display: none;\n",
              "    fill: var(--fill-color);\n",
              "    height: 32px;\n",
              "    padding: 0;\n",
              "    width: 32px;\n",
              "  }\n",
              "\n",
              "  .colab-df-quickchart:hover {\n",
              "    background-color: var(--hover-bg-color);\n",
              "    box-shadow: 0 1px 2px rgba(60, 64, 67, 0.3), 0 1px 3px 1px rgba(60, 64, 67, 0.15);\n",
              "    fill: var(--button-hover-fill-color);\n",
              "  }\n",
              "\n",
              "  .colab-df-quickchart-complete:disabled,\n",
              "  .colab-df-quickchart-complete:disabled:hover {\n",
              "    background-color: var(--disabled-bg-color);\n",
              "    fill: var(--disabled-fill-color);\n",
              "    box-shadow: none;\n",
              "  }\n",
              "\n",
              "  .colab-df-spinner {\n",
              "    border: 2px solid var(--fill-color);\n",
              "    border-color: transparent;\n",
              "    border-bottom-color: var(--fill-color);\n",
              "    animation:\n",
              "      spin 1s steps(1) infinite;\n",
              "  }\n",
              "\n",
              "  @keyframes spin {\n",
              "    0% {\n",
              "      border-color: transparent;\n",
              "      border-bottom-color: var(--fill-color);\n",
              "      border-left-color: var(--fill-color);\n",
              "    }\n",
              "    20% {\n",
              "      border-color: transparent;\n",
              "      border-left-color: var(--fill-color);\n",
              "      border-top-color: var(--fill-color);\n",
              "    }\n",
              "    30% {\n",
              "      border-color: transparent;\n",
              "      border-left-color: var(--fill-color);\n",
              "      border-top-color: var(--fill-color);\n",
              "      border-right-color: var(--fill-color);\n",
              "    }\n",
              "    40% {\n",
              "      border-color: transparent;\n",
              "      border-right-color: var(--fill-color);\n",
              "      border-top-color: var(--fill-color);\n",
              "    }\n",
              "    60% {\n",
              "      border-color: transparent;\n",
              "      border-right-color: var(--fill-color);\n",
              "    }\n",
              "    80% {\n",
              "      border-color: transparent;\n",
              "      border-right-color: var(--fill-color);\n",
              "      border-bottom-color: var(--fill-color);\n",
              "    }\n",
              "    90% {\n",
              "      border-color: transparent;\n",
              "      border-bottom-color: var(--fill-color);\n",
              "    }\n",
              "  }\n",
              "</style>\n",
              "\n",
              "  <script>\n",
              "    async function quickchart(key) {\n",
              "      const quickchartButtonEl =\n",
              "        document.querySelector('#' + key + ' button');\n",
              "      quickchartButtonEl.disabled = true;  // To prevent multiple clicks.\n",
              "      quickchartButtonEl.classList.add('colab-df-spinner');\n",
              "      try {\n",
              "        const charts = await google.colab.kernel.invokeFunction(\n",
              "            'suggestCharts', [key], {});\n",
              "      } catch (error) {\n",
              "        console.error('Error during call to suggestCharts:', error);\n",
              "      }\n",
              "      quickchartButtonEl.classList.remove('colab-df-spinner');\n",
              "      quickchartButtonEl.classList.add('colab-df-quickchart-complete');\n",
              "    }\n",
              "    (() => {\n",
              "      let quickchartButtonEl =\n",
              "        document.querySelector('#df-b8f957a5-98d1-4f6b-8256-abb9ac79ba9d button');\n",
              "      quickchartButtonEl.style.display =\n",
              "        google.colab.kernel.accessAllowed ? 'block' : 'none';\n",
              "    })();\n",
              "  </script>\n",
              "</div>\n",
              "\n",
              "    </div>\n",
              "  </div>\n"
            ],
            "application/vnd.google.colaboratory.intrinsic+json": {
              "type": "dataframe",
              "variable_name": "chats_clients",
              "summary": "{\n  \"name\": \"chats_clients\",\n  \"rows\": 505,\n  \"fields\": [\n    {\n      \"column\": \"No\",\n      \"properties\": {\n        \"dtype\": \"number\",\n        \"std\": 145,\n        \"min\": 1,\n        \"max\": 505,\n        \"num_unique_values\": 505,\n        \"samples\": [\n          174,\n          275,\n          491\n        ],\n        \"semantic_type\": \"\",\n        \"description\": \"\"\n      }\n    },\n    {\n      \"column\": \"Intencao\",\n      \"properties\": {\n        \"dtype\": \"category\",\n        \"num_unique_values\": 18,\n        \"samples\": [\n          \"Como depositar\",\n          \"Como fazer remessa\",\n          \"Solicitacao de cartao de remessas\"\n        ],\n        \"semantic_type\": \"\",\n        \"description\": \"\"\n      }\n    },\n    {\n      \"column\": \"Pergunta\",\n      \"properties\": {\n        \"dtype\": \"string\",\n        \"num_unique_values\": 437,\n        \"samples\": [\n          \"Ol\\u00e1 bom dia, fiz a solicita\\u00e7\\u00e3o de uma remessa para o Brasil e ainda n\\u00e3o recebi o dep\\u00f3sito do valor\",\n          \"Boa tarde\\n250 reais\\nQuanto preciso depositar correio\\nOnegay\",\n          \"Bom dia. Fiz remessa para o Vietn\\u00e3 hoje \\u00e0s 11:11 AM e o benefici\\u00e1rio ainda n\\u00e3o recebeu. Gostaria de saber o motivo. grato\"\n        ],\n        \"semantic_type\": \"\",\n        \"description\": \"\"\n      }\n    },\n    {\n      \"column\": \"Resposta\",\n      \"properties\": {\n        \"dtype\": \"string\",\n        \"num_unique_values\": 417,\n        \"samples\": [\n          \"Boa tarde!\\n\\nNa maioria dos aparelhos o leitor est\\u00e1 localizado na parte superior. Por favor, tente inclinar o celular de modo que a parte superior do seu celular fique bem pr\\u00f3ximo ao seu zairy card, e mantenha a posi\\u00e7\\u00e3o por alguns segundos at\\u00e9 que carregue a informa\\u00e7\\u00e3o.\\nTemos v\\u00eddeos que ajudam os clientes a fazerem as inscri\\u00e7\\u00f5es.\\n\\nCom aparelhos de celulares com o novo sistema NFC e para aparelhos que n\\u00e3o possuem o sistema NFC.\\n- Com o sistema NFC: https://www.youtube.com/watch?v=U_jAVo2qYt4\\n- Sem o sistema NFC: https://www.youtube.com/watch?v=tc8yeWvQdlw&t=143s\\nQualquer d\\u00favida estamos \\u00e0 disposi\\u00e7\\u00e3o.\\nObrigado.\",\n          \"Boa tarde,\\nO banco informou que ficou pendente por dados divergentes.\",\n          \"Boa tarde\\nA sua remessa esta processando.\\nEnviamos uma mensagem ao nosso correspondente no Brasil, para verificar se houve algum problema no pagamento.\\nPor favor, aguarde.\\nQualquer d\\u00favida estamos \\u00e0 disposi\\u00e7\\u00e3o.\\n\\nObrigada.\"\n        ],\n        \"semantic_type\": \"\",\n        \"description\": \"\"\n      }\n    }\n  ]\n}"
            }
          },
          "metadata": {},
          "execution_count": 31
        }
      ],
      "source": [
        "norm = Normaliser(tokenizer='readable')\n",
        "chats_clients = pd.read_csv('/content/drive/Shareddrives/grupo3moshi/chats_clients.csv')\n",
        "chats_clients.head()"
      ]
    },
    {
      "cell_type": "code",
      "execution_count": 32,
      "metadata": {
        "id": "CCR35ieaUElp"
      },
      "outputs": [],
      "source": [
        "chats_clients.fillna('erro ao processar a pergunta', inplace=True)"
      ]
    },
    {
      "cell_type": "markdown",
      "source": [
        "### 0.1) Correção de gramática e erros de digitação\n",
        "\n",
        "Existem algumas palavras escritas erradas e erros de digitação encontrados durante a análise exploratória. Por isso, foi necessário essa fase de correção de gramática e erros de digitação."
      ],
      "metadata": {
        "id": "VB45HodmKJoM"
      }
    },
    {
      "cell_type": "code",
      "execution_count": 33,
      "metadata": {
        "id": "OoHXgLYBUJC0"
      },
      "outputs": [],
      "source": [
        "def correct_grammar(text):\n",
        "  return norm.normalise(text)"
      ]
    },
    {
      "cell_type": "markdown",
      "source": [
        "Resultado Esperado\n",
        "\n",
        "```\n",
        "como faço depósito no japão\n",
        "boa tarde\n",
        "quanto tempo levará para o beneficiário receber o dinheiro no brasil ?\n",
        "```"
      ],
      "metadata": {
        "id": "EtFpZA9tae3M"
      }
    },
    {
      "cell_type": "code",
      "source": [
        "texts_with_errors = [\"Como fasso depósito no Japão\", \"Boaa tarde\", \"Quanto tempo levará para o beneficiário receber o dinhero no Brasil?\"]\n",
        "\n",
        "for i in range(len(texts_with_errors)):\n",
        "    print(f\"Frase {i}: {correct_grammar(texts_with_errors[i])}\")"
      ],
      "metadata": {
        "colab": {
          "base_uri": "https://localhost:8080/"
        },
        "id": "uDsXwPVExTQx",
        "outputId": "c25d8c2d-6984-4eb7-fde6-aa55d2fcc648"
      },
      "execution_count": 34,
      "outputs": [
        {
          "output_type": "stream",
          "name": "stdout",
          "text": [
            "Frase 0: como faço depósito no japão\n",
            "Frase 1: boa tarde\n",
            "Frase 2: quanto tempo levará para o beneficiário receber o dinheiro no brasil ?\n"
          ]
        }
      ]
    },
    {
      "cell_type": "markdown",
      "metadata": {
        "id": "lkatDnHY_ojG"
      },
      "source": [
        "## 1) Reconhecimento de Nomes de Entidades\n",
        "\n",
        "Mais informações sobre a implementação e a técnica podem ser obtidas no [Notebook Python da implementação do NER](./NER_PreProcessamento.ipynb)"
      ]
    },
    {
      "cell_type": "code",
      "execution_count": 35,
      "metadata": {
        "id": "d3E1SpnV8WF_"
      },
      "outputs": [],
      "source": [
        "def extract_ents(text):\n",
        "    # Verify if it is a valid text\n",
        "    if not isinstance(text, str):\n",
        "        return []\n",
        "\n",
        "    #  Use the portuguese model to process the text\n",
        "    doc_pt = nlp_pt(text)\n",
        "\n",
        "    # Place named entities in a dictionary\n",
        "    ents = [{f'{ent.text}': ent.label_} for ent in doc_pt.ents]\n",
        "    return ents"
      ]
    },
    {
      "cell_type": "markdown",
      "source": [
        "Resultado Esperado\n",
        "\n",
        "```\n",
        "[{'japão': 'LOC'}]\n",
        "[]\n",
        "[{'brasil': 'LOC'}]\n",
        "```"
      ],
      "metadata": {
        "id": "RcYFlKdraV5D"
      }
    },
    {
      "cell_type": "code",
      "source": [
        "corrected_texts = [correct_grammar(text) for text in texts_with_errors]\n",
        "\n",
        "for text in corrected_texts:\n",
        "    result = extract_ents(text)\n",
        "    print(f\"Texto: {text}, Entidades: {result}\")"
      ],
      "metadata": {
        "colab": {
          "base_uri": "https://localhost:8080/"
        },
        "id": "P6uKWThBMMPM",
        "outputId": "91650a2f-6250-4553-a8c0-4a6a38160f21"
      },
      "execution_count": 36,
      "outputs": [
        {
          "output_type": "stream",
          "name": "stdout",
          "text": [
            "Texto: como faço depósito no japão, Entidades: [{'japão': 'LOC'}]\n",
            "Texto: boa tarde, Entidades: []\n",
            "Texto: quanto tempo levará para o beneficiário receber o dinheiro no brasil ?, Entidades: [{'brasil': 'LOC'}]\n"
          ]
        }
      ]
    },
    {
      "cell_type": "markdown",
      "metadata": {
        "id": "RCV_tImtzV81"
      },
      "source": [
        "## 2) Tokenização"
      ]
    },
    {
      "cell_type": "markdown",
      "metadata": {
        "id": "_YOc1N8EzV9E"
      },
      "source": [
        "A Tokenização consiste no processo de divisão de um texto em partes menores, tokens, sejam elas palavras, caracteres ou até frases, de forma que o modelo de LLM possa processar e manipular os tokens com os algoritmos. Esse processo é a primeira etapa do treinamento do modelo e essencial para o resultado das outras etapas. ([Fonte](https://learn.microsoft.com/pt-br/dotnet/ai/conceptual/understanding-tokens))\n"
      ]
    },
    {
      "cell_type": "code",
      "execution_count": 37,
      "metadata": {
        "id": "669Pla8VzV9E"
      },
      "outputs": [],
      "source": [
        "def tokenize(text):\n",
        "\n",
        "  doc = nlp_pt(text)\n",
        "  tokens = [token.text for token in doc if not token.is_punct]\n",
        "  return tokens"
      ]
    },
    {
      "cell_type": "markdown",
      "source": [
        "Resultado Esperado\n",
        "\n",
        "```\n",
        "['como', 'faço', 'depósito', 'no', 'japão']\n",
        "['boa', 'tarde']\n",
        "['quanto', 'tempo', 'levará', 'para', 'o', 'beneficiário', 'receber', 'o', 'dinheiro', 'no', 'brasil']\n",
        "```"
      ],
      "metadata": {
        "id": "eHHXJCCzaJKO"
      }
    },
    {
      "cell_type": "code",
      "source": [
        "tokens = []\n",
        "for text in corrected_texts:\n",
        "    result = tokenize(text)\n",
        "    tokens.append(result)\n",
        "    print(f\"Texto: {text}, Tokenizado: {result}\")"
      ],
      "metadata": {
        "colab": {
          "base_uri": "https://localhost:8080/"
        },
        "id": "uy_qW8yeN33c",
        "outputId": "45b835a1-996b-4181-87c5-432402164f70"
      },
      "execution_count": 38,
      "outputs": [
        {
          "output_type": "stream",
          "name": "stdout",
          "text": [
            "Texto: como faço depósito no japão, Tokenizado: ['como', 'faço', 'depósito', 'no', 'japão']\n",
            "Texto: boa tarde, Tokenizado: ['boa', 'tarde']\n",
            "Texto: quanto tempo levará para o beneficiário receber o dinheiro no brasil ?, Tokenizado: ['quanto', 'tempo', 'levará', 'para', 'o', 'beneficiário', 'receber', 'o', 'dinheiro', 'no', 'brasil']\n"
          ]
        }
      ]
    },
    {
      "cell_type": "markdown",
      "metadata": {
        "id": "SEfUzfQR_slx"
      },
      "source": [
        "## 3) Remoção de Stop Words\n"
      ]
    },
    {
      "cell_type": "markdown",
      "metadata": {
        "id": "y3lATBMLM4Hx"
      },
      "source": [
        "A etapa de remoção de Stop Words é um processo de refinamento e eliminação de palavras irrelevantes para o processamento do modelo de LLM, ao consultar em uma lista de palavras irrelevantes no idioma em questão. Assim, a dimensionalidade do problema é diminuída e a eficiência do modelo aumentada com a eliminação de palavras irrelevantes, como \"a\", \"e\", \"de\". ([Fonte](https://fineproxy.org/pt/wiki/stopword-removal/#:~:text=A%20remo%C3%A7%C3%A3o%20de%20palavras%20de,automatizado%20e%20classifica%C3%A7%C3%A3o%20de%20textos.))\n",
        "\n",
        "Mais informações sobre a implementação e a técnica podem ser obtidas no [Notebook Python - Stop Words](./StopWords.ipynb)"
      ]
    },
    {
      "cell_type": "code",
      "execution_count": 39,
      "metadata": {
        "id": "DBRP0kEm6lef"
      },
      "outputs": [],
      "source": [
        "stop_words = set(stopwords.words('portuguese'))\n",
        "def remover_stop_words(tokens):\n",
        "  filtered_tokens = [word for word in tokens if word.lower() not in stop_words]\n",
        "  return filtered_tokens"
      ]
    },
    {
      "cell_type": "markdown",
      "source": [
        "Resultado Esperado\n",
        "\n",
        "```\n",
        "['faço', 'depósito', 'japão']\n",
        "['boa', 'tarde']\n",
        "['quanto', 'tempo', 'levará', 'beneficiário', 'receber', 'dinheiro', 'brasil']\n",
        "```"
      ],
      "metadata": {
        "id": "tRTAKkGdZ3SO"
      }
    },
    {
      "cell_type": "code",
      "source": [
        "tokens_sem_stop_words = []\n",
        "for token in tokens:\n",
        "    sem_stop_words = remover_stop_words(token)\n",
        "    tokens_sem_stop_words.append(sem_stop_words)\n",
        "    print(f\"Tokens com Stop Words: {token}, Sem Stop Words: {sem_stop_words}\")"
      ],
      "metadata": {
        "colab": {
          "base_uri": "https://localhost:8080/"
        },
        "id": "ld3ueOyYOcs3",
        "outputId": "091cedea-990b-4f8a-b541-862ea6a2146e"
      },
      "execution_count": 40,
      "outputs": [
        {
          "output_type": "stream",
          "name": "stdout",
          "text": [
            "Tokens com Stop Words: ['como', 'faço', 'depósito', 'no', 'japão'], Sem Stop Words: ['faço', 'depósito', 'japão']\n",
            "Tokens com Stop Words: ['boa', 'tarde'], Sem Stop Words: ['boa', 'tarde']\n",
            "Tokens com Stop Words: ['quanto', 'tempo', 'levará', 'para', 'o', 'beneficiário', 'receber', 'o', 'dinheiro', 'no', 'brasil'], Sem Stop Words: ['quanto', 'tempo', 'levará', 'beneficiário', 'receber', 'dinheiro', 'brasil']\n"
          ]
        }
      ]
    },
    {
      "cell_type": "markdown",
      "metadata": {
        "id": "tENoHhQzEHRH"
      },
      "source": [
        "## 4) Lematização"
      ]
    },
    {
      "cell_type": "markdown",
      "metadata": {
        "id": "e1vH5WALM7CT"
      },
      "source": [
        "A Lematização é o processo de extrair o infinitivo dos verbos, de forma que haja uma padronização na utilização das palavras. Isso é importante para a rede reconhecer de forma mais simples os padrões entre os tokens. ([Fonte](https://blog.bitso.com/pt-br/criptomoedas/diferenca-entre-tokenizacao-e-lematizacao#:~:text=Lematiza%C3%A7%C3%A3o%20%C3%A9%20um%20tipo%20de,fim%20de%20simplificar%20a%20palavra.))\n",
        "\n",
        "Mais informações sobre a implementação e a técnica podem ser obtidas no [Notebook Python - Lematização](./Lematização_e_Steeming_Sprint_1_Pedro_Munhoz.ipynb)"
      ]
    },
    {
      "cell_type": "code",
      "execution_count": 41,
      "metadata": {
        "collapsed": true,
        "id": "VRQTJX2jEI7B"
      },
      "outputs": [],
      "source": [
        "def lemmatize(text):\n",
        "    text = ' '.join(text)\n",
        "    doc = nlp_pt(text)\n",
        "    lemmatized_token = [token.lemma_ for token in doc]\n",
        "\n",
        "    return lemmatized_token"
      ]
    },
    {
      "cell_type": "markdown",
      "source": [
        "Resultado Esperado\n",
        "\n",
        "```\n",
        "['fazer', 'depósito', 'Japão']\n",
        "['bom', 'tarde']\n",
        "['quanto', 'tempo', 'levar', 'beneficiário', 'receber', 'dinheiro', 'Brasil']\n",
        "\n",
        "```\n",
        "\n"
      ],
      "metadata": {
        "id": "QoIgeRfUZV9M"
      }
    },
    {
      "cell_type": "code",
      "source": [
        "for i in range(len(tokens_sem_stop_words)):\n",
        "    tokens_lematizados = lemmatize(tokens_sem_stop_words[i])\n",
        "    print(f\"Frase {i}: {tokens_lematizados}\")"
      ],
      "metadata": {
        "colab": {
          "base_uri": "https://localhost:8080/"
        },
        "id": "KpKD9qeHw4kz",
        "outputId": "76078e61-1ee3-4e27-f1e8-fcd308aa2c67"
      },
      "execution_count": 42,
      "outputs": [
        {
          "output_type": "stream",
          "name": "stdout",
          "text": [
            "Frase 0: ['fazer', 'depósito', 'Japão']\n",
            "Frase 1: ['bom', 'tarde']\n",
            "Frase 2: ['quanto', 'tempo', 'levar', 'beneficiário', 'receber', 'dinheiro', 'Brasil']\n"
          ]
        }
      ]
    },
    {
      "cell_type": "markdown",
      "metadata": {
        "id": "pbDudgBXITkr"
      },
      "source": [
        "## 5) Pipeline completa"
      ]
    },
    {
      "cell_type": "markdown",
      "metadata": {
        "id": "KfLLR7grIXcy"
      },
      "source": [
        "A fim de simplificar o pré-processamento, junta-se todos os processos empregados na seguite função até então (em desenvolvimento)"
      ]
    },
    {
      "cell_type": "code",
      "execution_count": 43,
      "metadata": {
        "id": "ER0CeIwZIWx5"
      },
      "outputs": [],
      "source": [
        "def pre_processamento(df):\n",
        "  df['Pergunta'] = df['Pergunta'].apply(correct_grammar)\n",
        "  df['Pergunta - NER'] = df['Pergunta'].apply(extract_ents)\n",
        "  df['Pergunta'] = df['Pergunta'].apply(tokenize)\n",
        "  df['Pergunta'] = df['Pergunta'].apply(remover_stop_words)\n",
        "  df['Pergunta'] = df['Pergunta'].apply(lemmatize)\n",
        "  df['Resposta'] = df['Resposta'].apply(correct_grammar)\n",
        "  df['Resposta - NER'] = df['Resposta'].apply(extract_ents)\n",
        "  df['Resposta'] = df['Resposta'].apply(tokenize)\n",
        "  df['Resposta'] = df['Resposta'].apply(remover_stop_words)\n",
        "  df['Resposta'] = df['Resposta'].apply(lemmatize)\n"
      ]
    },
    {
      "cell_type": "markdown",
      "metadata": {
        "id": "5tgZ5lGjKc6S"
      },
      "source": [
        "### 5.1) Resultado Final"
      ]
    },
    {
      "cell_type": "code",
      "execution_count": 44,
      "metadata": {
        "colab": {
          "base_uri": "https://localhost:8080/",
          "height": 605
        },
        "id": "R3XW7DzUhL_s",
        "outputId": "0f702e6a-b425-446c-ac45-b0e94b1fa579"
      },
      "outputs": [
        {
          "output_type": "stream",
          "name": "stderr",
          "text": [
            "ERROR:enelvo.normaliser:Failed to normalise word \"paypayginkou\"!\n",
            "ERROR:enelvo.normaliser:Failed to normalise word \"onegaishimasu\"!\n",
            "ERROR:enelvo.normaliser:Failed to normalise word \"zayrucard\"!\n",
            "ERROR:enelvo.normaliser:Failed to normalise word \"brastelremit\"!\n",
            "ERROR:enelvo.normaliser:Failed to normalise word \"onegaishimasu\"!\n",
            "ERROR:enelvo.normaliser:Failed to normalise word \"onegaishimasu\"!\n",
            "ERROR:enelvo.normaliser:Failed to normalise word \"mitsuisumitomo\"!\n",
            "ERROR:enelvo.normaliser:Failed to normalise word \"incomodarmuito\"!\n",
            "ERROR:enelvo.normaliser:Failed to normalise word \"onegaishimasu\"!\n",
            "ERROR:enelvo.normaliser:Failed to normalise word \"onegaishimasu\"!\n",
            "ERROR:enelvo.normaliser:Failed to normalise word \"ゆうちょ銀行\"!\n",
            "ERROR:enelvo.normaliser:Failed to normalise word \"horariohttps\"!\n",
            "ERROR:enelvo.normaliser:Failed to normalise word \"brastelremit\"!\n",
            "ERROR:enelvo.normaliser:Failed to normalise word \"horariohttps\"!\n",
            "ERROR:enelvo.normaliser:Failed to normalise word \"brastelremit\"!\n",
            "ERROR:enelvo.normaliser:Failed to normalise word \"horariohttps\"!\n",
            "ERROR:enelvo.normaliser:Failed to normalise word \"brastelremit\"!\n",
            "ERROR:enelvo.normaliser:Failed to normalise word \"horariohttps\"!\n",
            "ERROR:enelvo.normaliser:Failed to normalise word \"brastelremit\"!\n",
            "ERROR:enelvo.normaliser:Failed to normalise word \"horáriohttps\"!\n",
            "ERROR:enelvo.normaliser:Failed to normalise word \"brastelremit\"!\n",
            "ERROR:enelvo.normaliser:Failed to normalise word \"horáriohttps\"!\n",
            "ERROR:enelvo.normaliser:Failed to normalise word \"brastelremit\"!\n"
          ]
        },
        {
          "output_type": "execute_result",
          "data": {
            "text/plain": [
              "   No                              Intencao  \\\n",
              "0   1                        Como depositar   \n",
              "1   2                    Como fazer remessa   \n",
              "2   3                      Tempo de remessa   \n",
              "3   4  Pedido de envio via metodo \"ByPhone\"   \n",
              "4   5  Pedido de envio via metodo \"ByPhone\"   \n",
              "\n",
              "                                            Pergunta  \\\n",
              "0  [bom, dia, tudo, bem, gostar, saber, sobre, ca...   \n",
              "1                          [enviar, dinheiro, Japão]   \n",
              "2  [quanto, tempo, levar, beneficiário, receber, ...   \n",
              "3  [bom, tarde, acabar, fazer, transferência, 22,...   \n",
              "4  [poder, fazer, remesso, 2, 2yenes, bbb, rer, o...   \n",
              "\n",
              "                                            Resposta  \\\n",
              "0  [bom, dia, sim, senhor, poder, utilizar, cartã...   \n",
              "1  [inscrever, serviço, remessar, favor, baixe, a...   \n",
              "2  [via, regro, remesso, pago, ver, pia, dentro, ...   \n",
              "3  [ir, processar, solicitação, obrigado, ótimo, ...   \n",
              "4  [ir, processar, solicitação, obrigado, ótimo, ...   \n",
              "\n",
              "             Pergunta - NER                                Resposta - NER  \n",
              "0  [{'marta verde': 'LOC'}]  [{'bom dia !': 'MISC'}, {'jp bank': 'MISC'}]  \n",
              "1     [{'do japão': 'LOC'}]                    [{'appplication': 'MISC'}]  \n",
              "2                        []                                            []  \n",
              "3                        []                                            []  \n",
              "4         [{'bbb': 'MISC'}]                                            []  "
            ],
            "text/html": [
              "\n",
              "  <div id=\"df-f012c10e-5b30-44f9-bd74-9519ad15637e\" class=\"colab-df-container\">\n",
              "    <div>\n",
              "<style scoped>\n",
              "    .dataframe tbody tr th:only-of-type {\n",
              "        vertical-align: middle;\n",
              "    }\n",
              "\n",
              "    .dataframe tbody tr th {\n",
              "        vertical-align: top;\n",
              "    }\n",
              "\n",
              "    .dataframe thead th {\n",
              "        text-align: right;\n",
              "    }\n",
              "</style>\n",
              "<table border=\"1\" class=\"dataframe\">\n",
              "  <thead>\n",
              "    <tr style=\"text-align: right;\">\n",
              "      <th></th>\n",
              "      <th>No</th>\n",
              "      <th>Intencao</th>\n",
              "      <th>Pergunta</th>\n",
              "      <th>Resposta</th>\n",
              "      <th>Pergunta - NER</th>\n",
              "      <th>Resposta - NER</th>\n",
              "    </tr>\n",
              "  </thead>\n",
              "  <tbody>\n",
              "    <tr>\n",
              "      <th>0</th>\n",
              "      <td>1</td>\n",
              "      <td>Como depositar</td>\n",
              "      <td>[bom, dia, tudo, bem, gostar, saber, sobre, ca...</td>\n",
              "      <td>[bom, dia, sim, senhor, poder, utilizar, cartã...</td>\n",
              "      <td>[{'marta verde': 'LOC'}]</td>\n",
              "      <td>[{'bom dia !': 'MISC'}, {'jp bank': 'MISC'}]</td>\n",
              "    </tr>\n",
              "    <tr>\n",
              "      <th>1</th>\n",
              "      <td>2</td>\n",
              "      <td>Como fazer remessa</td>\n",
              "      <td>[enviar, dinheiro, Japão]</td>\n",
              "      <td>[inscrever, serviço, remessar, favor, baixe, a...</td>\n",
              "      <td>[{'do japão': 'LOC'}]</td>\n",
              "      <td>[{'appplication': 'MISC'}]</td>\n",
              "    </tr>\n",
              "    <tr>\n",
              "      <th>2</th>\n",
              "      <td>3</td>\n",
              "      <td>Tempo de remessa</td>\n",
              "      <td>[quanto, tempo, levar, beneficiário, receber, ...</td>\n",
              "      <td>[via, regro, remesso, pago, ver, pia, dentro, ...</td>\n",
              "      <td>[]</td>\n",
              "      <td>[]</td>\n",
              "    </tr>\n",
              "    <tr>\n",
              "      <th>3</th>\n",
              "      <td>4</td>\n",
              "      <td>Pedido de envio via metodo \"ByPhone\"</td>\n",
              "      <td>[bom, tarde, acabar, fazer, transferência, 22,...</td>\n",
              "      <td>[ir, processar, solicitação, obrigado, ótimo, ...</td>\n",
              "      <td>[]</td>\n",
              "      <td>[]</td>\n",
              "    </tr>\n",
              "    <tr>\n",
              "      <th>4</th>\n",
              "      <td>5</td>\n",
              "      <td>Pedido de envio via metodo \"ByPhone\"</td>\n",
              "      <td>[poder, fazer, remesso, 2, 2yenes, bbb, rer, o...</td>\n",
              "      <td>[ir, processar, solicitação, obrigado, ótimo, ...</td>\n",
              "      <td>[{'bbb': 'MISC'}]</td>\n",
              "      <td>[]</td>\n",
              "    </tr>\n",
              "  </tbody>\n",
              "</table>\n",
              "</div>\n",
              "    <div class=\"colab-df-buttons\">\n",
              "\n",
              "  <div class=\"colab-df-container\">\n",
              "    <button class=\"colab-df-convert\" onclick=\"convertToInteractive('df-f012c10e-5b30-44f9-bd74-9519ad15637e')\"\n",
              "            title=\"Convert this dataframe to an interactive table.\"\n",
              "            style=\"display:none;\">\n",
              "\n",
              "  <svg xmlns=\"http://www.w3.org/2000/svg\" height=\"24px\" viewBox=\"0 -960 960 960\">\n",
              "    <path d=\"M120-120v-720h720v720H120Zm60-500h600v-160H180v160Zm220 220h160v-160H400v160Zm0 220h160v-160H400v160ZM180-400h160v-160H180v160Zm440 0h160v-160H620v160ZM180-180h160v-160H180v160Zm440 0h160v-160H620v160Z\"/>\n",
              "  </svg>\n",
              "    </button>\n",
              "\n",
              "  <style>\n",
              "    .colab-df-container {\n",
              "      display:flex;\n",
              "      gap: 12px;\n",
              "    }\n",
              "\n",
              "    .colab-df-convert {\n",
              "      background-color: #E8F0FE;\n",
              "      border: none;\n",
              "      border-radius: 50%;\n",
              "      cursor: pointer;\n",
              "      display: none;\n",
              "      fill: #1967D2;\n",
              "      height: 32px;\n",
              "      padding: 0 0 0 0;\n",
              "      width: 32px;\n",
              "    }\n",
              "\n",
              "    .colab-df-convert:hover {\n",
              "      background-color: #E2EBFA;\n",
              "      box-shadow: 0px 1px 2px rgba(60, 64, 67, 0.3), 0px 1px 3px 1px rgba(60, 64, 67, 0.15);\n",
              "      fill: #174EA6;\n",
              "    }\n",
              "\n",
              "    .colab-df-buttons div {\n",
              "      margin-bottom: 4px;\n",
              "    }\n",
              "\n",
              "    [theme=dark] .colab-df-convert {\n",
              "      background-color: #3B4455;\n",
              "      fill: #D2E3FC;\n",
              "    }\n",
              "\n",
              "    [theme=dark] .colab-df-convert:hover {\n",
              "      background-color: #434B5C;\n",
              "      box-shadow: 0px 1px 3px 1px rgba(0, 0, 0, 0.15);\n",
              "      filter: drop-shadow(0px 1px 2px rgba(0, 0, 0, 0.3));\n",
              "      fill: #FFFFFF;\n",
              "    }\n",
              "  </style>\n",
              "\n",
              "    <script>\n",
              "      const buttonEl =\n",
              "        document.querySelector('#df-f012c10e-5b30-44f9-bd74-9519ad15637e button.colab-df-convert');\n",
              "      buttonEl.style.display =\n",
              "        google.colab.kernel.accessAllowed ? 'block' : 'none';\n",
              "\n",
              "      async function convertToInteractive(key) {\n",
              "        const element = document.querySelector('#df-f012c10e-5b30-44f9-bd74-9519ad15637e');\n",
              "        const dataTable =\n",
              "          await google.colab.kernel.invokeFunction('convertToInteractive',\n",
              "                                                    [key], {});\n",
              "        if (!dataTable) return;\n",
              "\n",
              "        const docLinkHtml = 'Like what you see? Visit the ' +\n",
              "          '<a target=\"_blank\" href=https://colab.research.google.com/notebooks/data_table.ipynb>data table notebook</a>'\n",
              "          + ' to learn more about interactive tables.';\n",
              "        element.innerHTML = '';\n",
              "        dataTable['output_type'] = 'display_data';\n",
              "        await google.colab.output.renderOutput(dataTable, element);\n",
              "        const docLink = document.createElement('div');\n",
              "        docLink.innerHTML = docLinkHtml;\n",
              "        element.appendChild(docLink);\n",
              "      }\n",
              "    </script>\n",
              "  </div>\n",
              "\n",
              "\n",
              "<div id=\"df-cf416151-f234-45e9-b156-8b3c7148aae1\">\n",
              "  <button class=\"colab-df-quickchart\" onclick=\"quickchart('df-cf416151-f234-45e9-b156-8b3c7148aae1')\"\n",
              "            title=\"Suggest charts\"\n",
              "            style=\"display:none;\">\n",
              "\n",
              "<svg xmlns=\"http://www.w3.org/2000/svg\" height=\"24px\"viewBox=\"0 0 24 24\"\n",
              "     width=\"24px\">\n",
              "    <g>\n",
              "        <path d=\"M19 3H5c-1.1 0-2 .9-2 2v14c0 1.1.9 2 2 2h14c1.1 0 2-.9 2-2V5c0-1.1-.9-2-2-2zM9 17H7v-7h2v7zm4 0h-2V7h2v10zm4 0h-2v-4h2v4z\"/>\n",
              "    </g>\n",
              "</svg>\n",
              "  </button>\n",
              "\n",
              "<style>\n",
              "  .colab-df-quickchart {\n",
              "      --bg-color: #E8F0FE;\n",
              "      --fill-color: #1967D2;\n",
              "      --hover-bg-color: #E2EBFA;\n",
              "      --hover-fill-color: #174EA6;\n",
              "      --disabled-fill-color: #AAA;\n",
              "      --disabled-bg-color: #DDD;\n",
              "  }\n",
              "\n",
              "  [theme=dark] .colab-df-quickchart {\n",
              "      --bg-color: #3B4455;\n",
              "      --fill-color: #D2E3FC;\n",
              "      --hover-bg-color: #434B5C;\n",
              "      --hover-fill-color: #FFFFFF;\n",
              "      --disabled-bg-color: #3B4455;\n",
              "      --disabled-fill-color: #666;\n",
              "  }\n",
              "\n",
              "  .colab-df-quickchart {\n",
              "    background-color: var(--bg-color);\n",
              "    border: none;\n",
              "    border-radius: 50%;\n",
              "    cursor: pointer;\n",
              "    display: none;\n",
              "    fill: var(--fill-color);\n",
              "    height: 32px;\n",
              "    padding: 0;\n",
              "    width: 32px;\n",
              "  }\n",
              "\n",
              "  .colab-df-quickchart:hover {\n",
              "    background-color: var(--hover-bg-color);\n",
              "    box-shadow: 0 1px 2px rgba(60, 64, 67, 0.3), 0 1px 3px 1px rgba(60, 64, 67, 0.15);\n",
              "    fill: var(--button-hover-fill-color);\n",
              "  }\n",
              "\n",
              "  .colab-df-quickchart-complete:disabled,\n",
              "  .colab-df-quickchart-complete:disabled:hover {\n",
              "    background-color: var(--disabled-bg-color);\n",
              "    fill: var(--disabled-fill-color);\n",
              "    box-shadow: none;\n",
              "  }\n",
              "\n",
              "  .colab-df-spinner {\n",
              "    border: 2px solid var(--fill-color);\n",
              "    border-color: transparent;\n",
              "    border-bottom-color: var(--fill-color);\n",
              "    animation:\n",
              "      spin 1s steps(1) infinite;\n",
              "  }\n",
              "\n",
              "  @keyframes spin {\n",
              "    0% {\n",
              "      border-color: transparent;\n",
              "      border-bottom-color: var(--fill-color);\n",
              "      border-left-color: var(--fill-color);\n",
              "    }\n",
              "    20% {\n",
              "      border-color: transparent;\n",
              "      border-left-color: var(--fill-color);\n",
              "      border-top-color: var(--fill-color);\n",
              "    }\n",
              "    30% {\n",
              "      border-color: transparent;\n",
              "      border-left-color: var(--fill-color);\n",
              "      border-top-color: var(--fill-color);\n",
              "      border-right-color: var(--fill-color);\n",
              "    }\n",
              "    40% {\n",
              "      border-color: transparent;\n",
              "      border-right-color: var(--fill-color);\n",
              "      border-top-color: var(--fill-color);\n",
              "    }\n",
              "    60% {\n",
              "      border-color: transparent;\n",
              "      border-right-color: var(--fill-color);\n",
              "    }\n",
              "    80% {\n",
              "      border-color: transparent;\n",
              "      border-right-color: var(--fill-color);\n",
              "      border-bottom-color: var(--fill-color);\n",
              "    }\n",
              "    90% {\n",
              "      border-color: transparent;\n",
              "      border-bottom-color: var(--fill-color);\n",
              "    }\n",
              "  }\n",
              "</style>\n",
              "\n",
              "  <script>\n",
              "    async function quickchart(key) {\n",
              "      const quickchartButtonEl =\n",
              "        document.querySelector('#' + key + ' button');\n",
              "      quickchartButtonEl.disabled = true;  // To prevent multiple clicks.\n",
              "      quickchartButtonEl.classList.add('colab-df-spinner');\n",
              "      try {\n",
              "        const charts = await google.colab.kernel.invokeFunction(\n",
              "            'suggestCharts', [key], {});\n",
              "      } catch (error) {\n",
              "        console.error('Error during call to suggestCharts:', error);\n",
              "      }\n",
              "      quickchartButtonEl.classList.remove('colab-df-spinner');\n",
              "      quickchartButtonEl.classList.add('colab-df-quickchart-complete');\n",
              "    }\n",
              "    (() => {\n",
              "      let quickchartButtonEl =\n",
              "        document.querySelector('#df-cf416151-f234-45e9-b156-8b3c7148aae1 button');\n",
              "      quickchartButtonEl.style.display =\n",
              "        google.colab.kernel.accessAllowed ? 'block' : 'none';\n",
              "    })();\n",
              "  </script>\n",
              "</div>\n",
              "\n",
              "    </div>\n",
              "  </div>\n"
            ],
            "application/vnd.google.colaboratory.intrinsic+json": {
              "type": "dataframe",
              "variable_name": "chats_clients",
              "summary": "{\n  \"name\": \"chats_clients\",\n  \"rows\": 505,\n  \"fields\": [\n    {\n      \"column\": \"No\",\n      \"properties\": {\n        \"dtype\": \"number\",\n        \"std\": 145,\n        \"min\": 1,\n        \"max\": 505,\n        \"num_unique_values\": 505,\n        \"samples\": [\n          174,\n          275,\n          491\n        ],\n        \"semantic_type\": \"\",\n        \"description\": \"\"\n      }\n    },\n    {\n      \"column\": \"Intencao\",\n      \"properties\": {\n        \"dtype\": \"category\",\n        \"num_unique_values\": 18,\n        \"samples\": [\n          \"Como depositar\",\n          \"Como fazer remessa\",\n          \"Solicitacao de cartao de remessas\"\n        ],\n        \"semantic_type\": \"\",\n        \"description\": \"\"\n      }\n    },\n    {\n      \"column\": \"Pergunta\",\n      \"properties\": {\n        \"dtype\": \"object\",\n        \"semantic_type\": \"\",\n        \"description\": \"\"\n      }\n    },\n    {\n      \"column\": \"Resposta\",\n      \"properties\": {\n        \"dtype\": \"object\",\n        \"semantic_type\": \"\",\n        \"description\": \"\"\n      }\n    },\n    {\n      \"column\": \"Pergunta - NER\",\n      \"properties\": {\n        \"dtype\": \"object\",\n        \"semantic_type\": \"\",\n        \"description\": \"\"\n      }\n    },\n    {\n      \"column\": \"Resposta - NER\",\n      \"properties\": {\n        \"dtype\": \"object\",\n        \"semantic_type\": \"\",\n        \"description\": \"\"\n      }\n    }\n  ]\n}"
            }
          },
          "metadata": {},
          "execution_count": 44
        }
      ],
      "source": [
        "pre_processamento(chats_clients)\n",
        "chats_clients.head()"
      ]
    }
  ],
  "metadata": {
    "accelerator": "GPU",
    "colab": {
      "gpuType": "T4",
      "provenance": []
    },
    "kernelspec": {
      "display_name": "Python 3",
      "name": "python3"
    },
    "language_info": {
      "name": "python"
    }
  },
  "nbformat": 4,
  "nbformat_minor": 0
}