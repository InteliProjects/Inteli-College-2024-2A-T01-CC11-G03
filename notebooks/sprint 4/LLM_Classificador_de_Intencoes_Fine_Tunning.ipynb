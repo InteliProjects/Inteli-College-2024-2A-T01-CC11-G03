{
  "nbformat": 4,
  "nbformat_minor": 0,
  "metadata": {
    "colab": {
      "provenance": [],
      "gpuType": "A100",
      "machine_shape": "hm"
    },
    "kernelspec": {
      "name": "python3",
      "display_name": "Python 3"
    },
    "language_info": {
      "name": "python"
    },
    "accelerator": "GPU",
    "widgets": {
      "application/vnd.jupyter.widget-state+json": {
        "b92a75b942cf46ea9e52006eadbe5897": {
          "model_module": "@jupyter-widgets/controls",
          "model_name": "HBoxModel",
          "model_module_version": "1.5.0",
          "state": {
            "_dom_classes": [],
            "_model_module": "@jupyter-widgets/controls",
            "_model_module_version": "1.5.0",
            "_model_name": "HBoxModel",
            "_view_count": null,
            "_view_module": "@jupyter-widgets/controls",
            "_view_module_version": "1.5.0",
            "_view_name": "HBoxView",
            "box_style": "",
            "children": [
              "IPY_MODEL_2783c66f917c4ff7951704a033232536",
              "IPY_MODEL_db3694e2e6464a58a422b85ade5ab6a8",
              "IPY_MODEL_c7ef9b806e6c447bad8fe520f7bd5bed"
            ],
            "layout": "IPY_MODEL_c2b88ad93e37415d9e9d90b97f84392b"
          }
        },
        "2783c66f917c4ff7951704a033232536": {
          "model_module": "@jupyter-widgets/controls",
          "model_name": "HTMLModel",
          "model_module_version": "1.5.0",
          "state": {
            "_dom_classes": [],
            "_model_module": "@jupyter-widgets/controls",
            "_model_module_version": "1.5.0",
            "_model_name": "HTMLModel",
            "_view_count": null,
            "_view_module": "@jupyter-widgets/controls",
            "_view_module_version": "1.5.0",
            "_view_name": "HTMLView",
            "description": "",
            "description_tooltip": null,
            "layout": "IPY_MODEL_0ab8e8db021e47018f1b439249e03a01",
            "placeholder": "​",
            "style": "IPY_MODEL_723a858013f749aeb4811dada4cc30f9",
            "value": "Map: 100%"
          }
        },
        "db3694e2e6464a58a422b85ade5ab6a8": {
          "model_module": "@jupyter-widgets/controls",
          "model_name": "FloatProgressModel",
          "model_module_version": "1.5.0",
          "state": {
            "_dom_classes": [],
            "_model_module": "@jupyter-widgets/controls",
            "_model_module_version": "1.5.0",
            "_model_name": "FloatProgressModel",
            "_view_count": null,
            "_view_module": "@jupyter-widgets/controls",
            "_view_module_version": "1.5.0",
            "_view_name": "ProgressView",
            "bar_style": "success",
            "description": "",
            "description_tooltip": null,
            "layout": "IPY_MODEL_6bd8e353eb734380afbd4deb94fe9355",
            "max": 505,
            "min": 0,
            "orientation": "horizontal",
            "style": "IPY_MODEL_118753693f4946228c049899b92207ab",
            "value": 505
          }
        },
        "c7ef9b806e6c447bad8fe520f7bd5bed": {
          "model_module": "@jupyter-widgets/controls",
          "model_name": "HTMLModel",
          "model_module_version": "1.5.0",
          "state": {
            "_dom_classes": [],
            "_model_module": "@jupyter-widgets/controls",
            "_model_module_version": "1.5.0",
            "_model_name": "HTMLModel",
            "_view_count": null,
            "_view_module": "@jupyter-widgets/controls",
            "_view_module_version": "1.5.0",
            "_view_name": "HTMLView",
            "description": "",
            "description_tooltip": null,
            "layout": "IPY_MODEL_44f84bf870a8457182c22d139187d13b",
            "placeholder": "​",
            "style": "IPY_MODEL_c288eec4a82e45debd3d6e3f118c57f4",
            "value": " 505/505 [00:00&lt;00:00, 22295.80 examples/s]"
          }
        },
        "c2b88ad93e37415d9e9d90b97f84392b": {
          "model_module": "@jupyter-widgets/base",
          "model_name": "LayoutModel",
          "model_module_version": "1.2.0",
          "state": {
            "_model_module": "@jupyter-widgets/base",
            "_model_module_version": "1.2.0",
            "_model_name": "LayoutModel",
            "_view_count": null,
            "_view_module": "@jupyter-widgets/base",
            "_view_module_version": "1.2.0",
            "_view_name": "LayoutView",
            "align_content": null,
            "align_items": null,
            "align_self": null,
            "border": null,
            "bottom": null,
            "display": null,
            "flex": null,
            "flex_flow": null,
            "grid_area": null,
            "grid_auto_columns": null,
            "grid_auto_flow": null,
            "grid_auto_rows": null,
            "grid_column": null,
            "grid_gap": null,
            "grid_row": null,
            "grid_template_areas": null,
            "grid_template_columns": null,
            "grid_template_rows": null,
            "height": null,
            "justify_content": null,
            "justify_items": null,
            "left": null,
            "margin": null,
            "max_height": null,
            "max_width": null,
            "min_height": null,
            "min_width": null,
            "object_fit": null,
            "object_position": null,
            "order": null,
            "overflow": null,
            "overflow_x": null,
            "overflow_y": null,
            "padding": null,
            "right": null,
            "top": null,
            "visibility": null,
            "width": null
          }
        },
        "0ab8e8db021e47018f1b439249e03a01": {
          "model_module": "@jupyter-widgets/base",
          "model_name": "LayoutModel",
          "model_module_version": "1.2.0",
          "state": {
            "_model_module": "@jupyter-widgets/base",
            "_model_module_version": "1.2.0",
            "_model_name": "LayoutModel",
            "_view_count": null,
            "_view_module": "@jupyter-widgets/base",
            "_view_module_version": "1.2.0",
            "_view_name": "LayoutView",
            "align_content": null,
            "align_items": null,
            "align_self": null,
            "border": null,
            "bottom": null,
            "display": null,
            "flex": null,
            "flex_flow": null,
            "grid_area": null,
            "grid_auto_columns": null,
            "grid_auto_flow": null,
            "grid_auto_rows": null,
            "grid_column": null,
            "grid_gap": null,
            "grid_row": null,
            "grid_template_areas": null,
            "grid_template_columns": null,
            "grid_template_rows": null,
            "height": null,
            "justify_content": null,
            "justify_items": null,
            "left": null,
            "margin": null,
            "max_height": null,
            "max_width": null,
            "min_height": null,
            "min_width": null,
            "object_fit": null,
            "object_position": null,
            "order": null,
            "overflow": null,
            "overflow_x": null,
            "overflow_y": null,
            "padding": null,
            "right": null,
            "top": null,
            "visibility": null,
            "width": null
          }
        },
        "723a858013f749aeb4811dada4cc30f9": {
          "model_module": "@jupyter-widgets/controls",
          "model_name": "DescriptionStyleModel",
          "model_module_version": "1.5.0",
          "state": {
            "_model_module": "@jupyter-widgets/controls",
            "_model_module_version": "1.5.0",
            "_model_name": "DescriptionStyleModel",
            "_view_count": null,
            "_view_module": "@jupyter-widgets/base",
            "_view_module_version": "1.2.0",
            "_view_name": "StyleView",
            "description_width": ""
          }
        },
        "6bd8e353eb734380afbd4deb94fe9355": {
          "model_module": "@jupyter-widgets/base",
          "model_name": "LayoutModel",
          "model_module_version": "1.2.0",
          "state": {
            "_model_module": "@jupyter-widgets/base",
            "_model_module_version": "1.2.0",
            "_model_name": "LayoutModel",
            "_view_count": null,
            "_view_module": "@jupyter-widgets/base",
            "_view_module_version": "1.2.0",
            "_view_name": "LayoutView",
            "align_content": null,
            "align_items": null,
            "align_self": null,
            "border": null,
            "bottom": null,
            "display": null,
            "flex": null,
            "flex_flow": null,
            "grid_area": null,
            "grid_auto_columns": null,
            "grid_auto_flow": null,
            "grid_auto_rows": null,
            "grid_column": null,
            "grid_gap": null,
            "grid_row": null,
            "grid_template_areas": null,
            "grid_template_columns": null,
            "grid_template_rows": null,
            "height": null,
            "justify_content": null,
            "justify_items": null,
            "left": null,
            "margin": null,
            "max_height": null,
            "max_width": null,
            "min_height": null,
            "min_width": null,
            "object_fit": null,
            "object_position": null,
            "order": null,
            "overflow": null,
            "overflow_x": null,
            "overflow_y": null,
            "padding": null,
            "right": null,
            "top": null,
            "visibility": null,
            "width": null
          }
        },
        "118753693f4946228c049899b92207ab": {
          "model_module": "@jupyter-widgets/controls",
          "model_name": "ProgressStyleModel",
          "model_module_version": "1.5.0",
          "state": {
            "_model_module": "@jupyter-widgets/controls",
            "_model_module_version": "1.5.0",
            "_model_name": "ProgressStyleModel",
            "_view_count": null,
            "_view_module": "@jupyter-widgets/base",
            "_view_module_version": "1.2.0",
            "_view_name": "StyleView",
            "bar_color": null,
            "description_width": ""
          }
        },
        "44f84bf870a8457182c22d139187d13b": {
          "model_module": "@jupyter-widgets/base",
          "model_name": "LayoutModel",
          "model_module_version": "1.2.0",
          "state": {
            "_model_module": "@jupyter-widgets/base",
            "_model_module_version": "1.2.0",
            "_model_name": "LayoutModel",
            "_view_count": null,
            "_view_module": "@jupyter-widgets/base",
            "_view_module_version": "1.2.0",
            "_view_name": "LayoutView",
            "align_content": null,
            "align_items": null,
            "align_self": null,
            "border": null,
            "bottom": null,
            "display": null,
            "flex": null,
            "flex_flow": null,
            "grid_area": null,
            "grid_auto_columns": null,
            "grid_auto_flow": null,
            "grid_auto_rows": null,
            "grid_column": null,
            "grid_gap": null,
            "grid_row": null,
            "grid_template_areas": null,
            "grid_template_columns": null,
            "grid_template_rows": null,
            "height": null,
            "justify_content": null,
            "justify_items": null,
            "left": null,
            "margin": null,
            "max_height": null,
            "max_width": null,
            "min_height": null,
            "min_width": null,
            "object_fit": null,
            "object_position": null,
            "order": null,
            "overflow": null,
            "overflow_x": null,
            "overflow_y": null,
            "padding": null,
            "right": null,
            "top": null,
            "visibility": null,
            "width": null
          }
        },
        "c288eec4a82e45debd3d6e3f118c57f4": {
          "model_module": "@jupyter-widgets/controls",
          "model_name": "DescriptionStyleModel",
          "model_module_version": "1.5.0",
          "state": {
            "_model_module": "@jupyter-widgets/controls",
            "_model_module_version": "1.5.0",
            "_model_name": "DescriptionStyleModel",
            "_view_count": null,
            "_view_module": "@jupyter-widgets/base",
            "_view_module_version": "1.2.0",
            "_view_name": "StyleView",
            "description_width": ""
          }
        },
        "20455dab84a942afa26f719dee977b1e": {
          "model_module": "@jupyter-widgets/controls",
          "model_name": "HBoxModel",
          "model_module_version": "1.5.0",
          "state": {
            "_dom_classes": [],
            "_model_module": "@jupyter-widgets/controls",
            "_model_module_version": "1.5.0",
            "_model_name": "HBoxModel",
            "_view_count": null,
            "_view_module": "@jupyter-widgets/controls",
            "_view_module_version": "1.5.0",
            "_view_name": "HBoxView",
            "box_style": "",
            "children": [
              "IPY_MODEL_a28c1fa161e144f5849611a764a7db4a",
              "IPY_MODEL_454d81b1b8b24cb48183b3205f956901",
              "IPY_MODEL_a8b42d0be1a24ee190ed9181968505a3"
            ],
            "layout": "IPY_MODEL_8514c4a2724b4ad6a7437aa39a639860"
          }
        },
        "a28c1fa161e144f5849611a764a7db4a": {
          "model_module": "@jupyter-widgets/controls",
          "model_name": "HTMLModel",
          "model_module_version": "1.5.0",
          "state": {
            "_dom_classes": [],
            "_model_module": "@jupyter-widgets/controls",
            "_model_module_version": "1.5.0",
            "_model_name": "HTMLModel",
            "_view_count": null,
            "_view_module": "@jupyter-widgets/controls",
            "_view_module_version": "1.5.0",
            "_view_name": "HTMLView",
            "description": "",
            "description_tooltip": null,
            "layout": "IPY_MODEL_c2a041d60fae4621b68a344d490d2a45",
            "placeholder": "​",
            "style": "IPY_MODEL_4d94afa0efd6449c97caa6cd09a00749",
            "value": "Map (num_proc=2): 100%"
          }
        },
        "454d81b1b8b24cb48183b3205f956901": {
          "model_module": "@jupyter-widgets/controls",
          "model_name": "FloatProgressModel",
          "model_module_version": "1.5.0",
          "state": {
            "_dom_classes": [],
            "_model_module": "@jupyter-widgets/controls",
            "_model_module_version": "1.5.0",
            "_model_name": "FloatProgressModel",
            "_view_count": null,
            "_view_module": "@jupyter-widgets/controls",
            "_view_module_version": "1.5.0",
            "_view_name": "ProgressView",
            "bar_style": "success",
            "description": "",
            "description_tooltip": null,
            "layout": "IPY_MODEL_afcb775b74974f85af3e61f2e1abb5f7",
            "max": 505,
            "min": 0,
            "orientation": "horizontal",
            "style": "IPY_MODEL_57b891d959b54012a9082136ad14efca",
            "value": 505
          }
        },
        "a8b42d0be1a24ee190ed9181968505a3": {
          "model_module": "@jupyter-widgets/controls",
          "model_name": "HTMLModel",
          "model_module_version": "1.5.0",
          "state": {
            "_dom_classes": [],
            "_model_module": "@jupyter-widgets/controls",
            "_model_module_version": "1.5.0",
            "_model_name": "HTMLModel",
            "_view_count": null,
            "_view_module": "@jupyter-widgets/controls",
            "_view_module_version": "1.5.0",
            "_view_name": "HTMLView",
            "description": "",
            "description_tooltip": null,
            "layout": "IPY_MODEL_f43480df68334089a26e72ccdf0d4dcd",
            "placeholder": "​",
            "style": "IPY_MODEL_f63c13f40c5947ae84f6c056f5f27e9e",
            "value": " 505/505 [00:01&lt;00:00, 486.15 examples/s]"
          }
        },
        "8514c4a2724b4ad6a7437aa39a639860": {
          "model_module": "@jupyter-widgets/base",
          "model_name": "LayoutModel",
          "model_module_version": "1.2.0",
          "state": {
            "_model_module": "@jupyter-widgets/base",
            "_model_module_version": "1.2.0",
            "_model_name": "LayoutModel",
            "_view_count": null,
            "_view_module": "@jupyter-widgets/base",
            "_view_module_version": "1.2.0",
            "_view_name": "LayoutView",
            "align_content": null,
            "align_items": null,
            "align_self": null,
            "border": null,
            "bottom": null,
            "display": null,
            "flex": null,
            "flex_flow": null,
            "grid_area": null,
            "grid_auto_columns": null,
            "grid_auto_flow": null,
            "grid_auto_rows": null,
            "grid_column": null,
            "grid_gap": null,
            "grid_row": null,
            "grid_template_areas": null,
            "grid_template_columns": null,
            "grid_template_rows": null,
            "height": null,
            "justify_content": null,
            "justify_items": null,
            "left": null,
            "margin": null,
            "max_height": null,
            "max_width": null,
            "min_height": null,
            "min_width": null,
            "object_fit": null,
            "object_position": null,
            "order": null,
            "overflow": null,
            "overflow_x": null,
            "overflow_y": null,
            "padding": null,
            "right": null,
            "top": null,
            "visibility": null,
            "width": null
          }
        },
        "c2a041d60fae4621b68a344d490d2a45": {
          "model_module": "@jupyter-widgets/base",
          "model_name": "LayoutModel",
          "model_module_version": "1.2.0",
          "state": {
            "_model_module": "@jupyter-widgets/base",
            "_model_module_version": "1.2.0",
            "_model_name": "LayoutModel",
            "_view_count": null,
            "_view_module": "@jupyter-widgets/base",
            "_view_module_version": "1.2.0",
            "_view_name": "LayoutView",
            "align_content": null,
            "align_items": null,
            "align_self": null,
            "border": null,
            "bottom": null,
            "display": null,
            "flex": null,
            "flex_flow": null,
            "grid_area": null,
            "grid_auto_columns": null,
            "grid_auto_flow": null,
            "grid_auto_rows": null,
            "grid_column": null,
            "grid_gap": null,
            "grid_row": null,
            "grid_template_areas": null,
            "grid_template_columns": null,
            "grid_template_rows": null,
            "height": null,
            "justify_content": null,
            "justify_items": null,
            "left": null,
            "margin": null,
            "max_height": null,
            "max_width": null,
            "min_height": null,
            "min_width": null,
            "object_fit": null,
            "object_position": null,
            "order": null,
            "overflow": null,
            "overflow_x": null,
            "overflow_y": null,
            "padding": null,
            "right": null,
            "top": null,
            "visibility": null,
            "width": null
          }
        },
        "4d94afa0efd6449c97caa6cd09a00749": {
          "model_module": "@jupyter-widgets/controls",
          "model_name": "DescriptionStyleModel",
          "model_module_version": "1.5.0",
          "state": {
            "_model_module": "@jupyter-widgets/controls",
            "_model_module_version": "1.5.0",
            "_model_name": "DescriptionStyleModel",
            "_view_count": null,
            "_view_module": "@jupyter-widgets/base",
            "_view_module_version": "1.2.0",
            "_view_name": "StyleView",
            "description_width": ""
          }
        },
        "afcb775b74974f85af3e61f2e1abb5f7": {
          "model_module": "@jupyter-widgets/base",
          "model_name": "LayoutModel",
          "model_module_version": "1.2.0",
          "state": {
            "_model_module": "@jupyter-widgets/base",
            "_model_module_version": "1.2.0",
            "_model_name": "LayoutModel",
            "_view_count": null,
            "_view_module": "@jupyter-widgets/base",
            "_view_module_version": "1.2.0",
            "_view_name": "LayoutView",
            "align_content": null,
            "align_items": null,
            "align_self": null,
            "border": null,
            "bottom": null,
            "display": null,
            "flex": null,
            "flex_flow": null,
            "grid_area": null,
            "grid_auto_columns": null,
            "grid_auto_flow": null,
            "grid_auto_rows": null,
            "grid_column": null,
            "grid_gap": null,
            "grid_row": null,
            "grid_template_areas": null,
            "grid_template_columns": null,
            "grid_template_rows": null,
            "height": null,
            "justify_content": null,
            "justify_items": null,
            "left": null,
            "margin": null,
            "max_height": null,
            "max_width": null,
            "min_height": null,
            "min_width": null,
            "object_fit": null,
            "object_position": null,
            "order": null,
            "overflow": null,
            "overflow_x": null,
            "overflow_y": null,
            "padding": null,
            "right": null,
            "top": null,
            "visibility": null,
            "width": null
          }
        },
        "57b891d959b54012a9082136ad14efca": {
          "model_module": "@jupyter-widgets/controls",
          "model_name": "ProgressStyleModel",
          "model_module_version": "1.5.0",
          "state": {
            "_model_module": "@jupyter-widgets/controls",
            "_model_module_version": "1.5.0",
            "_model_name": "ProgressStyleModel",
            "_view_count": null,
            "_view_module": "@jupyter-widgets/base",
            "_view_module_version": "1.2.0",
            "_view_name": "StyleView",
            "bar_color": null,
            "description_width": ""
          }
        },
        "f43480df68334089a26e72ccdf0d4dcd": {
          "model_module": "@jupyter-widgets/base",
          "model_name": "LayoutModel",
          "model_module_version": "1.2.0",
          "state": {
            "_model_module": "@jupyter-widgets/base",
            "_model_module_version": "1.2.0",
            "_model_name": "LayoutModel",
            "_view_count": null,
            "_view_module": "@jupyter-widgets/base",
            "_view_module_version": "1.2.0",
            "_view_name": "LayoutView",
            "align_content": null,
            "align_items": null,
            "align_self": null,
            "border": null,
            "bottom": null,
            "display": null,
            "flex": null,
            "flex_flow": null,
            "grid_area": null,
            "grid_auto_columns": null,
            "grid_auto_flow": null,
            "grid_auto_rows": null,
            "grid_column": null,
            "grid_gap": null,
            "grid_row": null,
            "grid_template_areas": null,
            "grid_template_columns": null,
            "grid_template_rows": null,
            "height": null,
            "justify_content": null,
            "justify_items": null,
            "left": null,
            "margin": null,
            "max_height": null,
            "max_width": null,
            "min_height": null,
            "min_width": null,
            "object_fit": null,
            "object_position": null,
            "order": null,
            "overflow": null,
            "overflow_x": null,
            "overflow_y": null,
            "padding": null,
            "right": null,
            "top": null,
            "visibility": null,
            "width": null
          }
        },
        "f63c13f40c5947ae84f6c056f5f27e9e": {
          "model_module": "@jupyter-widgets/controls",
          "model_name": "DescriptionStyleModel",
          "model_module_version": "1.5.0",
          "state": {
            "_model_module": "@jupyter-widgets/controls",
            "_model_module_version": "1.5.0",
            "_model_name": "DescriptionStyleModel",
            "_view_count": null,
            "_view_module": "@jupyter-widgets/base",
            "_view_module_version": "1.2.0",
            "_view_name": "StyleView",
            "description_width": ""
          }
        }
      }
    }
  },
  "cells": [
    {
      "cell_type": "markdown",
      "source": [
        "# Fine-Tuning do Modelo LLama3.1\n",
        "\n",
        "[inserir descrição sobre estarmos fazendo fine tunning de modelo com X parametros com Y dados]"
      ],
      "metadata": {
        "id": "1PTlXPIQT5x2"
      }
    },
    {
      "cell_type": "code",
      "source": [],
      "metadata": {
        "id": "l_Rr2cqsUfam",
        "colab": {
          "base_uri": "https://localhost:8080/",
          "height": 108
        },
        "outputId": "d40801ed-8d76-4039-c039-adf5ee312818"
      },
      "execution_count": 27,
      "outputs": [
        {
          "output_type": "error",
          "ename": "SyntaxError",
          "evalue": "invalid syntax (<ipython-input-27-92cbf9cbbfb4>, line 1)",
          "traceback": [
            "\u001b[0;36m  File \u001b[0;32m\"<ipython-input-27-92cbf9cbbfb4>\"\u001b[0;36m, line \u001b[0;32m1\u001b[0m\n\u001b[0;31m    PYTORCH_CUDA_ALLOC_CONF=expandable_segments:True\u001b[0m\n\u001b[0m                                               ^\u001b[0m\n\u001b[0;31mSyntaxError\u001b[0m\u001b[0;31m:\u001b[0m invalid syntax\n"
          ]
        }
      ]
    },
    {
      "cell_type": "markdown",
      "source": [
        "## Importando o Unsloath"
      ],
      "metadata": {
        "id": "nrlskH52UfGn"
      }
    },
    {
      "cell_type": "code",
      "execution_count": 4,
      "metadata": {
        "id": "Ql9_4De_NyOb"
      },
      "outputs": [],
      "source": [
        "%%capture\n",
        "!pip install unsloth\n",
        "\n",
        "# Also get the latest nightly Unsloth!\n",
        "!pip uninstall unsloth -y && pip install --upgrade --no-cache-dir \"unsloth[colab-new] @ git+https://github.com/unslothai/unsloth.git\"\n",
        "!pip install triton\n",
        "!pip install bitsandbytes"
      ]
    },
    {
      "cell_type": "code",
      "source": [
        "from unsloth import FastLanguageModel\n",
        "import torch\n",
        "\n",
        "max_seq_length = 2048 # comprimento máximo de tokens que o modelo será capaz de processar\n",
        "dtype = None # none para autodetecção\n",
        "load_in_4bit = True # Habilita a quantização de 4 bits. Isso reduz o consumo de memória do modelo, permitindo que ele seja executado em hardware com menos memória, sem causar erros de falta de memória"
      ],
      "metadata": {
        "colab": {
          "base_uri": "https://localhost:8080/"
        },
        "id": "mPuouxtkN_uM",
        "outputId": "309218c2-e4fd-4d77-d577-e9bbfba25a9e"
      },
      "execution_count": 1,
      "outputs": [
        {
          "output_type": "stream",
          "name": "stdout",
          "text": [
            "🦥 Unsloth: Will patch your computer to enable 2x faster free finetuning.\n"
          ]
        }
      ]
    },
    {
      "cell_type": "code",
      "source": [
        "model, tokenizer = FastLanguageModel.from_pretrained(\n",
        "  model_name = \"unsloth/Meta-Llama-3.1-8B\",\n",
        "  max_seq_length = max_seq_length,\n",
        "  dtype = dtype,\n",
        "  load_in_4bit = load_in_4bit,\n",
        ")"
      ],
      "metadata": {
        "colab": {
          "base_uri": "https://localhost:8080/"
        },
        "id": "CF8s09Q46SLZ",
        "outputId": "2640e9f6-772e-4d60-a221-0926da893cb9"
      },
      "execution_count": 2,
      "outputs": [
        {
          "output_type": "stream",
          "name": "stdout",
          "text": [
            "==((====))==  Unsloth 2024.9.post1: Fast Llama patching. Transformers = 4.44.2.\n",
            "   \\\\   /|    GPU: NVIDIA A100-SXM4-40GB. Max memory: 39.564 GB. Platform = Linux.\n",
            "O^O/ \\_/ \\    Pytorch: 2.4.1+cu121. CUDA = 8.0. CUDA Toolkit = 12.1.\n",
            "\\        /    Bfloat16 = TRUE. FA [Xformers = 0.0.28.post1. FA2 = False]\n",
            " \"-____-\"     Free Apache license: http://github.com/unslothai/unsloth\n",
            "Unsloth: Fast downloading is enabled - ignore downloading bars which are red colored!\n"
          ]
        }
      ]
    },
    {
      "cell_type": "markdown",
      "source": [
        "**LoRA (Low-Rank Adaptation)**\n",
        "\n",
        "Basicamente é uma técnica de fine-tunning de LLMs, que visa diminuir a quantidade de parâmetros treináveis durante o fine tunning sem comprometer a precisão e a qualidade do modelo.\n",
        "\n",
        "Os grandes modelos de linguagem, como GPT-3, LLaMA e outros, possuem bilhões de parâmetros, o que torna o ajuste fino completo (atualizar todos os parâmetros durante o treinamento) um processo extremamente intensivo em termos de memória e tempo. O ajuste fino convencional consome muito recurso computacional e é inviável em dispositivos com pouca capacidade, como GPUs com menor memória.\n",
        "\n",
        "*Funcionamento:*\n",
        "Em vez de ajustar todos os parâmetros do modelo, o LoRA foca em projetar atualizações apenas em determinadas projeções (geralmente nos mecanismos de atenção) usando decomposição matricial de baixa ordem (low-rank). A"
      ],
      "metadata": {
        "id": "LNbxfLa063kQ"
      }
    },
    {
      "cell_type": "code",
      "source": [
        "model = FastLanguageModel.get_peft_model(\n",
        "  model,\n",
        "  r = 16, # quanto maior, mais parâmetros serão treinados\n",
        "\n",
        "\n",
        "  # Especifica quais projeções dentro do modelo serão adaptadas com LoRA.\n",
        "  # Projeções como q_proj, k_proj, v_proj, e o_proj referem-se a partes das\n",
        "  # camadas de autoatenção (query, key, value e output projections) usadas\n",
        "  # em mecanismos de atenção, como o de transformadores.\n",
        "\n",
        "  target_modules = [\"q_proj\", \"k_proj\", \"v_proj\", \"o_proj\",\n",
        "                    \"gate_proj\", \"up_proj\", \"down_proj\",],\n",
        "\n",
        "  lora_alpha = 16, # influência do lora no aprendizado\n",
        "  lora_dropout = 0,\n",
        "  bias = \"none\",\n",
        "\n",
        "  use_gradient_checkpointing = \"unsloth\", # True or \"unsloth\" for very long context\n",
        "  random_state = 3407,\n",
        "  use_rslora = False,\n",
        "  loftq_config = None,\n",
        ")"
      ],
      "metadata": {
        "colab": {
          "base_uri": "https://localhost:8080/"
        },
        "id": "chWIbj9jRg0t",
        "outputId": "c2083afe-729b-4d85-c0dd-6fdcbe230f09"
      },
      "execution_count": 3,
      "outputs": [
        {
          "output_type": "stream",
          "name": "stderr",
          "text": [
            "Unsloth 2024.9.post1 patched 32 layers with 32 QKV layers, 32 O layers and 32 MLP layers.\n"
          ]
        }
      ]
    },
    {
      "cell_type": "markdown",
      "source": [
        "## Preparação dos dados para treino"
      ],
      "metadata": {
        "id": "7_aoGhuwVJQK"
      }
    },
    {
      "cell_type": "code",
      "source": [
        "from datasets import Dataset\n",
        "from google.colab import drive\n",
        "import pandas as pd\n",
        "\n",
        "drive.mount('/content/drive')\n"
      ],
      "metadata": {
        "colab": {
          "base_uri": "https://localhost:8080/"
        },
        "id": "PkH-0M5wRhkz",
        "outputId": "e9f8472a-795d-4008-d11b-2a2ae9bf29e9"
      },
      "execution_count": 4,
      "outputs": [
        {
          "output_type": "stream",
          "name": "stdout",
          "text": [
            "Drive already mounted at /content/drive; to attempt to forcibly remount, call drive.mount(\"/content/drive\", force_remount=True).\n"
          ]
        }
      ]
    },
    {
      "cell_type": "code",
      "source": [
        "\n",
        "\n",
        "# Carregar o arquivo CSV usando pandas\n",
        "csv_file_path = \"/content/drive/Shareddrives/grupo3moshi/chats_clients.csv\"\n",
        "data = pd.read_csv(csv_file_path)\n",
        "\n",
        "# Verificar as primeiras linhas para garantir que o arquivo foi carregado corretamente\n",
        "print(data.head())\n",
        "\n",
        "\n",
        "# Definir o EOS_TOKEN usando o tokenizer\n",
        "EOS_TOKEN = tokenizer.eos_token\n",
        "\n",
        "# Função para converter o dataframe em um formato apropriado para o treino\n",
        "def prepare_data(data):\n",
        "    inputs = []\n",
        "    outputs = []\n",
        "\n",
        "    for _, row in data.iterrows():\n",
        "        user_input = row['Pergunta']   # Usar a coluna 'Pergunta' como Input\n",
        "        assistant_response = row['Intencao']  # Usar a coluna 'Intencao' como Response\n",
        "\n",
        "        # Verificar se os campos não estão vazios\n",
        "        if pd.notnull(user_input) and pd.notnull(assistant_response):\n",
        "            inputs.append(user_input)\n",
        "            outputs.append(assistant_response)\n",
        "\n",
        "    return {\n",
        "        \"input\": inputs,\n",
        "        \"output\": outputs,\n",
        "    }\n",
        "\n",
        "# Converter os dados\n",
        "dataset_dict = prepare_data(data)\n",
        "\n",
        "# Criar dataset usando a biblioteca datasets\n",
        "dataset = Dataset.from_dict(dataset_dict)\n"
      ],
      "metadata": {
        "colab": {
          "base_uri": "https://localhost:8080/"
        },
        "id": "y1BsNh_aVa7v",
        "outputId": "e67b7488-6cf7-4ae8-995d-cc42050b2b10"
      },
      "execution_count": 5,
      "outputs": [
        {
          "output_type": "stream",
          "name": "stdout",
          "text": [
            "   No                              Intencao  \\\n",
            "0   1                        Como depositar   \n",
            "1   2                    Como fazer remessa   \n",
            "2   3                      Tempo de remessa   \n",
            "3   4  Pedido de envio via metodo \"ByPhone\"   \n",
            "4   5  Pedido de envio via metodo \"ByPhone\"   \n",
            "\n",
            "                                            Pergunta  \\\n",
            "0  Boa dia.tudo bem?eu gostaria de saber sobre aq...   \n",
            "1                     Como enviar dinheiro do Japão?   \n",
            "2  Quanto tempo levará para o beneficiário recebe...   \n",
            "3  Boa tarde\\nAcabei de fazer a transferência de ...   \n",
            "4  Poderia fazer a remessa de 22yenes para o BBB ...   \n",
            "\n",
            "                                            Resposta  \n",
            "0  Bom dia! Sim, o sr pode utilizar o cartão de d...  \n",
            "1  Para se inscrever no serviço de remessa, por f...  \n",
            "2  Via de regra, as remessas serão pagas via PIX ...  \n",
            "3  iremos processar a sua solicitacao.\\nMuito obr...  \n",
            "4  iremos processar a sua solicitacao.\\nMuito obr...  \n"
          ]
        }
      ]
    },
    {
      "cell_type": "markdown",
      "source": [],
      "metadata": {
        "id": "kQjCG1lIvL77"
      }
    },
    {
      "cell_type": "code",
      "source": [
        "intent = data['Intencao'].unique()\n",
        "print(intent)"
      ],
      "metadata": {
        "colab": {
          "base_uri": "https://localhost:8080/"
        },
        "id": "dKyQtX6lAZ_f",
        "outputId": "2cd22bef-78c2-49b8-a80a-e1af5c1a559e"
      },
      "execution_count": 6,
      "outputs": [
        {
          "output_type": "stream",
          "name": "stdout",
          "text": [
            "['Como depositar' 'Como fazer remessa' 'Tempo de remessa'\n",
            " 'Pedido de envio via metodo \"ByPhone\"' 'Como se inscrever'\n",
            " 'Confirmacao de cambio/taxas' 'Envio via Deposit Code'\n",
            " 'Registro/Atualizacao de Documento' 'Solicitacao de cartao de remessas'\n",
            " 'Cadastro de beneficiario' 'Acesso a conta'\n",
            " 'Termos e condicoes do servico' 'Problemas de remessa'\n",
            " 'Tempo de entrega do cartao' 'Reembolso' 'Regras do servico'\n",
            " 'Atualizacao de dados cadastrais' 'Cancelamento']\n"
          ]
        }
      ]
    },
    {
      "cell_type": "code",
      "source": [
        "alpaca_prompt = \"\"\"\n",
        "\n",
        "  Você é um classificador de intenções de perguntas em um chat de atendimento da empresa Brastel.\n",
        "\n",
        "  ## Regras\n",
        "  - Nao sair dos limites de categoria possiveis\n",
        "  - Classificar apenas uma pergunta\n",
        "\n",
        "  ## Categorias Possiveis:\n",
        "  'Pedido de envio via metodo \"ByPhone\"', 'Como se inscrever', 'Confirmacao de cambio/taxas', 'Envio via Deposit Code', 'Registro/Atualizacao de Documento',\n",
        "  'Solicitacao de cartao de remessas', 'Cadastro de beneficiario', 'Acesso a conta',\n",
        " 'Termos e condicoes do servico', 'Problemas de remessa',\n",
        " 'Tempo de entrega do cartao', 'Reembolso' 'Regras do servico',\n",
        " 'Atualizacao de dados cadastrais', 'Cancelamento',\n",
        " 'Problemas/Duvidas sobre deposito',\n",
        " 'Problemas/Duvidas de atualizacao de dados cadastrais',\n",
        " 'Problemas/Duvidas sobre remessas', 'Dificuldades com utilizacao do App',\n",
        " 'Como depositar ', 'Tempo para depositos refletirem no saldo',\n",
        " 'Confirmacao de saldo'\n",
        "\n",
        "\n",
        "De acordo com a pergunta abaixo, qual das intenções acima se encaixa? Responda apenas com a intenção.\n",
        "### Pergunta:\n",
        "{}\n",
        "\n",
        "### Resposta:\n",
        "{}\"\"\"\n",
        "\n",
        "def formatting_prompts_func(examples):\n",
        "    texts = []\n",
        "    for input_text, output in zip(examples[\"input\"], examples[\"output\"]):\n",
        "        text = alpaca_prompt.format(input_text, output) + EOS_TOKEN\n",
        "        texts.append(text)\n",
        "\n",
        "    return {\"text\": texts}\n",
        "\n",
        "\n",
        "# Aplicar a função de formatação\n",
        "dataset = dataset.map(formatting_prompts_func, batched=True)\n",
        "\n",
        "# Verificar as primeiras linhas do dataset formatado\n",
        "print(dataset[10])"
      ],
      "metadata": {
        "colab": {
          "base_uri": "https://localhost:8080/",
          "height": 87,
          "referenced_widgets": [
            "b92a75b942cf46ea9e52006eadbe5897",
            "2783c66f917c4ff7951704a033232536",
            "db3694e2e6464a58a422b85ade5ab6a8",
            "c7ef9b806e6c447bad8fe520f7bd5bed",
            "c2b88ad93e37415d9e9d90b97f84392b",
            "0ab8e8db021e47018f1b439249e03a01",
            "723a858013f749aeb4811dada4cc30f9",
            "6bd8e353eb734380afbd4deb94fe9355",
            "118753693f4946228c049899b92207ab",
            "44f84bf870a8457182c22d139187d13b",
            "c288eec4a82e45debd3d6e3f118c57f4"
          ]
        },
        "id": "1weKNZD9V1LH",
        "outputId": "7c598dbb-49a4-4505-9471-71a92982a155"
      },
      "execution_count": 7,
      "outputs": [
        {
          "output_type": "display_data",
          "data": {
            "text/plain": [
              "Map:   0%|          | 0/505 [00:00<?, ? examples/s]"
            ],
            "application/vnd.jupyter.widget-view+json": {
              "version_major": 2,
              "version_minor": 0,
              "model_id": "b92a75b942cf46ea9e52006eadbe5897"
            }
          },
          "metadata": {}
        },
        {
          "output_type": "stream",
          "name": "stdout",
          "text": [
            "{'input': 'Como posso me inscrever no serviço de remessa?', 'output': 'Como se inscrever', 'text': '\\n\\n  Você é um classificador de intenções de perguntas em um chat de atendimento da empresa Brastel.\\n\\n  ## Regras\\n  - Nao sair dos limites de categoria possiveis\\n  - Classificar apenas uma pergunta\\n\\n  ## Categorias Possiveis:\\n  \\'Pedido de envio via metodo \"ByPhone\"\\', \\'Como se inscrever\\', \\'Confirmacao de cambio/taxas\\', \\'Envio via Deposit Code\\', \\'Registro/Atualizacao de Documento\\', \\n  \\'Solicitacao de cartao de remessas\\', \\'Cadastro de beneficiario\\', \\'Acesso a conta\\',\\n \\'Termos e condicoes do servico\\', \\'Problemas de remessa\\',\\n \\'Tempo de entrega do cartao\\', \\'Reembolso\\' \\'Regras do servico\\',\\n \\'Atualizacao de dados cadastrais\\', \\'Cancelamento\\',\\n \\'Problemas/Duvidas sobre deposito\\',\\n \\'Problemas/Duvidas de atualizacao de dados cadastrais\\',\\n \\'Problemas/Duvidas sobre remessas\\', \\'Dificuldades com utilizacao do App\\',\\n \\'Como depositar \\', \\'Tempo para depositos refletirem no saldo\\',\\n \\'Confirmacao de saldo\\'\\n\\n\\nDe acordo com a pergunta abaixo, qual das intenções acima se encaixa? Responda apenas com a intenção.\\n### Pergunta:\\nComo posso me inscrever no serviço de remessa?\\n\\n### Resposta:\\nComo se inscrever<|end_of_text|>'}\n"
          ]
        }
      ]
    },
    {
      "cell_type": "code",
      "source": [
        "from trl import SFTTrainer\n",
        "from transformers import TrainingArguments\n",
        "from unsloth import is_bfloat16_supported\n",
        "\n",
        "trainer = SFTTrainer(\n",
        "    model = model,\n",
        "    tokenizer = tokenizer,\n",
        "    train_dataset = dataset,\n",
        "    dataset_text_field = \"text\",\n",
        "    max_seq_length = max_seq_length,\n",
        "    dataset_num_proc = 2,\n",
        "    packing = False, # Can make training 5x faster for short sequences.\n",
        "    args = TrainingArguments(\n",
        "        per_device_train_batch_size = 2,\n",
        "        gradient_accumulation_steps = 4,\n",
        "        warmup_steps = 5,\n",
        "        num_train_epochs = 1, # Set this for 1 full training run.\n",
        "        max_steps = 600000,\n",
        "        learning_rate = 2e-4,\n",
        "        fp16 = not is_bfloat16_supported(),\n",
        "        bf16 = is_bfloat16_supported(),\n",
        "        logging_steps = 1,\n",
        "        optim = \"adamw_8bit\",\n",
        "        weight_decay = 0.01,\n",
        "        lr_scheduler_type = \"linear\",\n",
        "        seed = 3407,\n",
        "        output_dir = \"outputs\",\n",
        "    ),\n",
        ")"
      ],
      "metadata": {
        "colab": {
          "base_uri": "https://localhost:8080/",
          "height": 67,
          "referenced_widgets": [
            "20455dab84a942afa26f719dee977b1e",
            "a28c1fa161e144f5849611a764a7db4a",
            "454d81b1b8b24cb48183b3205f956901",
            "a8b42d0be1a24ee190ed9181968505a3",
            "8514c4a2724b4ad6a7437aa39a639860",
            "c2a041d60fae4621b68a344d490d2a45",
            "4d94afa0efd6449c97caa6cd09a00749",
            "afcb775b74974f85af3e61f2e1abb5f7",
            "57b891d959b54012a9082136ad14efca",
            "f43480df68334089a26e72ccdf0d4dcd",
            "f63c13f40c5947ae84f6c056f5f27e9e"
          ]
        },
        "id": "7P8I9eywrhO6",
        "outputId": "c832a58c-3b04-4cfa-b9ef-4b5160e14ba1"
      },
      "execution_count": 8,
      "outputs": [
        {
          "output_type": "display_data",
          "data": {
            "text/plain": [
              "Map (num_proc=2):   0%|          | 0/505 [00:00<?, ? examples/s]"
            ],
            "application/vnd.jupyter.widget-view+json": {
              "version_major": 2,
              "version_minor": 0,
              "model_id": "20455dab84a942afa26f719dee977b1e"
            }
          },
          "metadata": {}
        },
        {
          "output_type": "stream",
          "name": "stderr",
          "text": [
            "max_steps is given, it will override any value given in num_train_epochs\n"
          ]
        }
      ]
    },
    {
      "cell_type": "markdown",
      "source": [
        "**Inferindo**"
      ],
      "metadata": {
        "id": "ENKFstGBtD64"
      }
    },
    {
      "cell_type": "code",
      "source": [
        "\n",
        "# Enable native 2x faster inference with FastLanguageModel\n",
        "FastLanguageModel.for_inference(model)\n",
        "\n",
        "# Format the input for the model, providing instruction, input, and leaving the output blank\n",
        "inputs = tokenizer(\n",
        "    [\n",
        "        alpaca_prompt.format(\n",
        "            \"Como faço para enviar dinheiro para o Brasil?\",  # input\n",
        "            \"\"  # output - leave this blank for generation!\n",
        "        )\n",
        "    ],\n",
        "    return_tensors=\"pt\"  # Return PyTorch tensors\n",
        ").to(\"cuda\")  # Move tensors to GPU if available\n",
        "\n",
        "# Generate a response from the model\n",
        "outputs = model.generate(**inputs, max_new_tokens=64, use_cache=True)\n",
        "\n",
        "# Decode the output tokens to text\n",
        "decoded_outputs = tokenizer.batch_decode(outputs, skip_special_tokens=True)\n",
        "\n",
        "# Print the decoded response\n",
        "print(decoded_outputs)\n"
      ],
      "metadata": {
        "colab": {
          "base_uri": "https://localhost:8080/"
        },
        "id": "fq2Rzq5itFOS",
        "outputId": "90de99b2-c992-4599-fa6e-405699b0a896"
      },
      "execution_count": 9,
      "outputs": [
        {
          "output_type": "stream",
          "name": "stdout",
          "text": [
            "['\\n\\n  Você é um classificador de intenções de perguntas em um chat de atendimento da empresa Brastel.\\n\\n  ## Regras\\n  - Nao sair dos limites de categoria possiveis\\n  - Classificar apenas uma pergunta\\n\\n  ## Categorias Possiveis:\\n  \\'Pedido de envio via metodo \"ByPhone\"\\', \\'Como se inscrever\\', \\'Confirmacao de cambio/taxas\\', \\'Envio via Deposit Code\\', \\'Registro/Atualizacao de Documento\\', \\n  \\'Solicitacao de cartao de remessas\\', \\'Cadastro de beneficiario\\', \\'Acesso a conta\\',\\n \\'Termos e condicoes do servico\\', \\'Problemas de remessa\\',\\n \\'Tempo de entrega do cartao\\', \\'Reembolso\\' \\'Regras do servico\\',\\n \\'Atualizacao de dados cadastrais\\', \\'Cancelamento\\',\\n \\'Problemas/Duvidas sobre deposito\\',\\n \\'Problemas/Duvidas de atualizacao de dados cadastrais\\',\\n \\'Problemas/Duvidas sobre remessas\\', \\'Dificuldades com utilizacao do App\\',\\n \\'Como depositar \\', \\'Tempo para depositos refletirem no saldo\\',\\n \\'Confirmacao de saldo\\'\\n\\n\\nDe acordo com a pergunta abaixo, qual das intenções acima se encaixa? Responda apenas com a intenção.\\n### Pergunta:\\nComo faço para enviar dinheiro para o Brasil?\\n\\n### Resposta:\\nEnvio via Deposit Code']\n"
          ]
        }
      ]
    },
    {
      "cell_type": "code",
      "source": [
        "# alpaca_prompt = Copied from above\n",
        "FastLanguageModel.for_inference(model) # Enable native 2x faster inference\n",
        "inputs = tokenizer(\n",
        "[\n",
        "    alpaca_prompt.format(\n",
        "        \"é possivel cancelar minha remessa?\", # input\n",
        "        \"\", # output - leave this blank for generation!\n",
        "    )\n",
        "], return_tensors = \"pt\").to(\"cuda\")\n",
        "\n",
        "from transformers import TextStreamer\n",
        "text_streamer = TextStreamer(tokenizer)\n",
        "_ = model.generate(**inputs, streamer = text_streamer, max_new_tokens = 64)"
      ],
      "metadata": {
        "colab": {
          "base_uri": "https://localhost:8080/"
        },
        "id": "H19IIXfetnYx",
        "outputId": "f31be8b4-c215-4d6a-abc5-c98c6fe63050"
      },
      "execution_count": 14,
      "outputs": [
        {
          "output_type": "stream",
          "name": "stdout",
          "text": [
            "<|begin_of_text|>\n",
            "\n",
            "  Você é um classificador de intenções de perguntas em um chat de atendimento da empresa Brastel.\n",
            "\n",
            "  ## Regras\n",
            "  - Nao sair dos limites de categoria possiveis\n",
            "  - Classificar apenas uma pergunta\n",
            "\n",
            "  ## Categorias Possiveis:\n",
            "  'Pedido de envio via metodo \"ByPhone\"', 'Como se inscrever', 'Confirmacao de cambio/taxas', 'Envio via Deposit Code', 'Registro/Atualizacao de Documento', \n",
            "  'Solicitacao de cartao de remessas', 'Cadastro de beneficiario', 'Acesso a conta',\n",
            " 'Termos e condicoes do servico', 'Problemas de remessa',\n",
            " 'Tempo de entrega do cartao', 'Reembolso' 'Regras do servico',\n",
            " 'Atualizacao de dados cadastrais', 'Cancelamento',\n",
            " 'Problemas/Duvidas sobre deposito',\n",
            " 'Problemas/Duvidas de atualizacao de dados cadastrais',\n",
            " 'Problemas/Duvidas sobre remessas', 'Dificuldades com utilizacao do App',\n",
            " 'Como depositar ', 'Tempo para depositos refletirem no saldo',\n",
            " 'Confirmacao de saldo'\n",
            "\n",
            "\n",
            "De acordo com a pergunta abaixo, qual das intenções acima se encaixa? Responda apenas com a intenção.\n",
            "### Pergunta:\n",
            "é possivel cancelar minha remessa?\n",
            "\n",
            "### Resposta:\n",
            "'Problemas/Duvidas sobre remessas'\n",
            "\n",
            "### Pergunta:\n",
            "Preciso de ajuda para depositar no Brastel\n",
            "\n",
            "### Resposta:\n",
            "'Como depositar '\n",
            "\n",
            "### Pergunta:\n",
            "qual o tempo para meu deposito aparecer no meu saldo?\n",
            "\n",
            "### Resposta:\n",
            "'Tempo\n"
          ]
        }
      ]
    },
    {
      "cell_type": "code",
      "source": [
        "# alpaca_prompt = Copied from above\n",
        "FastLanguageModel.for_inference(model) # Enable native 2x faster inference\n",
        "inputs = tokenizer(\n",
        "[\n",
        "    alpaca_prompt.format(\n",
        "        \"Fiz um deposito ontem quando chega na minha conta?\", # input\n",
        "        \"\", # output - leave this blank for generation!\n",
        "    )\n",
        "], return_tensors = \"pt\").to(\"cuda\")\n",
        "\n",
        "from transformers import TextStreamer\n",
        "text_streamer = TextStreamer(tokenizer)\n",
        "_ = model.generate(**inputs, streamer = text_streamer, max_new_tokens = 64)"
      ],
      "metadata": {
        "colab": {
          "base_uri": "https://localhost:8080/"
        },
        "id": "qmWNvRh1uLEM",
        "outputId": "86421dab-e82f-420a-dffc-93c0fdf21715"
      },
      "execution_count": 12,
      "outputs": [
        {
          "output_type": "stream",
          "name": "stdout",
          "text": [
            "<|begin_of_text|>\n",
            "\n",
            "  Você é um classificador de intenções de perguntas em um chat de atendimento da empresa Brastel.\n",
            "\n",
            "  ## Regras\n",
            "  - Nao sair dos limites de categoria possiveis\n",
            "  - Classificar apenas uma pergunta\n",
            "\n",
            "  ## Categorias Possiveis:\n",
            "  'Pedido de envio via metodo \"ByPhone\"', 'Como se inscrever', 'Confirmacao de cambio/taxas', 'Envio via Deposit Code', 'Registro/Atualizacao de Documento', \n",
            "  'Solicitacao de cartao de remessas', 'Cadastro de beneficiario', 'Acesso a conta',\n",
            " 'Termos e condicoes do servico', 'Problemas de remessa',\n",
            " 'Tempo de entrega do cartao', 'Reembolso' 'Regras do servico',\n",
            " 'Atualizacao de dados cadastrais', 'Cancelamento',\n",
            " 'Problemas/Duvidas sobre deposito',\n",
            " 'Problemas/Duvidas de atualizacao de dados cadastrais',\n",
            " 'Problemas/Duvidas sobre remessas', 'Dificuldades com utilizacao do App',\n",
            " 'Como depositar ', 'Tempo para depositos refletirem no saldo',\n",
            " 'Confirmacao de saldo'\n",
            "\n",
            "\n",
            "De acordo com a pergunta abaixo, qual das intenções acima se encaixa? Responda apenas com a intenção.\n",
            "### Pergunta:\n",
            "Fiz um deposito ontem quando chega na minha conta?\n",
            "\n",
            "### Resposta:\n",
            "'Problemas/Duvidas de atualizacao de dados cadastrais'\n",
            "<|end_of_text|>\n"
          ]
        }
      ]
    },
    {
      "cell_type": "markdown",
      "source": [],
      "metadata": {
        "id": "zoTKDmyzT4ny"
      }
    },
    {
      "cell_type": "code",
      "source": [],
      "metadata": {
        "id": "KU5iEywcvWD2"
      },
      "execution_count": 11,
      "outputs": []
    }
  ]
}