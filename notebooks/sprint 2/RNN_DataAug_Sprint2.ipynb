{
  "cells": [
    {
      "cell_type": "code",
      "execution_count": 1,
      "metadata": {
        "colab": {
          "base_uri": "https://localhost:8080/"
        },
        "collapsed": true,
        "id": "O0wvdPXKWeJh",
        "outputId": "e31f29d4-5ac8-4b93-de60-4b566eef9f91"
      },
      "outputs": [
        {
          "output_type": "stream",
          "name": "stdout",
          "text": [
            "Collecting pt-core-news-sm==3.7.0\n",
            "  Downloading https://github.com/explosion/spacy-models/releases/download/pt_core_news_sm-3.7.0/pt_core_news_sm-3.7.0-py3-none-any.whl (13.0 MB)\n",
            "\u001b[2K     \u001b[90m━━━━━━━━━━━━━━━━━━━━━━━━━━━━━━━━━━━━━━━━\u001b[0m \u001b[32m13.0/13.0 MB\u001b[0m \u001b[31m106.2 MB/s\u001b[0m eta \u001b[36m0:00:00\u001b[0m\n",
            "\u001b[?25hRequirement already satisfied: spacy<3.8.0,>=3.7.0 in /usr/local/lib/python3.10/dist-packages (from pt-core-news-sm==3.7.0) (3.7.6)\n",
            "Requirement already satisfied: spacy-legacy<3.1.0,>=3.0.11 in /usr/local/lib/python3.10/dist-packages (from spacy<3.8.0,>=3.7.0->pt-core-news-sm==3.7.0) (3.0.12)\n",
            "Requirement already satisfied: spacy-loggers<2.0.0,>=1.0.0 in /usr/local/lib/python3.10/dist-packages (from spacy<3.8.0,>=3.7.0->pt-core-news-sm==3.7.0) (1.0.5)\n",
            "Requirement already satisfied: murmurhash<1.1.0,>=0.28.0 in /usr/local/lib/python3.10/dist-packages (from spacy<3.8.0,>=3.7.0->pt-core-news-sm==3.7.0) (1.0.10)\n",
            "Requirement already satisfied: cymem<2.1.0,>=2.0.2 in /usr/local/lib/python3.10/dist-packages (from spacy<3.8.0,>=3.7.0->pt-core-news-sm==3.7.0) (2.0.8)\n",
            "Requirement already satisfied: preshed<3.1.0,>=3.0.2 in /usr/local/lib/python3.10/dist-packages (from spacy<3.8.0,>=3.7.0->pt-core-news-sm==3.7.0) (3.0.9)\n",
            "Requirement already satisfied: thinc<8.3.0,>=8.2.2 in /usr/local/lib/python3.10/dist-packages (from spacy<3.8.0,>=3.7.0->pt-core-news-sm==3.7.0) (8.2.5)\n",
            "Requirement already satisfied: wasabi<1.2.0,>=0.9.1 in /usr/local/lib/python3.10/dist-packages (from spacy<3.8.0,>=3.7.0->pt-core-news-sm==3.7.0) (1.1.3)\n",
            "Requirement already satisfied: srsly<3.0.0,>=2.4.3 in /usr/local/lib/python3.10/dist-packages (from spacy<3.8.0,>=3.7.0->pt-core-news-sm==3.7.0) (2.4.8)\n",
            "Requirement already satisfied: catalogue<2.1.0,>=2.0.6 in /usr/local/lib/python3.10/dist-packages (from spacy<3.8.0,>=3.7.0->pt-core-news-sm==3.7.0) (2.0.10)\n",
            "Requirement already satisfied: weasel<0.5.0,>=0.1.0 in /usr/local/lib/python3.10/dist-packages (from spacy<3.8.0,>=3.7.0->pt-core-news-sm==3.7.0) (0.4.1)\n",
            "Requirement already satisfied: typer<1.0.0,>=0.3.0 in /usr/local/lib/python3.10/dist-packages (from spacy<3.8.0,>=3.7.0->pt-core-news-sm==3.7.0) (0.12.4)\n",
            "Requirement already satisfied: tqdm<5.0.0,>=4.38.0 in /usr/local/lib/python3.10/dist-packages (from spacy<3.8.0,>=3.7.0->pt-core-news-sm==3.7.0) (4.66.5)\n",
            "Requirement already satisfied: requests<3.0.0,>=2.13.0 in /usr/local/lib/python3.10/dist-packages (from spacy<3.8.0,>=3.7.0->pt-core-news-sm==3.7.0) (2.32.3)\n",
            "Requirement already satisfied: pydantic!=1.8,!=1.8.1,<3.0.0,>=1.7.4 in /usr/local/lib/python3.10/dist-packages (from spacy<3.8.0,>=3.7.0->pt-core-news-sm==3.7.0) (2.8.2)\n",
            "Requirement already satisfied: jinja2 in /usr/local/lib/python3.10/dist-packages (from spacy<3.8.0,>=3.7.0->pt-core-news-sm==3.7.0) (3.1.4)\n",
            "Requirement already satisfied: setuptools in /usr/local/lib/python3.10/dist-packages (from spacy<3.8.0,>=3.7.0->pt-core-news-sm==3.7.0) (71.0.4)\n",
            "Requirement already satisfied: packaging>=20.0 in /usr/local/lib/python3.10/dist-packages (from spacy<3.8.0,>=3.7.0->pt-core-news-sm==3.7.0) (24.1)\n",
            "Requirement already satisfied: langcodes<4.0.0,>=3.2.0 in /usr/local/lib/python3.10/dist-packages (from spacy<3.8.0,>=3.7.0->pt-core-news-sm==3.7.0) (3.4.0)\n",
            "Requirement already satisfied: numpy>=1.19.0 in /usr/local/lib/python3.10/dist-packages (from spacy<3.8.0,>=3.7.0->pt-core-news-sm==3.7.0) (1.26.4)\n",
            "Requirement already satisfied: language-data>=1.2 in /usr/local/lib/python3.10/dist-packages (from langcodes<4.0.0,>=3.2.0->spacy<3.8.0,>=3.7.0->pt-core-news-sm==3.7.0) (1.2.0)\n",
            "Requirement already satisfied: annotated-types>=0.4.0 in /usr/local/lib/python3.10/dist-packages (from pydantic!=1.8,!=1.8.1,<3.0.0,>=1.7.4->spacy<3.8.0,>=3.7.0->pt-core-news-sm==3.7.0) (0.7.0)\n",
            "Requirement already satisfied: pydantic-core==2.20.1 in /usr/local/lib/python3.10/dist-packages (from pydantic!=1.8,!=1.8.1,<3.0.0,>=1.7.4->spacy<3.8.0,>=3.7.0->pt-core-news-sm==3.7.0) (2.20.1)\n",
            "Requirement already satisfied: typing-extensions>=4.6.1 in /usr/local/lib/python3.10/dist-packages (from pydantic!=1.8,!=1.8.1,<3.0.0,>=1.7.4->spacy<3.8.0,>=3.7.0->pt-core-news-sm==3.7.0) (4.12.2)\n",
            "Requirement already satisfied: charset-normalizer<4,>=2 in /usr/local/lib/python3.10/dist-packages (from requests<3.0.0,>=2.13.0->spacy<3.8.0,>=3.7.0->pt-core-news-sm==3.7.0) (3.3.2)\n",
            "Requirement already satisfied: idna<4,>=2.5 in /usr/local/lib/python3.10/dist-packages (from requests<3.0.0,>=2.13.0->spacy<3.8.0,>=3.7.0->pt-core-news-sm==3.7.0) (3.7)\n",
            "Requirement already satisfied: urllib3<3,>=1.21.1 in /usr/local/lib/python3.10/dist-packages (from requests<3.0.0,>=2.13.0->spacy<3.8.0,>=3.7.0->pt-core-news-sm==3.7.0) (2.0.7)\n",
            "Requirement already satisfied: certifi>=2017.4.17 in /usr/local/lib/python3.10/dist-packages (from requests<3.0.0,>=2.13.0->spacy<3.8.0,>=3.7.0->pt-core-news-sm==3.7.0) (2024.7.4)\n",
            "Requirement already satisfied: blis<0.8.0,>=0.7.8 in /usr/local/lib/python3.10/dist-packages (from thinc<8.3.0,>=8.2.2->spacy<3.8.0,>=3.7.0->pt-core-news-sm==3.7.0) (0.7.11)\n",
            "Requirement already satisfied: confection<1.0.0,>=0.0.1 in /usr/local/lib/python3.10/dist-packages (from thinc<8.3.0,>=8.2.2->spacy<3.8.0,>=3.7.0->pt-core-news-sm==3.7.0) (0.1.5)\n",
            "Requirement already satisfied: click>=8.0.0 in /usr/local/lib/python3.10/dist-packages (from typer<1.0.0,>=0.3.0->spacy<3.8.0,>=3.7.0->pt-core-news-sm==3.7.0) (8.1.7)\n",
            "Requirement already satisfied: shellingham>=1.3.0 in /usr/local/lib/python3.10/dist-packages (from typer<1.0.0,>=0.3.0->spacy<3.8.0,>=3.7.0->pt-core-news-sm==3.7.0) (1.5.4)\n",
            "Requirement already satisfied: rich>=10.11.0 in /usr/local/lib/python3.10/dist-packages (from typer<1.0.0,>=0.3.0->spacy<3.8.0,>=3.7.0->pt-core-news-sm==3.7.0) (13.7.1)\n",
            "Requirement already satisfied: cloudpathlib<1.0.0,>=0.7.0 in /usr/local/lib/python3.10/dist-packages (from weasel<0.5.0,>=0.1.0->spacy<3.8.0,>=3.7.0->pt-core-news-sm==3.7.0) (0.18.1)\n",
            "Requirement already satisfied: smart-open<8.0.0,>=5.2.1 in /usr/local/lib/python3.10/dist-packages (from weasel<0.5.0,>=0.1.0->spacy<3.8.0,>=3.7.0->pt-core-news-sm==3.7.0) (7.0.4)\n",
            "Requirement already satisfied: MarkupSafe>=2.0 in /usr/local/lib/python3.10/dist-packages (from jinja2->spacy<3.8.0,>=3.7.0->pt-core-news-sm==3.7.0) (2.1.5)\n",
            "Requirement already satisfied: marisa-trie>=0.7.7 in /usr/local/lib/python3.10/dist-packages (from language-data>=1.2->langcodes<4.0.0,>=3.2.0->spacy<3.8.0,>=3.7.0->pt-core-news-sm==3.7.0) (1.2.0)\n",
            "Requirement already satisfied: markdown-it-py>=2.2.0 in /usr/local/lib/python3.10/dist-packages (from rich>=10.11.0->typer<1.0.0,>=0.3.0->spacy<3.8.0,>=3.7.0->pt-core-news-sm==3.7.0) (3.0.0)\n",
            "Requirement already satisfied: pygments<3.0.0,>=2.13.0 in /usr/local/lib/python3.10/dist-packages (from rich>=10.11.0->typer<1.0.0,>=0.3.0->spacy<3.8.0,>=3.7.0->pt-core-news-sm==3.7.0) (2.16.1)\n",
            "Requirement already satisfied: wrapt in /usr/local/lib/python3.10/dist-packages (from smart-open<8.0.0,>=5.2.1->weasel<0.5.0,>=0.1.0->spacy<3.8.0,>=3.7.0->pt-core-news-sm==3.7.0) (1.16.0)\n",
            "Requirement already satisfied: mdurl~=0.1 in /usr/local/lib/python3.10/dist-packages (from markdown-it-py>=2.2.0->rich>=10.11.0->typer<1.0.0,>=0.3.0->spacy<3.8.0,>=3.7.0->pt-core-news-sm==3.7.0) (0.1.2)\n",
            "Installing collected packages: pt-core-news-sm\n",
            "Successfully installed pt-core-news-sm-3.7.0\n",
            "\u001b[38;5;2m✔ Download and installation successful\u001b[0m\n",
            "You can now load the package via spacy.load('pt_core_news_sm')\n",
            "\u001b[38;5;3m⚠ Restart to reload dependencies\u001b[0m\n",
            "If you are in a Jupyter or Colab notebook, you may need to restart Python in\n",
            "order to load all the package's dependencies. You can do this by selecting the\n",
            "'Restart kernel' or 'Restart runtime' option.\n",
            "Collecting googletrans==4.0.0-rc1\n",
            "  Downloading googletrans-4.0.0rc1.tar.gz (20 kB)\n",
            "  Preparing metadata (setup.py) ... \u001b[?25l\u001b[?25hdone\n",
            "Collecting httpx==0.13.3 (from googletrans==4.0.0-rc1)\n",
            "  Downloading httpx-0.13.3-py3-none-any.whl.metadata (25 kB)\n",
            "Requirement already satisfied: certifi in /usr/local/lib/python3.10/dist-packages (from httpx==0.13.3->googletrans==4.0.0-rc1) (2024.7.4)\n",
            "Collecting hstspreload (from httpx==0.13.3->googletrans==4.0.0-rc1)\n",
            "  Downloading hstspreload-2024.8.1-py3-none-any.whl.metadata (2.1 kB)\n",
            "Requirement already satisfied: sniffio in /usr/local/lib/python3.10/dist-packages (from httpx==0.13.3->googletrans==4.0.0-rc1) (1.3.1)\n",
            "Collecting chardet==3.* (from httpx==0.13.3->googletrans==4.0.0-rc1)\n",
            "  Downloading chardet-3.0.4-py2.py3-none-any.whl.metadata (3.2 kB)\n",
            "Collecting idna==2.* (from httpx==0.13.3->googletrans==4.0.0-rc1)\n",
            "  Downloading idna-2.10-py2.py3-none-any.whl.metadata (9.1 kB)\n",
            "Collecting rfc3986<2,>=1.3 (from httpx==0.13.3->googletrans==4.0.0-rc1)\n",
            "  Downloading rfc3986-1.5.0-py2.py3-none-any.whl.metadata (6.5 kB)\n",
            "Collecting httpcore==0.9.* (from httpx==0.13.3->googletrans==4.0.0-rc1)\n",
            "  Downloading httpcore-0.9.1-py3-none-any.whl.metadata (4.6 kB)\n",
            "Collecting h11<0.10,>=0.8 (from httpcore==0.9.*->httpx==0.13.3->googletrans==4.0.0-rc1)\n",
            "  Downloading h11-0.9.0-py2.py3-none-any.whl.metadata (8.1 kB)\n",
            "Collecting h2==3.* (from httpcore==0.9.*->httpx==0.13.3->googletrans==4.0.0-rc1)\n",
            "  Downloading h2-3.2.0-py2.py3-none-any.whl.metadata (32 kB)\n",
            "Collecting hyperframe<6,>=5.2.0 (from h2==3.*->httpcore==0.9.*->httpx==0.13.3->googletrans==4.0.0-rc1)\n",
            "  Downloading hyperframe-5.2.0-py2.py3-none-any.whl.metadata (7.2 kB)\n",
            "Collecting hpack<4,>=3.0 (from h2==3.*->httpcore==0.9.*->httpx==0.13.3->googletrans==4.0.0-rc1)\n",
            "  Downloading hpack-3.0.0-py2.py3-none-any.whl.metadata (7.0 kB)\n",
            "Downloading httpx-0.13.3-py3-none-any.whl (55 kB)\n",
            "\u001b[2K   \u001b[90m━━━━━━━━━━━━━━━━━━━━━━━━━━━━━━━━━━━━━━━━\u001b[0m \u001b[32m55.1/55.1 kB\u001b[0m \u001b[31m5.7 MB/s\u001b[0m eta \u001b[36m0:00:00\u001b[0m\n",
            "\u001b[?25hDownloading chardet-3.0.4-py2.py3-none-any.whl (133 kB)\n",
            "\u001b[2K   \u001b[90m━━━━━━━━━━━━━━━━━━━━━━━━━━━━━━━━━━━━━━━━\u001b[0m \u001b[32m133.4/133.4 kB\u001b[0m \u001b[31m12.5 MB/s\u001b[0m eta \u001b[36m0:00:00\u001b[0m\n",
            "\u001b[?25hDownloading httpcore-0.9.1-py3-none-any.whl (42 kB)\n",
            "\u001b[2K   \u001b[90m━━━━━━━━━━━━━━━━━━━━━━━━━━━━━━━━━━━━━━━━\u001b[0m \u001b[32m42.6/42.6 kB\u001b[0m \u001b[31m3.9 MB/s\u001b[0m eta \u001b[36m0:00:00\u001b[0m\n",
            "\u001b[?25hDownloading idna-2.10-py2.py3-none-any.whl (58 kB)\n",
            "\u001b[2K   \u001b[90m━━━━━━━━━━━━━━━━━━━━━━━━━━━━━━━━━━━━━━━━\u001b[0m \u001b[32m58.8/58.8 kB\u001b[0m \u001b[31m5.4 MB/s\u001b[0m eta \u001b[36m0:00:00\u001b[0m\n",
            "\u001b[?25hDownloading h2-3.2.0-py2.py3-none-any.whl (65 kB)\n",
            "\u001b[2K   \u001b[90m━━━━━━━━━━━━━━━━━━━━━━━━━━━━━━━━━━━━━━━━\u001b[0m \u001b[32m65.0/65.0 kB\u001b[0m \u001b[31m6.5 MB/s\u001b[0m eta \u001b[36m0:00:00\u001b[0m\n",
            "\u001b[?25hDownloading rfc3986-1.5.0-py2.py3-none-any.whl (31 kB)\n",
            "Downloading hstspreload-2024.8.1-py3-none-any.whl (1.2 MB)\n",
            "\u001b[2K   \u001b[90m━━━━━━━━━━━━━━━━━━━━━━━━━━━━━━━━━━━━━━━━\u001b[0m \u001b[32m1.2/1.2 MB\u001b[0m \u001b[31m61.8 MB/s\u001b[0m eta \u001b[36m0:00:00\u001b[0m\n",
            "\u001b[?25hDownloading h11-0.9.0-py2.py3-none-any.whl (53 kB)\n",
            "\u001b[2K   \u001b[90m━━━━━━━━━━━━━━━━━━━━━━━━━━━━━━━━━━━━━━━━\u001b[0m \u001b[32m53.6/53.6 kB\u001b[0m \u001b[31m5.0 MB/s\u001b[0m eta \u001b[36m0:00:00\u001b[0m\n",
            "\u001b[?25hDownloading hpack-3.0.0-py2.py3-none-any.whl (38 kB)\n",
            "Downloading hyperframe-5.2.0-py2.py3-none-any.whl (12 kB)\n",
            "Building wheels for collected packages: googletrans\n",
            "  Building wheel for googletrans (setup.py) ... \u001b[?25l\u001b[?25hdone\n",
            "  Created wheel for googletrans: filename=googletrans-4.0.0rc1-py3-none-any.whl size=17397 sha256=72001f5f5abec2d96e1e33744279707ad13c2916ba2b03f318e113cdcf636b35\n",
            "  Stored in directory: /root/.cache/pip/wheels/c0/59/9f/7372f0cf70160fe61b528532e1a7c8498c4becd6bcffb022de\n",
            "Successfully built googletrans\n",
            "Installing collected packages: rfc3986, hyperframe, hpack, h11, chardet, idna, hstspreload, h2, httpcore, httpx, googletrans\n",
            "  Attempting uninstall: chardet\n",
            "    Found existing installation: chardet 5.2.0\n",
            "    Uninstalling chardet-5.2.0:\n",
            "      Successfully uninstalled chardet-5.2.0\n",
            "  Attempting uninstall: idna\n",
            "    Found existing installation: idna 3.7\n",
            "    Uninstalling idna-3.7:\n",
            "      Successfully uninstalled idna-3.7\n",
            "Successfully installed chardet-3.0.4 googletrans-4.0.0rc1 h11-0.9.0 h2-3.2.0 hpack-3.0.0 hstspreload-2024.8.1 httpcore-0.9.1 httpx-0.13.3 hyperframe-5.2.0 idna-2.10 rfc3986-1.5.0\n",
            "Collecting enelvo\n",
            "  Downloading enelvo-0.15-py3-none-any.whl.metadata (12 kB)\n",
            "Requirement already satisfied: editdistance>=0.6.0 in /usr/local/lib/python3.10/dist-packages (from enelvo) (0.8.1)\n",
            "Collecting emoji==2.2.0 (from enelvo)\n",
            "  Downloading emoji-2.2.0.tar.gz (240 kB)\n",
            "\u001b[2K     \u001b[90m━━━━━━━━━━━━━━━━━━━━━━━━━━━━━━━━━━━━━━━━\u001b[0m \u001b[32m240.9/240.9 kB\u001b[0m \u001b[31m18.0 MB/s\u001b[0m eta \u001b[36m0:00:00\u001b[0m\n",
            "\u001b[?25h  Preparing metadata (setup.py) ... \u001b[?25l\u001b[?25hdone\n",
            "Requirement already satisfied: gensim>=4.1.2 in /usr/local/lib/python3.10/dist-packages (from enelvo) (4.3.3)\n",
            "Requirement already satisfied: numpy>=1.19.5 in /usr/local/lib/python3.10/dist-packages (from enelvo) (1.26.4)\n",
            "Requirement already satisfied: tabulate>=0.8.9 in /usr/local/lib/python3.10/dist-packages (from enelvo) (0.9.0)\n",
            "Requirement already satisfied: scipy<1.14.0,>=1.7.0 in /usr/local/lib/python3.10/dist-packages (from gensim>=4.1.2->enelvo) (1.13.1)\n",
            "Requirement already satisfied: smart-open>=1.8.1 in /usr/local/lib/python3.10/dist-packages (from gensim>=4.1.2->enelvo) (7.0.4)\n",
            "Requirement already satisfied: wrapt in /usr/local/lib/python3.10/dist-packages (from smart-open>=1.8.1->gensim>=4.1.2->enelvo) (1.16.0)\n",
            "Downloading enelvo-0.15-py3-none-any.whl (27.5 MB)\n",
            "\u001b[2K   \u001b[90m━━━━━━━━━━━━━━━━━━━━━━━━━━━━━━━━━━━━━━━━\u001b[0m \u001b[32m27.5/27.5 MB\u001b[0m \u001b[31m63.7 MB/s\u001b[0m eta \u001b[36m0:00:00\u001b[0m\n",
            "\u001b[?25hBuilding wheels for collected packages: emoji\n",
            "  Building wheel for emoji (setup.py) ... \u001b[?25l\u001b[?25hdone\n",
            "  Created wheel for emoji: filename=emoji-2.2.0-py3-none-any.whl size=234910 sha256=f4cf3a0e044816cb33ea223a1a2f6b5a78174c3dd0c2fecf2136c2bbd9fac2da\n",
            "  Stored in directory: /root/.cache/pip/wheels/02/3d/88/51a592b9ad17e7899126563698b4e3961983ebe85747228ba6\n",
            "Successfully built emoji\n",
            "Installing collected packages: emoji, enelvo\n",
            "Successfully installed emoji-2.2.0 enelvo-0.15\n"
          ]
        }
      ],
      "source": [
        "!python -m spacy download pt_core_news_sm\n",
        "!pip install googletrans==4.0.0-rc1\n",
        "!pip install enelvo"
      ]
    },
    {
      "cell_type": "code",
      "execution_count": 2,
      "metadata": {
        "colab": {
          "base_uri": "https://localhost:8080/"
        },
        "id": "j-twBc2TRpYu",
        "outputId": "5210b804-c91a-4a42-c808-295810ee23e8"
      },
      "outputs": [
        {
          "output_type": "stream",
          "name": "stderr",
          "text": [
            "[nltk_data] Downloading package stopwords to /root/nltk_data...\n",
            "[nltk_data]   Unzipping corpora/stopwords.zip.\n"
          ]
        },
        {
          "output_type": "execute_result",
          "data": {
            "text/plain": [
              "True"
            ]
          },
          "metadata": {},
          "execution_count": 2
        }
      ],
      "source": [
        "from google.colab import drive\n",
        "from googletrans import Translator\n",
        "from enelvo.normaliser import Normaliser\n",
        "from nltk.corpus import stopwords\n",
        "from sklearn.preprocessing import LabelEncoder\n",
        "from tensorflow.keras.models import Sequential, Model\n",
        "from tensorflow.keras.layers import SimpleRNN, Dense, Concatenate, Input, LSTM, Dropout, Bidirectional\n",
        "from tensorflow.keras.optimizers import Adam\n",
        "from tensorflow.keras.callbacks import EarlyStopping, ModelCheckpoint\n",
        "from sklearn.model_selection import train_test_split\n",
        "from sklearn.metrics import confusion_matrix, classification_report\n",
        "from sklearn.metrics import precision_recall_fscore_support\n",
        "import tensorflow as tf\n",
        "import re\n",
        "import numpy as np\n",
        "import pandas as pd\n",
        "import spacy\n",
        "import nltk\n",
        "\n",
        "nltk.download('stopwords')"
      ]
    },
    {
      "cell_type": "code",
      "execution_count": 3,
      "metadata": {
        "colab": {
          "base_uri": "https://localhost:8080/"
        },
        "id": "XnoPT8gnRprN",
        "outputId": "97c9a589-3ea1-4900-e551-4e19e5a5e78e"
      },
      "outputs": [
        {
          "output_type": "stream",
          "name": "stdout",
          "text": [
            "Mounted at /content/drive\n"
          ]
        }
      ],
      "source": [
        "drive.mount('/content/drive')"
      ]
    },
    {
      "cell_type": "markdown",
      "metadata": {
        "id": "4zKtGlTO_k37"
      },
      "source": [
        "# Pré-processamento"
      ]
    },
    {
      "cell_type": "markdown",
      "metadata": {
        "id": "TgQ368mGxOdd"
      },
      "source": [
        "## 0) Base de Dados"
      ]
    },
    {
      "cell_type": "code",
      "execution_count": 27,
      "metadata": {
        "colab": {
          "base_uri": "https://localhost:8080/",
          "height": 206
        },
        "collapsed": true,
        "id": "LsvYNwsYT2oa",
        "outputId": "913a02f9-bbb0-4cbd-8258-2d564e312057"
      },
      "outputs": [
        {
          "output_type": "execute_result",
          "data": {
            "text/plain": [
              "   No                              Intencao  \\\n",
              "0   1                        Como depositar   \n",
              "1   2                    Como fazer remessa   \n",
              "2   3                      Tempo de remessa   \n",
              "3   4  Pedido de envio via metodo \"ByPhone\"   \n",
              "4   5  Pedido de envio via metodo \"ByPhone\"   \n",
              "\n",
              "                                            Pergunta  \\\n",
              "0  Boa dia.tudo bem?eu gostaria de saber sobre aq...   \n",
              "1                     Como enviar dinheiro do Japão?   \n",
              "2  Quanto tempo levará para o beneficiário recebe...   \n",
              "3  Boa tarde\\nAcabei de fazer a transferência de ...   \n",
              "4  Poderia fazer a remessa de 22yenes para o BBB ...   \n",
              "\n",
              "                                            Resposta  \n",
              "0  Bom dia! Sim, o sr pode utilizar o cartão de d...  \n",
              "1  Para se inscrever no serviço de remessa, por f...  \n",
              "2  Via de regra, as remessas serão pagas via PIX ...  \n",
              "3  iremos processar a sua solicitacao.\\nMuito obr...  \n",
              "4  iremos processar a sua solicitacao.\\nMuito obr...  "
            ],
            "text/html": [
              "\n",
              "  <div id=\"df-4a3d6712-35ee-48f9-b7a4-185c32e1e0e4\" class=\"colab-df-container\">\n",
              "    <div>\n",
              "<style scoped>\n",
              "    .dataframe tbody tr th:only-of-type {\n",
              "        vertical-align: middle;\n",
              "    }\n",
              "\n",
              "    .dataframe tbody tr th {\n",
              "        vertical-align: top;\n",
              "    }\n",
              "\n",
              "    .dataframe thead th {\n",
              "        text-align: right;\n",
              "    }\n",
              "</style>\n",
              "<table border=\"1\" class=\"dataframe\">\n",
              "  <thead>\n",
              "    <tr style=\"text-align: right;\">\n",
              "      <th></th>\n",
              "      <th>No</th>\n",
              "      <th>Intencao</th>\n",
              "      <th>Pergunta</th>\n",
              "      <th>Resposta</th>\n",
              "    </tr>\n",
              "  </thead>\n",
              "  <tbody>\n",
              "    <tr>\n",
              "      <th>0</th>\n",
              "      <td>1</td>\n",
              "      <td>Como depositar</td>\n",
              "      <td>Boa dia.tudo bem?eu gostaria de saber sobre aq...</td>\n",
              "      <td>Bom dia! Sim, o sr pode utilizar o cartão de d...</td>\n",
              "    </tr>\n",
              "    <tr>\n",
              "      <th>1</th>\n",
              "      <td>2</td>\n",
              "      <td>Como fazer remessa</td>\n",
              "      <td>Como enviar dinheiro do Japão?</td>\n",
              "      <td>Para se inscrever no serviço de remessa, por f...</td>\n",
              "    </tr>\n",
              "    <tr>\n",
              "      <th>2</th>\n",
              "      <td>3</td>\n",
              "      <td>Tempo de remessa</td>\n",
              "      <td>Quanto tempo levará para o beneficiário recebe...</td>\n",
              "      <td>Via de regra, as remessas serão pagas via PIX ...</td>\n",
              "    </tr>\n",
              "    <tr>\n",
              "      <th>3</th>\n",
              "      <td>4</td>\n",
              "      <td>Pedido de envio via metodo \"ByPhone\"</td>\n",
              "      <td>Boa tarde\\nAcabei de fazer a transferência de ...</td>\n",
              "      <td>iremos processar a sua solicitacao.\\nMuito obr...</td>\n",
              "    </tr>\n",
              "    <tr>\n",
              "      <th>4</th>\n",
              "      <td>5</td>\n",
              "      <td>Pedido de envio via metodo \"ByPhone\"</td>\n",
              "      <td>Poderia fazer a remessa de 22yenes para o BBB ...</td>\n",
              "      <td>iremos processar a sua solicitacao.\\nMuito obr...</td>\n",
              "    </tr>\n",
              "  </tbody>\n",
              "</table>\n",
              "</div>\n",
              "    <div class=\"colab-df-buttons\">\n",
              "\n",
              "  <div class=\"colab-df-container\">\n",
              "    <button class=\"colab-df-convert\" onclick=\"convertToInteractive('df-4a3d6712-35ee-48f9-b7a4-185c32e1e0e4')\"\n",
              "            title=\"Convert this dataframe to an interactive table.\"\n",
              "            style=\"display:none;\">\n",
              "\n",
              "  <svg xmlns=\"http://www.w3.org/2000/svg\" height=\"24px\" viewBox=\"0 -960 960 960\">\n",
              "    <path d=\"M120-120v-720h720v720H120Zm60-500h600v-160H180v160Zm220 220h160v-160H400v160Zm0 220h160v-160H400v160ZM180-400h160v-160H180v160Zm440 0h160v-160H620v160ZM180-180h160v-160H180v160Zm440 0h160v-160H620v160Z\"/>\n",
              "  </svg>\n",
              "    </button>\n",
              "\n",
              "  <style>\n",
              "    .colab-df-container {\n",
              "      display:flex;\n",
              "      gap: 12px;\n",
              "    }\n",
              "\n",
              "    .colab-df-convert {\n",
              "      background-color: #E8F0FE;\n",
              "      border: none;\n",
              "      border-radius: 50%;\n",
              "      cursor: pointer;\n",
              "      display: none;\n",
              "      fill: #1967D2;\n",
              "      height: 32px;\n",
              "      padding: 0 0 0 0;\n",
              "      width: 32px;\n",
              "    }\n",
              "\n",
              "    .colab-df-convert:hover {\n",
              "      background-color: #E2EBFA;\n",
              "      box-shadow: 0px 1px 2px rgba(60, 64, 67, 0.3), 0px 1px 3px 1px rgba(60, 64, 67, 0.15);\n",
              "      fill: #174EA6;\n",
              "    }\n",
              "\n",
              "    .colab-df-buttons div {\n",
              "      margin-bottom: 4px;\n",
              "    }\n",
              "\n",
              "    [theme=dark] .colab-df-convert {\n",
              "      background-color: #3B4455;\n",
              "      fill: #D2E3FC;\n",
              "    }\n",
              "\n",
              "    [theme=dark] .colab-df-convert:hover {\n",
              "      background-color: #434B5C;\n",
              "      box-shadow: 0px 1px 3px 1px rgba(0, 0, 0, 0.15);\n",
              "      filter: drop-shadow(0px 1px 2px rgba(0, 0, 0, 0.3));\n",
              "      fill: #FFFFFF;\n",
              "    }\n",
              "  </style>\n",
              "\n",
              "    <script>\n",
              "      const buttonEl =\n",
              "        document.querySelector('#df-4a3d6712-35ee-48f9-b7a4-185c32e1e0e4 button.colab-df-convert');\n",
              "      buttonEl.style.display =\n",
              "        google.colab.kernel.accessAllowed ? 'block' : 'none';\n",
              "\n",
              "      async function convertToInteractive(key) {\n",
              "        const element = document.querySelector('#df-4a3d6712-35ee-48f9-b7a4-185c32e1e0e4');\n",
              "        const dataTable =\n",
              "          await google.colab.kernel.invokeFunction('convertToInteractive',\n",
              "                                                    [key], {});\n",
              "        if (!dataTable) return;\n",
              "\n",
              "        const docLinkHtml = 'Like what you see? Visit the ' +\n",
              "          '<a target=\"_blank\" href=https://colab.research.google.com/notebooks/data_table.ipynb>data table notebook</a>'\n",
              "          + ' to learn more about interactive tables.';\n",
              "        element.innerHTML = '';\n",
              "        dataTable['output_type'] = 'display_data';\n",
              "        await google.colab.output.renderOutput(dataTable, element);\n",
              "        const docLink = document.createElement('div');\n",
              "        docLink.innerHTML = docLinkHtml;\n",
              "        element.appendChild(docLink);\n",
              "      }\n",
              "    </script>\n",
              "  </div>\n",
              "\n",
              "\n",
              "<div id=\"df-3548746d-9284-48ad-b231-d73945a7692c\">\n",
              "  <button class=\"colab-df-quickchart\" onclick=\"quickchart('df-3548746d-9284-48ad-b231-d73945a7692c')\"\n",
              "            title=\"Suggest charts\"\n",
              "            style=\"display:none;\">\n",
              "\n",
              "<svg xmlns=\"http://www.w3.org/2000/svg\" height=\"24px\"viewBox=\"0 0 24 24\"\n",
              "     width=\"24px\">\n",
              "    <g>\n",
              "        <path d=\"M19 3H5c-1.1 0-2 .9-2 2v14c0 1.1.9 2 2 2h14c1.1 0 2-.9 2-2V5c0-1.1-.9-2-2-2zM9 17H7v-7h2v7zm4 0h-2V7h2v10zm4 0h-2v-4h2v4z\"/>\n",
              "    </g>\n",
              "</svg>\n",
              "  </button>\n",
              "\n",
              "<style>\n",
              "  .colab-df-quickchart {\n",
              "      --bg-color: #E8F0FE;\n",
              "      --fill-color: #1967D2;\n",
              "      --hover-bg-color: #E2EBFA;\n",
              "      --hover-fill-color: #174EA6;\n",
              "      --disabled-fill-color: #AAA;\n",
              "      --disabled-bg-color: #DDD;\n",
              "  }\n",
              "\n",
              "  [theme=dark] .colab-df-quickchart {\n",
              "      --bg-color: #3B4455;\n",
              "      --fill-color: #D2E3FC;\n",
              "      --hover-bg-color: #434B5C;\n",
              "      --hover-fill-color: #FFFFFF;\n",
              "      --disabled-bg-color: #3B4455;\n",
              "      --disabled-fill-color: #666;\n",
              "  }\n",
              "\n",
              "  .colab-df-quickchart {\n",
              "    background-color: var(--bg-color);\n",
              "    border: none;\n",
              "    border-radius: 50%;\n",
              "    cursor: pointer;\n",
              "    display: none;\n",
              "    fill: var(--fill-color);\n",
              "    height: 32px;\n",
              "    padding: 0;\n",
              "    width: 32px;\n",
              "  }\n",
              "\n",
              "  .colab-df-quickchart:hover {\n",
              "    background-color: var(--hover-bg-color);\n",
              "    box-shadow: 0 1px 2px rgba(60, 64, 67, 0.3), 0 1px 3px 1px rgba(60, 64, 67, 0.15);\n",
              "    fill: var(--button-hover-fill-color);\n",
              "  }\n",
              "\n",
              "  .colab-df-quickchart-complete:disabled,\n",
              "  .colab-df-quickchart-complete:disabled:hover {\n",
              "    background-color: var(--disabled-bg-color);\n",
              "    fill: var(--disabled-fill-color);\n",
              "    box-shadow: none;\n",
              "  }\n",
              "\n",
              "  .colab-df-spinner {\n",
              "    border: 2px solid var(--fill-color);\n",
              "    border-color: transparent;\n",
              "    border-bottom-color: var(--fill-color);\n",
              "    animation:\n",
              "      spin 1s steps(1) infinite;\n",
              "  }\n",
              "\n",
              "  @keyframes spin {\n",
              "    0% {\n",
              "      border-color: transparent;\n",
              "      border-bottom-color: var(--fill-color);\n",
              "      border-left-color: var(--fill-color);\n",
              "    }\n",
              "    20% {\n",
              "      border-color: transparent;\n",
              "      border-left-color: var(--fill-color);\n",
              "      border-top-color: var(--fill-color);\n",
              "    }\n",
              "    30% {\n",
              "      border-color: transparent;\n",
              "      border-left-color: var(--fill-color);\n",
              "      border-top-color: var(--fill-color);\n",
              "      border-right-color: var(--fill-color);\n",
              "    }\n",
              "    40% {\n",
              "      border-color: transparent;\n",
              "      border-right-color: var(--fill-color);\n",
              "      border-top-color: var(--fill-color);\n",
              "    }\n",
              "    60% {\n",
              "      border-color: transparent;\n",
              "      border-right-color: var(--fill-color);\n",
              "    }\n",
              "    80% {\n",
              "      border-color: transparent;\n",
              "      border-right-color: var(--fill-color);\n",
              "      border-bottom-color: var(--fill-color);\n",
              "    }\n",
              "    90% {\n",
              "      border-color: transparent;\n",
              "      border-bottom-color: var(--fill-color);\n",
              "    }\n",
              "  }\n",
              "</style>\n",
              "\n",
              "  <script>\n",
              "    async function quickchart(key) {\n",
              "      const quickchartButtonEl =\n",
              "        document.querySelector('#' + key + ' button');\n",
              "      quickchartButtonEl.disabled = true;  // To prevent multiple clicks.\n",
              "      quickchartButtonEl.classList.add('colab-df-spinner');\n",
              "      try {\n",
              "        const charts = await google.colab.kernel.invokeFunction(\n",
              "            'suggestCharts', [key], {});\n",
              "      } catch (error) {\n",
              "        console.error('Error during call to suggestCharts:', error);\n",
              "      }\n",
              "      quickchartButtonEl.classList.remove('colab-df-spinner');\n",
              "      quickchartButtonEl.classList.add('colab-df-quickchart-complete');\n",
              "    }\n",
              "    (() => {\n",
              "      let quickchartButtonEl =\n",
              "        document.querySelector('#df-3548746d-9284-48ad-b231-d73945a7692c button');\n",
              "      quickchartButtonEl.style.display =\n",
              "        google.colab.kernel.accessAllowed ? 'block' : 'none';\n",
              "    })();\n",
              "  </script>\n",
              "</div>\n",
              "\n",
              "    </div>\n",
              "  </div>\n"
            ],
            "application/vnd.google.colaboratory.intrinsic+json": {
              "type": "dataframe",
              "variable_name": "chats_clients",
              "summary": "{\n  \"name\": \"chats_clients\",\n  \"rows\": 1515,\n  \"fields\": [\n    {\n      \"column\": \"No\",\n      \"properties\": {\n        \"dtype\": \"number\",\n        \"std\": 145,\n        \"min\": 1,\n        \"max\": 505,\n        \"num_unique_values\": 505,\n        \"samples\": [\n          174,\n          275,\n          491\n        ],\n        \"semantic_type\": \"\",\n        \"description\": \"\"\n      }\n    },\n    {\n      \"column\": \"Intencao\",\n      \"properties\": {\n        \"dtype\": \"category\",\n        \"num_unique_values\": 18,\n        \"samples\": [\n          \"Como depositar\",\n          \"Como fazer remessa\",\n          \"Solicitacao de cartao de remessas\"\n        ],\n        \"semantic_type\": \"\",\n        \"description\": \"\"\n      }\n    },\n    {\n      \"column\": \"Pergunta\",\n      \"properties\": {\n        \"dtype\": \"string\",\n        \"num_unique_values\": 1407,\n        \"samples\": [\n          \"Ok, entendi, vou providenciar um familiar pra fazer a remessa !\\nComo que pe\\u00e7o o reembolso dos valores ?\",\n          \"WhatsApp benefici\\u00e1rio Bom favor dia prenche vcs daquele modelo os eu onde enviar pode precisava pelo mim bem dados me do com para tudo fazendo voc\\u00eas\",\n          \"Boa tarde Mandei \\u00a5 72.000 mil para voc\\u00ea fazerem vitamin A remessa para O Brasil \\ud83c\\udde7\\ud83c\\uddf7. Qual O valor que vai chegar ???\"\n        ],\n        \"semantic_type\": \"\",\n        \"description\": \"\"\n      }\n    },\n    {\n      \"column\": \"Resposta\",\n      \"properties\": {\n        \"dtype\": \"string\",\n        \"num_unique_values\": 1410,\n        \"samples\": [\n          \"Bom dia, ! C#3200326\\n\\nPara recuperar o acesso a sua conta na Brastel, por favor confirme o seu email para receber uma senha tempor\\u00e1ria e o nome do usu\\u00e1rio.\\n\\nSeu email registrado: aaaa.sss@dd.com\",\n          \"Dep\\u00f3sitos estamos com o d\\u00favida tarde, alguns , da brastel do Obrigado. entrar em remessa Sua disposi\\u00e7\\u00e3o. saldo Boa Qualquer processamento. est\\u00e1 laranja cart\\u00e3o para \\u00e0 no aplicativo. demora minutos\",\n          \"Bom dia! o reembolso deve ser solicitado via aplicativo acessando o card > Minha Conta > Reembolso. Qualquer d\\u00favida, estaremos \\u00e0 disposi\\u00e7\\u00e3o!\"\n        ],\n        \"semantic_type\": \"\",\n        \"description\": \"\"\n      }\n    }\n  ]\n}"
            }
          },
          "metadata": {},
          "execution_count": 27
        }
      ],
      "source": [
        "norm = Normaliser(tokenizer='readable')\n",
        "chats_clients = pd.read_csv('/content/drive/Shareddrives/grupo3moshi/augmented_data.csv')\n",
        "chats_clients.head()"
      ]
    },
    {
      "cell_type": "code",
      "execution_count": 28,
      "metadata": {
        "id": "CCR35ieaUElp"
      },
      "outputs": [],
      "source": [
        "chats_clients.fillna('erro ao processar a pergunta', inplace=True)"
      ]
    },
    {
      "cell_type": "code",
      "execution_count": 29,
      "metadata": {
        "id": "epMANJawWXim",
        "colab": {
          "base_uri": "https://localhost:8080/"
        },
        "outputId": "5818bb8b-3d02-4111-b654-9b919c29b5cf"
      },
      "outputs": [
        {
          "output_type": "stream",
          "name": "stderr",
          "text": [
            "/usr/local/lib/python3.10/dist-packages/spacy/util.py:1740: UserWarning: [W111] Jupyter notebook detected: if using `prefer_gpu()` or `require_gpu()`, include it in the same cell right before `spacy.load()` to ensure that the model is loaded on the correct device. More information: http://spacy.io/usage/v3#jupyter-notebook-gpu\n",
            "  warnings.warn(Warnings.W111)\n"
          ]
        }
      ],
      "source": [
        "nlp_pt = spacy.load(\"pt_core_news_sm\")"
      ]
    },
    {
      "cell_type": "code",
      "execution_count": 30,
      "metadata": {
        "id": "OoHXgLYBUJC0"
      },
      "outputs": [],
      "source": [
        "def correct_grammar(text):\n",
        "  return norm.normalise(text)"
      ]
    },
    {
      "cell_type": "markdown",
      "metadata": {
        "id": "pbDudgBXITkr"
      },
      "source": [
        "## 1) Word2Vec"
      ]
    },
    {
      "cell_type": "markdown",
      "metadata": {
        "id": "KfLLR7grIXcy"
      },
      "source": [
        "O processo de Word2Vec é uma técnica de aprendizado de máquina com o objetivo de vetorizar palavras almejando preservar o contexto, convertendo o resultado para a forma numérica, para que os dados possam ser utilizados em modelos de aprendizado de máquina.\n",
        "\n",
        "O Word2Vec pode possuir 2 arquiteturas, sendo elas:\n",
        "\n",
        "- Skip-Gram: rede tenta prever as palavras de contexto ao redor de uma palavra central\n",
        "- CBOW: rede tenta prever a palavra central com base no contexto ao redor da palavra central.\n",
        "\n",
        "Para fins de comparação, ambas as técnicas serão abordadas no código a seguir:"
      ]
    },
    {
      "cell_type": "markdown",
      "source": [
        "### 1.1) Skip-Gram"
      ],
      "metadata": {
        "id": "s_uqWtvn1vdW"
      }
    },
    {
      "cell_type": "code",
      "execution_count": 31,
      "metadata": {
        "id": "ER0CeIwZIWx5",
        "colab": {
          "base_uri": "https://localhost:8080/"
        },
        "outputId": "9ccbfea9-afaa-40ed-84aa-c5fc60323ea7"
      },
      "outputs": [
        {
          "output_type": "stream",
          "name": "stderr",
          "text": [
            "[nltk_data] Downloading package punkt to /root/nltk_data...\n",
            "[nltk_data]   Package punkt is already up-to-date!\n"
          ]
        }
      ],
      "source": [
        "from gensim.models import Word2Vec\n",
        "import nltk\n",
        "nltk.download('punkt')\n",
        "from nltk.tokenize import word_tokenize\n",
        "\n",
        "# Tokenizando as colunas\n",
        "chats_clients['Pergunta_tokens'] = chats_clients['Pergunta'].apply(lambda x: word_tokenize(x.lower()))\n",
        "chats_clients['Resposta_tokens'] = chats_clients['Resposta'].apply(lambda x: word_tokenize(x.lower()))\n",
        "\n",
        "# Unindo as listas de tokens de Pergunta e Resposta para o modelo processar a lista\n",
        "sentences_skip = chats_clients['Pergunta_tokens'].tolist() + chats_clients['Resposta_tokens'].tolist()\n",
        "\n",
        "# Utilizando o modelo Word2Vec\n",
        "model = Word2Vec(sentences_skip, vector_size=100, window=5, min_count=1, sg=1)  #sg=1 para Skip-Gram"
      ]
    },
    {
      "cell_type": "markdown",
      "metadata": {
        "id": "5tgZ5lGjKc6S"
      },
      "source": [
        "### 1.2) Resultados Obtidos"
      ]
    },
    {
      "cell_type": "code",
      "execution_count": 32,
      "metadata": {
        "colab": {
          "base_uri": "https://localhost:8080/"
        },
        "id": "R3XW7DzUhL_s",
        "outputId": "79b323b3-ae7c-4f24-aac4-964eee66340f"
      },
      "outputs": [
        {
          "output_type": "stream",
          "name": "stdout",
          "text": [
            "[-0.23450153  0.5743515  -0.2622718  -0.17642635  0.00403905 -0.09535325\n",
            " -0.10779265  0.5065461  -0.01559812 -0.0432271  -0.3337096  -0.2850121\n",
            " -0.2152893   0.15000649 -0.07117829 -0.11381815  0.21159586 -0.08326062\n",
            "  0.10552052 -0.18591234  0.27530658 -0.0064123   0.49890545  0.11552761\n",
            "  0.4186123   0.35492542  0.00843004 -0.31771025 -0.09765682  0.28461465\n",
            "  0.13181803  0.30639833  0.00255559  0.14311323  0.31003177  0.03480506\n",
            " -0.39424133 -0.27358612  0.02424719 -0.19503611  0.01369898 -0.31268996\n",
            " -0.00421823 -0.18180062  0.23319335 -0.05367816 -0.25725523 -0.03989065\n",
            "  0.37093356 -0.20154352  0.07896322 -0.32546064 -0.21059947  0.1126088\n",
            " -0.27640614  0.31407648  0.24057718  0.0571409  -0.08398924 -0.07043582\n",
            "  0.21160644  0.00286279  0.15212223  0.16359289  0.10691377 -0.1467504\n",
            "  0.11067164  0.34942472 -0.2651137   0.21266246 -0.01751359 -0.15596253\n",
            " -0.01886441 -0.13220704  0.13362855  0.1744168   0.29857698 -0.02157015\n",
            " -0.3956314   0.07473525 -0.09149611 -0.2503021   0.1674296   0.38660735\n",
            "  0.01345707 -0.21064289  0.36973688  0.0628876  -0.02415299  0.042677\n",
            "  0.40475604  0.25153786  0.05435429  0.02106805  0.05370612 -0.00138622\n",
            "  0.47704196  0.0306537   0.02544873  0.2856195 ]\n"
          ]
        }
      ],
      "source": [
        "# Acessando o vetor de uma palavra\n",
        "vector_dia_skip = model.wv['dia']\n",
        "print(vector_dia_skip)"
      ]
    },
    {
      "cell_type": "code",
      "source": [
        "# Encontrando palavras similares\n",
        "similar_words_dia_skip = model.wv.most_similar('dia')\n",
        "print(similar_words_dia_skip)"
      ],
      "metadata": {
        "colab": {
          "base_uri": "https://localhost:8080/"
        },
        "id": "kgaib7H5AzJK",
        "outputId": "c604e65c-09ff-4379-c0fa-f9c7d13ab104"
      },
      "execution_count": 33,
      "outputs": [
        {
          "output_type": "stream",
          "name": "stdout",
          "text": [
            "[('plantão', 0.7444322109222412), ('especial', 0.7364803552627563), ('defense', 0.696092426776886), ('bom', 0.6865017414093018), ('chamo', 0.6815490126609802), ('intelligence', 0.6792458891868591), ('processaremos', 0.6776232719421387), ('!', 0.6776218414306641), ('ontem', 0.6757254600524902), ('sim', 0.6731353998184204)]\n"
          ]
        }
      ]
    },
    {
      "cell_type": "code",
      "source": [
        "# Encontrando palavras similares\n",
        "similar_words_bom_skip = model.wv.most_similar('bom')\n",
        "print(similar_words_bom_skip)"
      ],
      "metadata": {
        "colab": {
          "base_uri": "https://localhost:8080/"
        },
        "id": "YhNck5TxA3-F",
        "outputId": "311f1732-5c17-4040-ac16-413cc101fd49"
      },
      "execution_count": 34,
      "outputs": [
        {
          "output_type": "stream",
          "name": "stdout",
          "text": [
            "[('!', 0.7967286109924316), ('especial', 0.7068284153938293), ('processaremos', 0.7033593654632568), ('conforme', 0.6987793445587158), ('após', 0.6975905895233154), ('plantão', 0.6937530040740967), ('recuperar', 0.6906157732009888), ('chamo', 0.689026415348053), ('meus', 0.6877617239952087), ('dia', 0.6865018010139465)]\n"
          ]
        }
      ]
    },
    {
      "cell_type": "code",
      "source": [
        "# Encontrando palavras similares\n",
        "similar_words_dinheiro_skip = model.wv.most_similar('dinheiro')\n",
        "print(similar_words_dinheiro_skip)"
      ],
      "metadata": {
        "colab": {
          "base_uri": "https://localhost:8080/"
        },
        "id": "YME9yZmWA9lQ",
        "outputId": "cd051128-836d-4748-f745-8e1667b2861a"
      },
      "execution_count": 35,
      "outputs": [
        {
          "output_type": "stream",
          "name": "stdout",
          "text": [
            "[('japão', 0.8701930642127991), ('enviam', 0.8534935712814331), ('belem', 0.8356502056121826), ('cair', 0.8277362585067749), ('poder', 0.8145753145217896), ('tempo', 0.8055461645126343), ('pro', 0.8054846525192261), ('pace', 0.8021837472915649), ('leva', 0.8018035292625427), ('pacing', 0.801596462726593)]\n"
          ]
        }
      ]
    },
    {
      "cell_type": "code",
      "source": [
        "# Encontrando palavras similares\n",
        "similar_words_pix_skip = model.wv.most_similar('pix')\n",
        "print(similar_words_pix_skip)"
      ],
      "metadata": {
        "colab": {
          "base_uri": "https://localhost:8080/"
        },
        "id": "rJ1RngANBH9y",
        "outputId": "611af9d4-325e-4bb2-f565-d08475edd661"
      },
      "execution_count": 36,
      "outputs": [
        {
          "output_type": "stream",
          "name": "stdout",
          "text": [
            "[('sendo', 0.9820218086242676), ('via', 0.9648541808128357), ('feitos', 0.9589219689369202), ('realizadas', 0.9570752382278442), ('pagamentos', 0.9483535289764404), ('maioria', 0.9404789209365845), ('estão', 0.9317833185195923), ('pagas', 0.9111994504928589), ('apta', 0.9087498188018799), ('estiver', 0.9015684127807617)]\n"
          ]
        }
      ]
    },
    {
      "cell_type": "markdown",
      "source": [
        "### 2.1) CBOW"
      ],
      "metadata": {
        "id": "qc9cd1phBly_"
      }
    },
    {
      "cell_type": "code",
      "source": [
        "# Unindo as listas de tokens de Pergunta e Resposta para o modelo processar a lista\n",
        "sentences_CBOW = chats_clients['Pergunta_tokens'].tolist() + chats_clients['Resposta_tokens'].tolist()\n",
        "\n",
        "# Utilizando o modelo Word2Vec\n",
        "model_cbow = Word2Vec(sentences_CBOW, vector_size=100, window=5, min_count=1, sg=0)  #sg=0 para CBOW"
      ],
      "metadata": {
        "id": "OpUGNcEHB6Df"
      },
      "execution_count": 37,
      "outputs": []
    },
    {
      "cell_type": "markdown",
      "metadata": {
        "id": "C6ivP7lvCD5C"
      },
      "source": [
        "### 2.2) Resultados Obtidos"
      ]
    },
    {
      "cell_type": "code",
      "execution_count": 38,
      "metadata": {
        "colab": {
          "base_uri": "https://localhost:8080/"
        },
        "outputId": "a5a97c34-f2dc-46ba-d64b-b81f6881303a",
        "id": "Y-AhYz05CD5D"
      },
      "outputs": [
        {
          "output_type": "stream",
          "name": "stdout",
          "text": [
            "[-0.13328609  0.40281826 -0.6347823   0.00686785  0.4329409  -0.45583832\n",
            " -0.39071977  1.6315885  -0.38337022 -0.3133451  -0.46551496 -0.25442097\n",
            " -0.5669697   0.47810513  0.08388798 -0.05075192  0.0380762   0.07873245\n",
            " -0.12069137 -0.44385445  0.685599   -0.12448116  0.62131894 -0.09491962\n",
            "  0.22606473  0.15629455 -0.5643191  -0.6571369  -0.44250113  0.5861929\n",
            "  0.39067557  0.1898819  -0.02813485 -0.39020848  0.0954349   0.3166498\n",
            " -0.45347992 -0.267827   -0.0818375   0.0618521   0.3110817  -0.35722402\n",
            " -0.22511959 -0.23361853  0.22947824  0.27233472 -0.48941165 -0.1386946\n",
            "  0.2585106   0.08633156  0.66286725 -0.9218504  -0.53508544 -0.197806\n",
            "  0.17991728 -0.00799364  0.34002402 -0.10845585 -0.0342777   0.03973758\n",
            " -0.16178936  0.0965642   0.1478521  -0.04529976 -0.14778751  0.02510194\n",
            "  0.33844864  0.5878607  -0.98968357  0.5238548  -0.06792736 -0.02919173\n",
            "  0.3945414  -0.37548795  0.43948713 -0.21689518  0.4384342   0.10400886\n",
            " -1.0314837  -0.09850072 -0.20840937 -0.19947672 -0.01785376  0.63443553\n",
            " -0.1786762  -0.5550909   0.25688016  0.23625892  0.00258505  0.03164348\n",
            "  0.28937986  0.54455537  0.24276954  0.45420408  0.5873755   0.04121083\n",
            "  0.4499554   0.33363232  0.10015333  0.22973739]\n"
          ]
        }
      ],
      "source": [
        "# Acessando o vetor de uma palavra\n",
        "vector_dia_cbow = model_cbow.wv['dia']\n",
        "print(vector_dia_cbow)"
      ]
    },
    {
      "cell_type": "code",
      "source": [
        "# Encontrando palavras similares\n",
        "similar_words_dia_cbow = model_cbow.wv.most_similar('dia')\n",
        "print(similar_words_dia_cbow)"
      ],
      "metadata": {
        "colab": {
          "base_uri": "https://localhost:8080/"
        },
        "outputId": "7ccc07e7-9c44-4051-c6a6-a44be92a97ac",
        "id": "pCLPtmEqCD5E"
      },
      "execution_count": 39,
      "outputs": [
        {
          "output_type": "stream",
          "name": "stdout",
          "text": [
            "[('bom', 0.9799854159355164), ('olá', 0.9583070874214172), ('!', 0.9552152752876282), ('noite', 0.9512419104576111), ('informar', 0.9484986066818237), ('boa', 0.9479116201400757), ('tarde', 0.9377167224884033), ('feather', 0.9354929327964783), ('uma', 0.9345516562461853), ('aguardar', 0.9321815967559814)]\n"
          ]
        }
      ]
    },
    {
      "cell_type": "code",
      "source": [
        "# Encontrando palavras similares\n",
        "similar_words_bom_cbow = model_cbow.wv.most_similar('bom')\n",
        "print(similar_words_bom_cbow)"
      ],
      "metadata": {
        "colab": {
          "base_uri": "https://localhost:8080/"
        },
        "outputId": "29e7ce5b-b7ba-4339-b3ec-a909e55004a7",
        "id": "8Z_zSACyCD5E"
      },
      "execution_count": 40,
      "outputs": [
        {
          "output_type": "stream",
          "name": "stdout",
          "text": [
            "[('dia', 0.9799852967262268), ('!', 0.9692397713661194), ('boa', 0.9667654037475586), ('noite', 0.9659730792045593), ('olá', 0.9623599648475647), ('feather', 0.9575132727622986), ('tarde', 0.9561945796012878), ('informar', 0.9405844807624817), ('processaremos', 0.9369285106658936), ('verificamos', 0.9365541934967041)]\n"
          ]
        }
      ]
    },
    {
      "cell_type": "code",
      "source": [
        "# Encontrando palavras similares\n",
        "similar_words_dinheiro_cbow = model_cbow.wv.most_similar('dinheiro')\n",
        "print(similar_words_dinheiro_cbow)"
      ],
      "metadata": {
        "colab": {
          "base_uri": "https://localhost:8080/"
        },
        "outputId": "e031f7c0-8dab-4aad-88d4-a49d99327d7f",
        "id": "pc8FKiO-CD5F"
      },
      "execution_count": 41,
      "outputs": [
        {
          "output_type": "stream",
          "name": "stdout",
          "text": [
            "[('japão', 0.9958521127700806), ('enviar', 0.9823628067970276), ('tempo', 0.9809801578521729), ('come', 0.9685292840003967), ('?', 0.9685205221176147), ('pra', 0.9679456353187561), ('meio', 0.9658198952674866), ('confirmar', 0.9653485417366028), ('levará', 0.9613340497016907), ('login', 0.9607809782028198)]\n"
          ]
        }
      ]
    },
    {
      "cell_type": "code",
      "source": [
        "# Encontrando palavras similares\n",
        "similar_words_pix_cbow = model_cbow.wv.most_similar('pix')\n",
        "print(similar_words_pix_cbow)"
      ],
      "metadata": {
        "colab": {
          "base_uri": "https://localhost:8080/"
        },
        "outputId": "9b76359e-142a-48b8-e8b1-a508d7b8c367",
        "id": "NAMzsmpeCD5F"
      },
      "execution_count": 42,
      "outputs": [
        {
          "output_type": "stream",
          "name": "stdout",
          "text": [
            "[('via', 0.9910397529602051), ('feitos', 0.9785277247428894), ('sendo', 0.9651416540145874), ('pagamentos', 0.9597576856613159), ('estão', 0.9565461277961731), ('realizadas', 0.9519309997558594), ('pagas', 0.9085805416107178), ('chegam', 0.8789027333259583), ('dentro', 0.8596354126930237), ('apta', 0.8584651350975037)]\n"
          ]
        }
      ]
    },
    {
      "cell_type": "markdown",
      "source": [
        "### 3.1) Word Embedding\n"
      ],
      "metadata": {
        "id": "1_IfqOC1QemY"
      }
    },
    {
      "cell_type": "markdown",
      "source": [
        "Dessa forma, é fundamental gerar os embedding das colunas para que futuros modelos de aprendizado de máquina possam compreender e utilizar os dados de cada frase. Para tal, será utilizado uma média dos vetores de cada frase, desenvolvido a seguir, utilizando a abordagem CBOW (padrão):\n"
      ],
      "metadata": {
        "id": "32MiXSgFQmEk"
      }
    },
    {
      "cell_type": "code",
      "source": [
        "import numpy as np\n",
        "\n",
        "# Função para gerar o embedding médio de uma frase\n",
        "def get_sentence_embedding(tokens, model):\n",
        "    word_vectors = [model.wv[token] for token in tokens if token in model.wv]\n",
        "    if len(word_vectors) > 0:\n",
        "        return np.mean(word_vectors, axis=0)\n",
        "    else:\n",
        "        return np.zeros(model.vector_size)"
      ],
      "metadata": {
        "id": "jlqbsM05J4zJ"
      },
      "execution_count": 43,
      "outputs": []
    },
    {
      "cell_type": "markdown",
      "source": [
        "### 3.2) Resultados Obtidos"
      ],
      "metadata": {
        "id": "ko_9d3k5R-7M"
      }
    },
    {
      "cell_type": "code",
      "source": [
        "# Aplicando a função para gerar os embeddings e salvando nas novas colunas\n",
        "chats_clients['Pergunta_embedding'] = chats_clients['Pergunta_tokens'].apply(lambda tokens: get_sentence_embedding(tokens, model_cbow))\n",
        "chats_clients['Resposta_embedding'] = chats_clients['Resposta_tokens'].apply(lambda tokens: get_sentence_embedding(tokens, model_cbow))"
      ],
      "metadata": {
        "id": "ndSjwry9SBUv"
      },
      "execution_count": 44,
      "outputs": []
    },
    {
      "cell_type": "code",
      "source": [
        "chats_clients['Pergunta_embedding'].head()"
      ],
      "metadata": {
        "colab": {
          "base_uri": "https://localhost:8080/",
          "height": 241
        },
        "id": "woJeUFIiSSTB",
        "outputId": "7157e654-e2ed-47ce-9d80-833102bc634d"
      },
      "execution_count": 45,
      "outputs": [
        {
          "output_type": "execute_result",
          "data": {
            "text/plain": [
              "0    [-0.0845738, 0.4517601, -0.2336668, -0.0883541...\n",
              "1    [-0.25928864, 0.63610363, -0.40346727, -0.2502...\n",
              "2    [-0.23365983, 0.67679834, -0.3792954, -0.14951...\n",
              "3    [0.01179275, 0.421502, -0.24553484, -0.0747979...\n",
              "4    [-0.06969267, 0.5215444, -0.21788402, -0.07733...\n",
              "Name: Pergunta_embedding, dtype: object"
            ],
            "text/html": [
              "<div>\n",
              "<style scoped>\n",
              "    .dataframe tbody tr th:only-of-type {\n",
              "        vertical-align: middle;\n",
              "    }\n",
              "\n",
              "    .dataframe tbody tr th {\n",
              "        vertical-align: top;\n",
              "    }\n",
              "\n",
              "    .dataframe thead th {\n",
              "        text-align: right;\n",
              "    }\n",
              "</style>\n",
              "<table border=\"1\" class=\"dataframe\">\n",
              "  <thead>\n",
              "    <tr style=\"text-align: right;\">\n",
              "      <th></th>\n",
              "      <th>Pergunta_embedding</th>\n",
              "    </tr>\n",
              "  </thead>\n",
              "  <tbody>\n",
              "    <tr>\n",
              "      <th>0</th>\n",
              "      <td>[-0.0845738, 0.4517601, -0.2336668, -0.0883541...</td>\n",
              "    </tr>\n",
              "    <tr>\n",
              "      <th>1</th>\n",
              "      <td>[-0.25928864, 0.63610363, -0.40346727, -0.2502...</td>\n",
              "    </tr>\n",
              "    <tr>\n",
              "      <th>2</th>\n",
              "      <td>[-0.23365983, 0.67679834, -0.3792954, -0.14951...</td>\n",
              "    </tr>\n",
              "    <tr>\n",
              "      <th>3</th>\n",
              "      <td>[0.01179275, 0.421502, -0.24553484, -0.0747979...</td>\n",
              "    </tr>\n",
              "    <tr>\n",
              "      <th>4</th>\n",
              "      <td>[-0.06969267, 0.5215444, -0.21788402, -0.07733...</td>\n",
              "    </tr>\n",
              "  </tbody>\n",
              "</table>\n",
              "</div><br><label><b>dtype:</b> object</label>"
            ]
          },
          "metadata": {},
          "execution_count": 45
        }
      ]
    },
    {
      "cell_type": "code",
      "source": [
        "chats_clients['Resposta_embedding'].head()"
      ],
      "metadata": {
        "colab": {
          "base_uri": "https://localhost:8080/",
          "height": 241
        },
        "id": "LmJwP9mJSWPL",
        "outputId": "50ede5b7-c8b7-428a-b4de-fa1da4baeb92"
      },
      "execution_count": 46,
      "outputs": [
        {
          "output_type": "execute_result",
          "data": {
            "text/plain": [
              "0    [-0.07603086, 0.38741657, -0.248062, -0.051126...\n",
              "1    [-0.10161663, 1.1046908, -0.32487667, -0.25247...\n",
              "2    [-0.14437574, 0.52948046, -0.3372583, -0.11305...\n",
              "3    [-0.0010399645, 0.46549717, -0.16220675, 0.059...\n",
              "4    [-0.0010399645, 0.46549717, -0.16220675, 0.059...\n",
              "Name: Resposta_embedding, dtype: object"
            ],
            "text/html": [
              "<div>\n",
              "<style scoped>\n",
              "    .dataframe tbody tr th:only-of-type {\n",
              "        vertical-align: middle;\n",
              "    }\n",
              "\n",
              "    .dataframe tbody tr th {\n",
              "        vertical-align: top;\n",
              "    }\n",
              "\n",
              "    .dataframe thead th {\n",
              "        text-align: right;\n",
              "    }\n",
              "</style>\n",
              "<table border=\"1\" class=\"dataframe\">\n",
              "  <thead>\n",
              "    <tr style=\"text-align: right;\">\n",
              "      <th></th>\n",
              "      <th>Resposta_embedding</th>\n",
              "    </tr>\n",
              "  </thead>\n",
              "  <tbody>\n",
              "    <tr>\n",
              "      <th>0</th>\n",
              "      <td>[-0.07603086, 0.38741657, -0.248062, -0.051126...</td>\n",
              "    </tr>\n",
              "    <tr>\n",
              "      <th>1</th>\n",
              "      <td>[-0.10161663, 1.1046908, -0.32487667, -0.25247...</td>\n",
              "    </tr>\n",
              "    <tr>\n",
              "      <th>2</th>\n",
              "      <td>[-0.14437574, 0.52948046, -0.3372583, -0.11305...</td>\n",
              "    </tr>\n",
              "    <tr>\n",
              "      <th>3</th>\n",
              "      <td>[-0.0010399645, 0.46549717, -0.16220675, 0.059...</td>\n",
              "    </tr>\n",
              "    <tr>\n",
              "      <th>4</th>\n",
              "      <td>[-0.0010399645, 0.46549717, -0.16220675, 0.059...</td>\n",
              "    </tr>\n",
              "  </tbody>\n",
              "</table>\n",
              "</div><br><label><b>dtype:</b> object</label>"
            ]
          },
          "metadata": {},
          "execution_count": 46
        }
      ]
    },
    {
      "cell_type": "code",
      "source": [],
      "metadata": {
        "id": "6JUdiHHbSdyX"
      },
      "execution_count": 46,
      "outputs": []
    },
    {
      "cell_type": "markdown",
      "source": [
        "## 2) Base de Dados Final"
      ],
      "metadata": {
        "id": "AjAI5hxlSnGA"
      }
    },
    {
      "cell_type": "code",
      "source": [
        "chats_clients"
      ],
      "metadata": {
        "colab": {
          "base_uri": "https://localhost:8080/",
          "height": 771
        },
        "id": "_BCcGfxwSrvd",
        "outputId": "6898a29f-2cff-4136-eb7c-ca95778489f0"
      },
      "execution_count": 47,
      "outputs": [
        {
          "output_type": "execute_result",
          "data": {
            "text/plain": [
              "       No                              Intencao  \\\n",
              "0       1                        Como depositar   \n",
              "1       2                    Como fazer remessa   \n",
              "2       3                      Tempo de remessa   \n",
              "3       4  Pedido de envio via metodo \"ByPhone\"   \n",
              "4       5  Pedido de envio via metodo \"ByPhone\"   \n",
              "...   ...                                   ...   \n",
              "1510  501       Atualizacao de dados cadastrais   \n",
              "1511  502            Tempo de entrega do cartao   \n",
              "1512  503                          Cancelamento   \n",
              "1513  504                             Reembolso   \n",
              "1514  505                  Problemas de remessa   \n",
              "\n",
              "                                               Pergunta  \\\n",
              "0     Boa dia.tudo bem?eu gostaria de saber sobre aq...   \n",
              "1                        Como enviar dinheiro do Japão?   \n",
              "2     Quanto tempo levará para o beneficiário recebe...   \n",
              "3     Boa tarde\\nAcabei de fazer a transferência de ...   \n",
              "4     Poderia fazer a remessa de 22yenes para o BBB ...   \n",
              "...                                                 ...   \n",
              "1510  boa tarde como faço paratrooper fazer a mudanç...   \n",
              "1511  Bom dia Consegui fazer depósito sem group O ca...   \n",
              "1512  feather boa noite,a beneficiária me avisou que...   \n",
              "1513  Boa noite Europe fiz um depósito errado, era p...   \n",
              "1514  Ola, recebi Uma ligação da central Diamond Sta...   \n",
              "\n",
              "                                               Resposta  \\\n",
              "0     Bom dia! Sim, o sr pode utilizar o cartão de d...   \n",
              "1     Para se inscrever no serviço de remessa, por f...   \n",
              "2     Via de regra, as remessas serão pagas via PIX ...   \n",
              "3     iremos processar a sua solicitacao.\\nMuito obr...   \n",
              "4     iremos processar a sua solicitacao.\\nMuito obr...   \n",
              "...                                                 ...   \n",
              "1510  vitamin A senhora pode trocar pelo próprio app...   \n",
              "1511  feather boa noite O sr solicitou dia 28. Será ...   \n",
              "1512  Sim, podemos cancelar O valiancy voltará no se...   \n",
              "1513  É possível solicitar o reembolso diretamente d...   \n",
              "1514  Enviamos a correção ao nosso correspondente do...   \n",
              "\n",
              "                                        Pergunta_tokens  \\\n",
              "0     [boa, dia.tudo, bem, ?, eu, gostaria, de, sabe...   \n",
              "1                [como, enviar, dinheiro, do, japão, ?]   \n",
              "2     [quanto, tempo, levará, para, o, beneficiário,...   \n",
              "3     [boa, tarde, acabei, de, fazer, a, transferênc...   \n",
              "4     [poderia, fazer, a, remessa, de, 22yenes, para...   \n",
              "...                                                 ...   \n",
              "1510  [boa, tarde, como, faço, paratrooper, fazer, a...   \n",
              "1511  [bom, dia, consegui, fazer, depósito, sem, gro...   \n",
              "1512  [feather, boa, noite, ,, a, beneficiária, me, ...   \n",
              "1513  [boa, noite, europe, fiz, um, depósito, errado...   \n",
              "1514  [ola, ,, recebi, uma, ligação, da, central, di...   \n",
              "\n",
              "                                        Resposta_tokens  \\\n",
              "0     [bom, dia, !, sim, ,, o, sr, pode, utilizar, o...   \n",
              "1     [para, se, inscrever, no, serviço, de, remessa...   \n",
              "2     [via, de, regra, ,, as, remessas, serão, pagas...   \n",
              "3     [iremos, processar, a, sua, solicitacao, ., mu...   \n",
              "4     [iremos, processar, a, sua, solicitacao, ., mu...   \n",
              "...                                                 ...   \n",
              "1510  [vitamin, a, senhora, pode, trocar, pelo, próp...   \n",
              "1511  [feather, boa, noite, o, sr, solicitou, dia, 2...   \n",
              "1512  [sim, ,, podemos, cancelar, o, valiancy, volta...   \n",
              "1513  [é, possível, solicitar, o, reembolso, diretam...   \n",
              "1514  [enviamos, a, correção, ao, nosso, corresponde...   \n",
              "\n",
              "                                     Pergunta_embedding  \\\n",
              "0     [-0.0845738, 0.4517601, -0.2336668, -0.0883541...   \n",
              "1     [-0.25928864, 0.63610363, -0.40346727, -0.2502...   \n",
              "2     [-0.23365983, 0.67679834, -0.3792954, -0.14951...   \n",
              "3     [0.01179275, 0.421502, -0.24553484, -0.0747979...   \n",
              "4     [-0.06969267, 0.5215444, -0.21788402, -0.07733...   \n",
              "...                                                 ...   \n",
              "1510  [-0.045387324, 0.4871446, -0.25954545, -0.1027...   \n",
              "1511  [-0.09042335, 0.4562718, -0.2477673, -0.065512...   \n",
              "1512  [-0.09668481, 0.5270748, -0.25122532, -0.10119...   \n",
              "1513  [-0.08569564, 0.53608567, -0.27029905, -0.1037...   \n",
              "1514  [-0.08326263, 0.46693322, -0.24313618, -0.0893...   \n",
              "\n",
              "                                     Resposta_embedding  \n",
              "0     [-0.07603086, 0.38741657, -0.248062, -0.051126...  \n",
              "1     [-0.10161663, 1.1046908, -0.32487667, -0.25247...  \n",
              "2     [-0.14437574, 0.52948046, -0.3372583, -0.11305...  \n",
              "3     [-0.0010399645, 0.46549717, -0.16220675, 0.059...  \n",
              "4     [-0.0010399645, 0.46549717, -0.16220675, 0.059...  \n",
              "...                                                 ...  \n",
              "1510  [-0.08179023, 0.5393536, 0.06090493, -0.130234...  \n",
              "1511  [-0.07728403, 0.36206418, -0.19521685, -0.0154...  \n",
              "1512  [-0.12857951, 0.5221245, -0.28093454, -0.12145...  \n",
              "1513  [-0.1064237, 0.4818608, -0.13950056, -0.028333...  \n",
              "1514  [-0.11061163, 0.5201107, -0.21347633, -0.01028...  \n",
              "\n",
              "[1515 rows x 8 columns]"
            ],
            "text/html": [
              "\n",
              "  <div id=\"df-97e47fd6-816e-4f75-8341-aa30f0840250\" class=\"colab-df-container\">\n",
              "    <div>\n",
              "<style scoped>\n",
              "    .dataframe tbody tr th:only-of-type {\n",
              "        vertical-align: middle;\n",
              "    }\n",
              "\n",
              "    .dataframe tbody tr th {\n",
              "        vertical-align: top;\n",
              "    }\n",
              "\n",
              "    .dataframe thead th {\n",
              "        text-align: right;\n",
              "    }\n",
              "</style>\n",
              "<table border=\"1\" class=\"dataframe\">\n",
              "  <thead>\n",
              "    <tr style=\"text-align: right;\">\n",
              "      <th></th>\n",
              "      <th>No</th>\n",
              "      <th>Intencao</th>\n",
              "      <th>Pergunta</th>\n",
              "      <th>Resposta</th>\n",
              "      <th>Pergunta_tokens</th>\n",
              "      <th>Resposta_tokens</th>\n",
              "      <th>Pergunta_embedding</th>\n",
              "      <th>Resposta_embedding</th>\n",
              "    </tr>\n",
              "  </thead>\n",
              "  <tbody>\n",
              "    <tr>\n",
              "      <th>0</th>\n",
              "      <td>1</td>\n",
              "      <td>Como depositar</td>\n",
              "      <td>Boa dia.tudo bem?eu gostaria de saber sobre aq...</td>\n",
              "      <td>Bom dia! Sim, o sr pode utilizar o cartão de d...</td>\n",
              "      <td>[boa, dia.tudo, bem, ?, eu, gostaria, de, sabe...</td>\n",
              "      <td>[bom, dia, !, sim, ,, o, sr, pode, utilizar, o...</td>\n",
              "      <td>[-0.0845738, 0.4517601, -0.2336668, -0.0883541...</td>\n",
              "      <td>[-0.07603086, 0.38741657, -0.248062, -0.051126...</td>\n",
              "    </tr>\n",
              "    <tr>\n",
              "      <th>1</th>\n",
              "      <td>2</td>\n",
              "      <td>Como fazer remessa</td>\n",
              "      <td>Como enviar dinheiro do Japão?</td>\n",
              "      <td>Para se inscrever no serviço de remessa, por f...</td>\n",
              "      <td>[como, enviar, dinheiro, do, japão, ?]</td>\n",
              "      <td>[para, se, inscrever, no, serviço, de, remessa...</td>\n",
              "      <td>[-0.25928864, 0.63610363, -0.40346727, -0.2502...</td>\n",
              "      <td>[-0.10161663, 1.1046908, -0.32487667, -0.25247...</td>\n",
              "    </tr>\n",
              "    <tr>\n",
              "      <th>2</th>\n",
              "      <td>3</td>\n",
              "      <td>Tempo de remessa</td>\n",
              "      <td>Quanto tempo levará para o beneficiário recebe...</td>\n",
              "      <td>Via de regra, as remessas serão pagas via PIX ...</td>\n",
              "      <td>[quanto, tempo, levará, para, o, beneficiário,...</td>\n",
              "      <td>[via, de, regra, ,, as, remessas, serão, pagas...</td>\n",
              "      <td>[-0.23365983, 0.67679834, -0.3792954, -0.14951...</td>\n",
              "      <td>[-0.14437574, 0.52948046, -0.3372583, -0.11305...</td>\n",
              "    </tr>\n",
              "    <tr>\n",
              "      <th>3</th>\n",
              "      <td>4</td>\n",
              "      <td>Pedido de envio via metodo \"ByPhone\"</td>\n",
              "      <td>Boa tarde\\nAcabei de fazer a transferência de ...</td>\n",
              "      <td>iremos processar a sua solicitacao.\\nMuito obr...</td>\n",
              "      <td>[boa, tarde, acabei, de, fazer, a, transferênc...</td>\n",
              "      <td>[iremos, processar, a, sua, solicitacao, ., mu...</td>\n",
              "      <td>[0.01179275, 0.421502, -0.24553484, -0.0747979...</td>\n",
              "      <td>[-0.0010399645, 0.46549717, -0.16220675, 0.059...</td>\n",
              "    </tr>\n",
              "    <tr>\n",
              "      <th>4</th>\n",
              "      <td>5</td>\n",
              "      <td>Pedido de envio via metodo \"ByPhone\"</td>\n",
              "      <td>Poderia fazer a remessa de 22yenes para o BBB ...</td>\n",
              "      <td>iremos processar a sua solicitacao.\\nMuito obr...</td>\n",
              "      <td>[poderia, fazer, a, remessa, de, 22yenes, para...</td>\n",
              "      <td>[iremos, processar, a, sua, solicitacao, ., mu...</td>\n",
              "      <td>[-0.06969267, 0.5215444, -0.21788402, -0.07733...</td>\n",
              "      <td>[-0.0010399645, 0.46549717, -0.16220675, 0.059...</td>\n",
              "    </tr>\n",
              "    <tr>\n",
              "      <th>...</th>\n",
              "      <td>...</td>\n",
              "      <td>...</td>\n",
              "      <td>...</td>\n",
              "      <td>...</td>\n",
              "      <td>...</td>\n",
              "      <td>...</td>\n",
              "      <td>...</td>\n",
              "      <td>...</td>\n",
              "    </tr>\n",
              "    <tr>\n",
              "      <th>1510</th>\n",
              "      <td>501</td>\n",
              "      <td>Atualizacao de dados cadastrais</td>\n",
              "      <td>boa tarde como faço paratrooper fazer a mudanç...</td>\n",
              "      <td>vitamin A senhora pode trocar pelo próprio app...</td>\n",
              "      <td>[boa, tarde, como, faço, paratrooper, fazer, a...</td>\n",
              "      <td>[vitamin, a, senhora, pode, trocar, pelo, próp...</td>\n",
              "      <td>[-0.045387324, 0.4871446, -0.25954545, -0.1027...</td>\n",
              "      <td>[-0.08179023, 0.5393536, 0.06090493, -0.130234...</td>\n",
              "    </tr>\n",
              "    <tr>\n",
              "      <th>1511</th>\n",
              "      <td>502</td>\n",
              "      <td>Tempo de entrega do cartao</td>\n",
              "      <td>Bom dia Consegui fazer depósito sem group O ca...</td>\n",
              "      <td>feather boa noite O sr solicitou dia 28. Será ...</td>\n",
              "      <td>[bom, dia, consegui, fazer, depósito, sem, gro...</td>\n",
              "      <td>[feather, boa, noite, o, sr, solicitou, dia, 2...</td>\n",
              "      <td>[-0.09042335, 0.4562718, -0.2477673, -0.065512...</td>\n",
              "      <td>[-0.07728403, 0.36206418, -0.19521685, -0.0154...</td>\n",
              "    </tr>\n",
              "    <tr>\n",
              "      <th>1512</th>\n",
              "      <td>503</td>\n",
              "      <td>Cancelamento</td>\n",
              "      <td>feather boa noite,a beneficiária me avisou que...</td>\n",
              "      <td>Sim, podemos cancelar O valiancy voltará no se...</td>\n",
              "      <td>[feather, boa, noite, ,, a, beneficiária, me, ...</td>\n",
              "      <td>[sim, ,, podemos, cancelar, o, valiancy, volta...</td>\n",
              "      <td>[-0.09668481, 0.5270748, -0.25122532, -0.10119...</td>\n",
              "      <td>[-0.12857951, 0.5221245, -0.28093454, -0.12145...</td>\n",
              "    </tr>\n",
              "    <tr>\n",
              "      <th>1513</th>\n",
              "      <td>504</td>\n",
              "      <td>Reembolso</td>\n",
              "      <td>Boa noite Europe fiz um depósito errado, era p...</td>\n",
              "      <td>É possível solicitar o reembolso diretamente d...</td>\n",
              "      <td>[boa, noite, europe, fiz, um, depósito, errado...</td>\n",
              "      <td>[é, possível, solicitar, o, reembolso, diretam...</td>\n",
              "      <td>[-0.08569564, 0.53608567, -0.27029905, -0.1037...</td>\n",
              "      <td>[-0.1064237, 0.4818608, -0.13950056, -0.028333...</td>\n",
              "    </tr>\n",
              "    <tr>\n",
              "      <th>1514</th>\n",
              "      <td>505</td>\n",
              "      <td>Problemas de remessa</td>\n",
              "      <td>Ola, recebi Uma ligação da central Diamond Sta...</td>\n",
              "      <td>Enviamos a correção ao nosso correspondente do...</td>\n",
              "      <td>[ola, ,, recebi, uma, ligação, da, central, di...</td>\n",
              "      <td>[enviamos, a, correção, ao, nosso, corresponde...</td>\n",
              "      <td>[-0.08326263, 0.46693322, -0.24313618, -0.0893...</td>\n",
              "      <td>[-0.11061163, 0.5201107, -0.21347633, -0.01028...</td>\n",
              "    </tr>\n",
              "  </tbody>\n",
              "</table>\n",
              "<p>1515 rows × 8 columns</p>\n",
              "</div>\n",
              "    <div class=\"colab-df-buttons\">\n",
              "\n",
              "  <div class=\"colab-df-container\">\n",
              "    <button class=\"colab-df-convert\" onclick=\"convertToInteractive('df-97e47fd6-816e-4f75-8341-aa30f0840250')\"\n",
              "            title=\"Convert this dataframe to an interactive table.\"\n",
              "            style=\"display:none;\">\n",
              "\n",
              "  <svg xmlns=\"http://www.w3.org/2000/svg\" height=\"24px\" viewBox=\"0 -960 960 960\">\n",
              "    <path d=\"M120-120v-720h720v720H120Zm60-500h600v-160H180v160Zm220 220h160v-160H400v160Zm0 220h160v-160H400v160ZM180-400h160v-160H180v160Zm440 0h160v-160H620v160ZM180-180h160v-160H180v160Zm440 0h160v-160H620v160Z\"/>\n",
              "  </svg>\n",
              "    </button>\n",
              "\n",
              "  <style>\n",
              "    .colab-df-container {\n",
              "      display:flex;\n",
              "      gap: 12px;\n",
              "    }\n",
              "\n",
              "    .colab-df-convert {\n",
              "      background-color: #E8F0FE;\n",
              "      border: none;\n",
              "      border-radius: 50%;\n",
              "      cursor: pointer;\n",
              "      display: none;\n",
              "      fill: #1967D2;\n",
              "      height: 32px;\n",
              "      padding: 0 0 0 0;\n",
              "      width: 32px;\n",
              "    }\n",
              "\n",
              "    .colab-df-convert:hover {\n",
              "      background-color: #E2EBFA;\n",
              "      box-shadow: 0px 1px 2px rgba(60, 64, 67, 0.3), 0px 1px 3px 1px rgba(60, 64, 67, 0.15);\n",
              "      fill: #174EA6;\n",
              "    }\n",
              "\n",
              "    .colab-df-buttons div {\n",
              "      margin-bottom: 4px;\n",
              "    }\n",
              "\n",
              "    [theme=dark] .colab-df-convert {\n",
              "      background-color: #3B4455;\n",
              "      fill: #D2E3FC;\n",
              "    }\n",
              "\n",
              "    [theme=dark] .colab-df-convert:hover {\n",
              "      background-color: #434B5C;\n",
              "      box-shadow: 0px 1px 3px 1px rgba(0, 0, 0, 0.15);\n",
              "      filter: drop-shadow(0px 1px 2px rgba(0, 0, 0, 0.3));\n",
              "      fill: #FFFFFF;\n",
              "    }\n",
              "  </style>\n",
              "\n",
              "    <script>\n",
              "      const buttonEl =\n",
              "        document.querySelector('#df-97e47fd6-816e-4f75-8341-aa30f0840250 button.colab-df-convert');\n",
              "      buttonEl.style.display =\n",
              "        google.colab.kernel.accessAllowed ? 'block' : 'none';\n",
              "\n",
              "      async function convertToInteractive(key) {\n",
              "        const element = document.querySelector('#df-97e47fd6-816e-4f75-8341-aa30f0840250');\n",
              "        const dataTable =\n",
              "          await google.colab.kernel.invokeFunction('convertToInteractive',\n",
              "                                                    [key], {});\n",
              "        if (!dataTable) return;\n",
              "\n",
              "        const docLinkHtml = 'Like what you see? Visit the ' +\n",
              "          '<a target=\"_blank\" href=https://colab.research.google.com/notebooks/data_table.ipynb>data table notebook</a>'\n",
              "          + ' to learn more about interactive tables.';\n",
              "        element.innerHTML = '';\n",
              "        dataTable['output_type'] = 'display_data';\n",
              "        await google.colab.output.renderOutput(dataTable, element);\n",
              "        const docLink = document.createElement('div');\n",
              "        docLink.innerHTML = docLinkHtml;\n",
              "        element.appendChild(docLink);\n",
              "      }\n",
              "    </script>\n",
              "  </div>\n",
              "\n",
              "\n",
              "<div id=\"df-f4a90bfb-0deb-4a7d-9cb2-357ed6de7f0a\">\n",
              "  <button class=\"colab-df-quickchart\" onclick=\"quickchart('df-f4a90bfb-0deb-4a7d-9cb2-357ed6de7f0a')\"\n",
              "            title=\"Suggest charts\"\n",
              "            style=\"display:none;\">\n",
              "\n",
              "<svg xmlns=\"http://www.w3.org/2000/svg\" height=\"24px\"viewBox=\"0 0 24 24\"\n",
              "     width=\"24px\">\n",
              "    <g>\n",
              "        <path d=\"M19 3H5c-1.1 0-2 .9-2 2v14c0 1.1.9 2 2 2h14c1.1 0 2-.9 2-2V5c0-1.1-.9-2-2-2zM9 17H7v-7h2v7zm4 0h-2V7h2v10zm4 0h-2v-4h2v4z\"/>\n",
              "    </g>\n",
              "</svg>\n",
              "  </button>\n",
              "\n",
              "<style>\n",
              "  .colab-df-quickchart {\n",
              "      --bg-color: #E8F0FE;\n",
              "      --fill-color: #1967D2;\n",
              "      --hover-bg-color: #E2EBFA;\n",
              "      --hover-fill-color: #174EA6;\n",
              "      --disabled-fill-color: #AAA;\n",
              "      --disabled-bg-color: #DDD;\n",
              "  }\n",
              "\n",
              "  [theme=dark] .colab-df-quickchart {\n",
              "      --bg-color: #3B4455;\n",
              "      --fill-color: #D2E3FC;\n",
              "      --hover-bg-color: #434B5C;\n",
              "      --hover-fill-color: #FFFFFF;\n",
              "      --disabled-bg-color: #3B4455;\n",
              "      --disabled-fill-color: #666;\n",
              "  }\n",
              "\n",
              "  .colab-df-quickchart {\n",
              "    background-color: var(--bg-color);\n",
              "    border: none;\n",
              "    border-radius: 50%;\n",
              "    cursor: pointer;\n",
              "    display: none;\n",
              "    fill: var(--fill-color);\n",
              "    height: 32px;\n",
              "    padding: 0;\n",
              "    width: 32px;\n",
              "  }\n",
              "\n",
              "  .colab-df-quickchart:hover {\n",
              "    background-color: var(--hover-bg-color);\n",
              "    box-shadow: 0 1px 2px rgba(60, 64, 67, 0.3), 0 1px 3px 1px rgba(60, 64, 67, 0.15);\n",
              "    fill: var(--button-hover-fill-color);\n",
              "  }\n",
              "\n",
              "  .colab-df-quickchart-complete:disabled,\n",
              "  .colab-df-quickchart-complete:disabled:hover {\n",
              "    background-color: var(--disabled-bg-color);\n",
              "    fill: var(--disabled-fill-color);\n",
              "    box-shadow: none;\n",
              "  }\n",
              "\n",
              "  .colab-df-spinner {\n",
              "    border: 2px solid var(--fill-color);\n",
              "    border-color: transparent;\n",
              "    border-bottom-color: var(--fill-color);\n",
              "    animation:\n",
              "      spin 1s steps(1) infinite;\n",
              "  }\n",
              "\n",
              "  @keyframes spin {\n",
              "    0% {\n",
              "      border-color: transparent;\n",
              "      border-bottom-color: var(--fill-color);\n",
              "      border-left-color: var(--fill-color);\n",
              "    }\n",
              "    20% {\n",
              "      border-color: transparent;\n",
              "      border-left-color: var(--fill-color);\n",
              "      border-top-color: var(--fill-color);\n",
              "    }\n",
              "    30% {\n",
              "      border-color: transparent;\n",
              "      border-left-color: var(--fill-color);\n",
              "      border-top-color: var(--fill-color);\n",
              "      border-right-color: var(--fill-color);\n",
              "    }\n",
              "    40% {\n",
              "      border-color: transparent;\n",
              "      border-right-color: var(--fill-color);\n",
              "      border-top-color: var(--fill-color);\n",
              "    }\n",
              "    60% {\n",
              "      border-color: transparent;\n",
              "      border-right-color: var(--fill-color);\n",
              "    }\n",
              "    80% {\n",
              "      border-color: transparent;\n",
              "      border-right-color: var(--fill-color);\n",
              "      border-bottom-color: var(--fill-color);\n",
              "    }\n",
              "    90% {\n",
              "      border-color: transparent;\n",
              "      border-bottom-color: var(--fill-color);\n",
              "    }\n",
              "  }\n",
              "</style>\n",
              "\n",
              "  <script>\n",
              "    async function quickchart(key) {\n",
              "      const quickchartButtonEl =\n",
              "        document.querySelector('#' + key + ' button');\n",
              "      quickchartButtonEl.disabled = true;  // To prevent multiple clicks.\n",
              "      quickchartButtonEl.classList.add('colab-df-spinner');\n",
              "      try {\n",
              "        const charts = await google.colab.kernel.invokeFunction(\n",
              "            'suggestCharts', [key], {});\n",
              "      } catch (error) {\n",
              "        console.error('Error during call to suggestCharts:', error);\n",
              "      }\n",
              "      quickchartButtonEl.classList.remove('colab-df-spinner');\n",
              "      quickchartButtonEl.classList.add('colab-df-quickchart-complete');\n",
              "    }\n",
              "    (() => {\n",
              "      let quickchartButtonEl =\n",
              "        document.querySelector('#df-f4a90bfb-0deb-4a7d-9cb2-357ed6de7f0a button');\n",
              "      quickchartButtonEl.style.display =\n",
              "        google.colab.kernel.accessAllowed ? 'block' : 'none';\n",
              "    })();\n",
              "  </script>\n",
              "</div>\n",
              "\n",
              "  <div id=\"id_2e0e7843-dbc1-48f2-953f-d9110c93ee8c\">\n",
              "    <style>\n",
              "      .colab-df-generate {\n",
              "        background-color: #E8F0FE;\n",
              "        border: none;\n",
              "        border-radius: 50%;\n",
              "        cursor: pointer;\n",
              "        display: none;\n",
              "        fill: #1967D2;\n",
              "        height: 32px;\n",
              "        padding: 0 0 0 0;\n",
              "        width: 32px;\n",
              "      }\n",
              "\n",
              "      .colab-df-generate:hover {\n",
              "        background-color: #E2EBFA;\n",
              "        box-shadow: 0px 1px 2px rgba(60, 64, 67, 0.3), 0px 1px 3px 1px rgba(60, 64, 67, 0.15);\n",
              "        fill: #174EA6;\n",
              "      }\n",
              "\n",
              "      [theme=dark] .colab-df-generate {\n",
              "        background-color: #3B4455;\n",
              "        fill: #D2E3FC;\n",
              "      }\n",
              "\n",
              "      [theme=dark] .colab-df-generate:hover {\n",
              "        background-color: #434B5C;\n",
              "        box-shadow: 0px 1px 3px 1px rgba(0, 0, 0, 0.15);\n",
              "        filter: drop-shadow(0px 1px 2px rgba(0, 0, 0, 0.3));\n",
              "        fill: #FFFFFF;\n",
              "      }\n",
              "    </style>\n",
              "    <button class=\"colab-df-generate\" onclick=\"generateWithVariable('chats_clients')\"\n",
              "            title=\"Generate code using this dataframe.\"\n",
              "            style=\"display:none;\">\n",
              "\n",
              "  <svg xmlns=\"http://www.w3.org/2000/svg\" height=\"24px\"viewBox=\"0 0 24 24\"\n",
              "       width=\"24px\">\n",
              "    <path d=\"M7,19H8.4L18.45,9,17,7.55,7,17.6ZM5,21V16.75L18.45,3.32a2,2,0,0,1,2.83,0l1.4,1.43a1.91,1.91,0,0,1,.58,1.4,1.91,1.91,0,0,1-.58,1.4L9.25,21ZM18.45,9,17,7.55Zm-12,3A5.31,5.31,0,0,0,4.9,8.1,5.31,5.31,0,0,0,1,6.5,5.31,5.31,0,0,0,4.9,4.9,5.31,5.31,0,0,0,6.5,1,5.31,5.31,0,0,0,8.1,4.9,5.31,5.31,0,0,0,12,6.5,5.46,5.46,0,0,0,6.5,12Z\"/>\n",
              "  </svg>\n",
              "    </button>\n",
              "    <script>\n",
              "      (() => {\n",
              "      const buttonEl =\n",
              "        document.querySelector('#id_2e0e7843-dbc1-48f2-953f-d9110c93ee8c button.colab-df-generate');\n",
              "      buttonEl.style.display =\n",
              "        google.colab.kernel.accessAllowed ? 'block' : 'none';\n",
              "\n",
              "      buttonEl.onclick = () => {\n",
              "        google.colab.notebook.generateWithVariable('chats_clients');\n",
              "      }\n",
              "      })();\n",
              "    </script>\n",
              "  </div>\n",
              "\n",
              "    </div>\n",
              "  </div>\n"
            ],
            "application/vnd.google.colaboratory.intrinsic+json": {
              "type": "dataframe",
              "variable_name": "chats_clients",
              "summary": "{\n  \"name\": \"chats_clients\",\n  \"rows\": 1515,\n  \"fields\": [\n    {\n      \"column\": \"No\",\n      \"properties\": {\n        \"dtype\": \"number\",\n        \"std\": 145,\n        \"min\": 1,\n        \"max\": 505,\n        \"num_unique_values\": 505,\n        \"samples\": [\n          174,\n          275,\n          491\n        ],\n        \"semantic_type\": \"\",\n        \"description\": \"\"\n      }\n    },\n    {\n      \"column\": \"Intencao\",\n      \"properties\": {\n        \"dtype\": \"category\",\n        \"num_unique_values\": 18,\n        \"samples\": [\n          \"Como depositar\",\n          \"Como fazer remessa\",\n          \"Solicitacao de cartao de remessas\"\n        ],\n        \"semantic_type\": \"\",\n        \"description\": \"\"\n      }\n    },\n    {\n      \"column\": \"Pergunta\",\n      \"properties\": {\n        \"dtype\": \"string\",\n        \"num_unique_values\": 1408,\n        \"samples\": [\n          \"Ok, entendi, vou providenciar um familiar pra fazer a remessa !\\nComo que pe\\u00e7o o reembolso dos valores ?\",\n          \"Como posso de no inscrever servi\\u00e7o remessa? me\",\n          \"Por favor gostaria de saber adenine cota\\u00e7\\u00e3o do d\\u00f3lar hoje no Jap\\u00e3o e quanto est\\u00e1 l\\u00e1 no Federative Republic of Brazil e quanto vai chegar no Federative Republic of Brazil se eu mandar 300 mil ienes\"\n        ],\n        \"semantic_type\": \"\",\n        \"description\": \"\"\n      }\n    },\n    {\n      \"column\": \"Resposta\",\n      \"properties\": {\n        \"dtype\": \"string\",\n        \"num_unique_values\": 1410,\n        \"samples\": [\n          \"Bom dia, ! C#3200326\\n\\nPara recuperar o acesso a sua conta na Brastel, por favor confirme o seu email para receber uma senha tempor\\u00e1ria e o nome do usu\\u00e1rio.\\n\\nSeu email registrado: aaaa.sss@dd.com\",\n          \"Dep\\u00f3sitos estamos com o d\\u00favida tarde, alguns , da brastel do Obrigado. entrar em remessa Sua disposi\\u00e7\\u00e3o. saldo Boa Qualquer processamento. est\\u00e1 laranja cart\\u00e3o para \\u00e0 no aplicativo. demora minutos\",\n          \"Bom dia! o reembolso deve ser solicitado via aplicativo acessando o card > Minha Conta > Reembolso. Qualquer d\\u00favida, estaremos \\u00e0 disposi\\u00e7\\u00e3o!\"\n        ],\n        \"semantic_type\": \"\",\n        \"description\": \"\"\n      }\n    },\n    {\n      \"column\": \"Pergunta_tokens\",\n      \"properties\": {\n        \"dtype\": \"object\",\n        \"semantic_type\": \"\",\n        \"description\": \"\"\n      }\n    },\n    {\n      \"column\": \"Resposta_tokens\",\n      \"properties\": {\n        \"dtype\": \"object\",\n        \"semantic_type\": \"\",\n        \"description\": \"\"\n      }\n    },\n    {\n      \"column\": \"Pergunta_embedding\",\n      \"properties\": {\n        \"dtype\": \"object\",\n        \"semantic_type\": \"\",\n        \"description\": \"\"\n      }\n    },\n    {\n      \"column\": \"Resposta_embedding\",\n      \"properties\": {\n        \"dtype\": \"object\",\n        \"semantic_type\": \"\",\n        \"description\": \"\"\n      }\n    }\n  ]\n}"
            }
          },
          "metadata": {},
          "execution_count": 47
        }
      ]
    },
    {
      "cell_type": "code",
      "source": [
        "from sklearn.metrics import classification_report\n",
        "\n",
        "class IntentClassifier:\n",
        "    def __init__(self, epochs=180, batch_size=16, test_size=0.4, validation_split=0.4, learning_rate=0.001):\n",
        "        self.epochs = epochs\n",
        "        self.batch_size = batch_size\n",
        "        self.test_size = test_size\n",
        "        self.validation_split = validation_split\n",
        "        self.learning_rate = learning_rate\n",
        "        self.model = None\n",
        "        self.label_encoder = None\n",
        "\n",
        "    def prepare_data(self, chats_clients):\n",
        "        answer_embeddings = np.array(chats_clients['Pergunta_embedding'].tolist())\n",
        "        response_embeddings = np.array(chats_clients['Resposta_embedding'].tolist())\n",
        "\n",
        "        self.label_encoder = LabelEncoder()\n",
        "        self.labels = self.label_encoder.fit_transform(chats_clients['Intencao'])\n",
        "\n",
        "        combined_embeddings = np.stack((answer_embeddings, response_embeddings), axis=1)\n",
        "        X_train, X_test, y_train, y_test = train_test_split(combined_embeddings, self.labels, test_size=self.test_size, random_state=42)\n",
        "\n",
        "        return X_train, X_test, y_train, y_test\n",
        "\n",
        "    def build_model(self, input_shape):\n",
        "        self.model = Sequential()\n",
        "        self.model.add(Bidirectional(LSTM(128, return_sequences=True), input_shape=input_shape))\n",
        "        self.model.add(Dropout(0.5))\n",
        "        self.model.add(LSTM(64))\n",
        "        self.model.add(Dropout(0.5))\n",
        "        self.model.add(Dense(64, activation='relu'))\n",
        "        self.model.add(Dense(32, activation='relu'))\n",
        "        self.model.add(Dense(len(np.unique(self.labels)), activation='softmax'))\n",
        "        optimizer = Adam(learning_rate=self.learning_rate)\n",
        "        self.model.compile(optimizer=optimizer, loss='sparse_categorical_crossentropy', metrics=['accuracy'])\n",
        "        self.model.summary()\n",
        "\n",
        "    def train(self, X_train, X_test, y_train, y_test):\n",
        "        early_stopping = EarlyStopping(monitor='val_loss', patience=20, restore_best_weights=True)\n",
        "        model_checkpoint = ModelCheckpoint('best_model.keras', save_best_only=True, monitor='val_loss', mode='min')\n",
        "\n",
        "        self.model.fit(X_train, y_train, epochs=self.epochs,\n",
        "                       batch_size=self.batch_size,\n",
        "                       validation_split=self.validation_split,\n",
        "                       callbacks=[\n",
        "                           early_stopping,\n",
        "                           model_checkpoint\n",
        "                           ])\n",
        "\n",
        "        loss, accuracy = self.model.evaluate(X_test, y_test)\n",
        "        print(f\"Test Loss: {loss}, Test Accuracy: {accuracy}\")\n",
        "\n",
        "    def predict(self, X_test):\n",
        "        y_pred = self.model.predict(X_test)\n",
        "        y_pred_classes = np.argmax(y_pred, axis=1)\n",
        "\n",
        "        return y_pred_classes\n",
        "\n",
        "    def generate_report(self, y_test, y_pred_classes):\n",
        "\n",
        "      print(len(y_test))\n",
        "      print(classification_report(y_test, y_pred_classes))\n",
        "\n",
        "      ### Entender o problema abaixo\n",
        "\n",
        "        # precision, recall, f1, support = precision_recall_fscore_support(y_test, y_pred_classes)\n",
        "\n",
        "        # report_df = pd.DataFrame({\n",
        "        #     'Class': self.label_encoder.classes_,\n",
        "        #     'Precision': precision,\n",
        "        #     'Recall': recall,\n",
        "        #     'F1-Score': f1,\n",
        "        #     'Support': support\n",
        "        # })\n",
        "\n",
        "        # report_df.loc['Average'] = report_df[['Precision', 'Recall', 'F1-Score', 'Support']].mean()\n",
        "        # report_df.loc['Average', 'Class'] = 'Average'\n",
        "\n",
        "        # print(report_df)\n"
      ],
      "metadata": {
        "id": "NLer9PCIrxpA"
      },
      "execution_count": 83,
      "outputs": []
    },
    {
      "cell_type": "code",
      "source": [
        "classifier = IntentClassifier()\n",
        "X_train, X_test, y_train, y_test = classifier.prepare_data(chats_clients)\n",
        "classifier.build_model(input_shape=(X_train.shape[1], X_train.shape[2]))\n",
        "classifier.train(X_train, X_test, y_train, y_test)\n"
      ],
      "metadata": {
        "id": "rFwBWOtTAoXz",
        "colab": {
          "base_uri": "https://localhost:8080/",
          "height": 1000
        },
        "outputId": "65092882-b437-4cd7-f327-b53752bfe5d4"
      },
      "execution_count": 84,
      "outputs": [
        {
          "output_type": "stream",
          "name": "stderr",
          "text": [
            "/usr/local/lib/python3.10/dist-packages/keras/src/layers/rnn/bidirectional.py:107: UserWarning: Do not pass an `input_shape`/`input_dim` argument to a layer. When using Sequential models, prefer using an `Input(shape)` object as the first layer in the model instead.\n",
            "  super().__init__(**kwargs)\n"
          ]
        },
        {
          "output_type": "display_data",
          "data": {
            "text/plain": [
              "\u001b[1mModel: \"sequential_9\"\u001b[0m\n"
            ],
            "text/html": [
              "<pre style=\"white-space:pre;overflow-x:auto;line-height:normal;font-family:Menlo,'DejaVu Sans Mono',consolas,'Courier New',monospace\"><span style=\"font-weight: bold\">Model: \"sequential_9\"</span>\n",
              "</pre>\n"
            ]
          },
          "metadata": {}
        },
        {
          "output_type": "display_data",
          "data": {
            "text/plain": [
              "┏━━━━━━━━━━━━━━━━━━━━━━━━━━━━━━━━━━━━━━┳━━━━━━━━━━━━━━━━━━━━━━━━━━━━━┳━━━━━━━━━━━━━━━━━┓\n",
              "┃\u001b[1m \u001b[0m\u001b[1mLayer (type)                        \u001b[0m\u001b[1m \u001b[0m┃\u001b[1m \u001b[0m\u001b[1mOutput Shape               \u001b[0m\u001b[1m \u001b[0m┃\u001b[1m \u001b[0m\u001b[1m        Param #\u001b[0m\u001b[1m \u001b[0m┃\n",
              "┡━━━━━━━━━━━━━━━━━━━━━━━━━━━━━━━━━━━━━━╇━━━━━━━━━━━━━━━━━━━━━━━━━━━━━╇━━━━━━━━━━━━━━━━━┩\n",
              "│ bidirectional_9 (\u001b[38;5;33mBidirectional\u001b[0m)      │ (\u001b[38;5;45mNone\u001b[0m, \u001b[38;5;34m2\u001b[0m, \u001b[38;5;34m256\u001b[0m)              │         \u001b[38;5;34m234,496\u001b[0m │\n",
              "├──────────────────────────────────────┼─────────────────────────────┼─────────────────┤\n",
              "│ dropout_18 (\u001b[38;5;33mDropout\u001b[0m)                 │ (\u001b[38;5;45mNone\u001b[0m, \u001b[38;5;34m2\u001b[0m, \u001b[38;5;34m256\u001b[0m)              │               \u001b[38;5;34m0\u001b[0m │\n",
              "├──────────────────────────────────────┼─────────────────────────────┼─────────────────┤\n",
              "│ lstm_19 (\u001b[38;5;33mLSTM\u001b[0m)                       │ (\u001b[38;5;45mNone\u001b[0m, \u001b[38;5;34m64\u001b[0m)                  │          \u001b[38;5;34m82,176\u001b[0m │\n",
              "├──────────────────────────────────────┼─────────────────────────────┼─────────────────┤\n",
              "│ dropout_19 (\u001b[38;5;33mDropout\u001b[0m)                 │ (\u001b[38;5;45mNone\u001b[0m, \u001b[38;5;34m64\u001b[0m)                  │               \u001b[38;5;34m0\u001b[0m │\n",
              "├──────────────────────────────────────┼─────────────────────────────┼─────────────────┤\n",
              "│ dense_27 (\u001b[38;5;33mDense\u001b[0m)                     │ (\u001b[38;5;45mNone\u001b[0m, \u001b[38;5;34m64\u001b[0m)                  │           \u001b[38;5;34m4,160\u001b[0m │\n",
              "├──────────────────────────────────────┼─────────────────────────────┼─────────────────┤\n",
              "│ dense_28 (\u001b[38;5;33mDense\u001b[0m)                     │ (\u001b[38;5;45mNone\u001b[0m, \u001b[38;5;34m32\u001b[0m)                  │           \u001b[38;5;34m2,080\u001b[0m │\n",
              "├──────────────────────────────────────┼─────────────────────────────┼─────────────────┤\n",
              "│ dense_29 (\u001b[38;5;33mDense\u001b[0m)                     │ (\u001b[38;5;45mNone\u001b[0m, \u001b[38;5;34m18\u001b[0m)                  │             \u001b[38;5;34m594\u001b[0m │\n",
              "└──────────────────────────────────────┴─────────────────────────────┴─────────────────┘\n"
            ],
            "text/html": [
              "<pre style=\"white-space:pre;overflow-x:auto;line-height:normal;font-family:Menlo,'DejaVu Sans Mono',consolas,'Courier New',monospace\">┏━━━━━━━━━━━━━━━━━━━━━━━━━━━━━━━━━━━━━━┳━━━━━━━━━━━━━━━━━━━━━━━━━━━━━┳━━━━━━━━━━━━━━━━━┓\n",
              "┃<span style=\"font-weight: bold\"> Layer (type)                         </span>┃<span style=\"font-weight: bold\"> Output Shape                </span>┃<span style=\"font-weight: bold\">         Param # </span>┃\n",
              "┡━━━━━━━━━━━━━━━━━━━━━━━━━━━━━━━━━━━━━━╇━━━━━━━━━━━━━━━━━━━━━━━━━━━━━╇━━━━━━━━━━━━━━━━━┩\n",
              "│ bidirectional_9 (<span style=\"color: #0087ff; text-decoration-color: #0087ff\">Bidirectional</span>)      │ (<span style=\"color: #00d7ff; text-decoration-color: #00d7ff\">None</span>, <span style=\"color: #00af00; text-decoration-color: #00af00\">2</span>, <span style=\"color: #00af00; text-decoration-color: #00af00\">256</span>)              │         <span style=\"color: #00af00; text-decoration-color: #00af00\">234,496</span> │\n",
              "├──────────────────────────────────────┼─────────────────────────────┼─────────────────┤\n",
              "│ dropout_18 (<span style=\"color: #0087ff; text-decoration-color: #0087ff\">Dropout</span>)                 │ (<span style=\"color: #00d7ff; text-decoration-color: #00d7ff\">None</span>, <span style=\"color: #00af00; text-decoration-color: #00af00\">2</span>, <span style=\"color: #00af00; text-decoration-color: #00af00\">256</span>)              │               <span style=\"color: #00af00; text-decoration-color: #00af00\">0</span> │\n",
              "├──────────────────────────────────────┼─────────────────────────────┼─────────────────┤\n",
              "│ lstm_19 (<span style=\"color: #0087ff; text-decoration-color: #0087ff\">LSTM</span>)                       │ (<span style=\"color: #00d7ff; text-decoration-color: #00d7ff\">None</span>, <span style=\"color: #00af00; text-decoration-color: #00af00\">64</span>)                  │          <span style=\"color: #00af00; text-decoration-color: #00af00\">82,176</span> │\n",
              "├──────────────────────────────────────┼─────────────────────────────┼─────────────────┤\n",
              "│ dropout_19 (<span style=\"color: #0087ff; text-decoration-color: #0087ff\">Dropout</span>)                 │ (<span style=\"color: #00d7ff; text-decoration-color: #00d7ff\">None</span>, <span style=\"color: #00af00; text-decoration-color: #00af00\">64</span>)                  │               <span style=\"color: #00af00; text-decoration-color: #00af00\">0</span> │\n",
              "├──────────────────────────────────────┼─────────────────────────────┼─────────────────┤\n",
              "│ dense_27 (<span style=\"color: #0087ff; text-decoration-color: #0087ff\">Dense</span>)                     │ (<span style=\"color: #00d7ff; text-decoration-color: #00d7ff\">None</span>, <span style=\"color: #00af00; text-decoration-color: #00af00\">64</span>)                  │           <span style=\"color: #00af00; text-decoration-color: #00af00\">4,160</span> │\n",
              "├──────────────────────────────────────┼─────────────────────────────┼─────────────────┤\n",
              "│ dense_28 (<span style=\"color: #0087ff; text-decoration-color: #0087ff\">Dense</span>)                     │ (<span style=\"color: #00d7ff; text-decoration-color: #00d7ff\">None</span>, <span style=\"color: #00af00; text-decoration-color: #00af00\">32</span>)                  │           <span style=\"color: #00af00; text-decoration-color: #00af00\">2,080</span> │\n",
              "├──────────────────────────────────────┼─────────────────────────────┼─────────────────┤\n",
              "│ dense_29 (<span style=\"color: #0087ff; text-decoration-color: #0087ff\">Dense</span>)                     │ (<span style=\"color: #00d7ff; text-decoration-color: #00d7ff\">None</span>, <span style=\"color: #00af00; text-decoration-color: #00af00\">18</span>)                  │             <span style=\"color: #00af00; text-decoration-color: #00af00\">594</span> │\n",
              "└──────────────────────────────────────┴─────────────────────────────┴─────────────────┘\n",
              "</pre>\n"
            ]
          },
          "metadata": {}
        },
        {
          "output_type": "display_data",
          "data": {
            "text/plain": [
              "\u001b[1m Total params: \u001b[0m\u001b[38;5;34m323,506\u001b[0m (1.23 MB)\n"
            ],
            "text/html": [
              "<pre style=\"white-space:pre;overflow-x:auto;line-height:normal;font-family:Menlo,'DejaVu Sans Mono',consolas,'Courier New',monospace\"><span style=\"font-weight: bold\"> Total params: </span><span style=\"color: #00af00; text-decoration-color: #00af00\">323,506</span> (1.23 MB)\n",
              "</pre>\n"
            ]
          },
          "metadata": {}
        },
        {
          "output_type": "display_data",
          "data": {
            "text/plain": [
              "\u001b[1m Trainable params: \u001b[0m\u001b[38;5;34m323,506\u001b[0m (1.23 MB)\n"
            ],
            "text/html": [
              "<pre style=\"white-space:pre;overflow-x:auto;line-height:normal;font-family:Menlo,'DejaVu Sans Mono',consolas,'Courier New',monospace\"><span style=\"font-weight: bold\"> Trainable params: </span><span style=\"color: #00af00; text-decoration-color: #00af00\">323,506</span> (1.23 MB)\n",
              "</pre>\n"
            ]
          },
          "metadata": {}
        },
        {
          "output_type": "display_data",
          "data": {
            "text/plain": [
              "\u001b[1m Non-trainable params: \u001b[0m\u001b[38;5;34m0\u001b[0m (0.00 B)\n"
            ],
            "text/html": [
              "<pre style=\"white-space:pre;overflow-x:auto;line-height:normal;font-family:Menlo,'DejaVu Sans Mono',consolas,'Courier New',monospace\"><span style=\"font-weight: bold\"> Non-trainable params: </span><span style=\"color: #00af00; text-decoration-color: #00af00\">0</span> (0.00 B)\n",
              "</pre>\n"
            ]
          },
          "metadata": {}
        },
        {
          "output_type": "stream",
          "name": "stdout",
          "text": [
            "Epoch 1/180\n",
            "\u001b[1m35/35\u001b[0m \u001b[32m━━━━━━━━━━━━━━━━━━━━\u001b[0m\u001b[37m\u001b[0m \u001b[1m4s\u001b[0m 22ms/step - accuracy: 0.1239 - loss: 2.7712 - val_accuracy: 0.2143 - val_loss: 2.4585\n",
            "Epoch 2/180\n",
            "\u001b[1m35/35\u001b[0m \u001b[32m━━━━━━━━━━━━━━━━━━━━\u001b[0m\u001b[37m\u001b[0m \u001b[1m0s\u001b[0m 10ms/step - accuracy: 0.2936 - loss: 2.4684 - val_accuracy: 0.4505 - val_loss: 1.9852\n",
            "Epoch 3/180\n",
            "\u001b[1m35/35\u001b[0m \u001b[32m━━━━━━━━━━━━━━━━━━━━\u001b[0m\u001b[37m\u001b[0m \u001b[1m0s\u001b[0m 10ms/step - accuracy: 0.4501 - loss: 2.0368 - val_accuracy: 0.4478 - val_loss: 1.7970\n",
            "Epoch 4/180\n",
            "\u001b[1m35/35\u001b[0m \u001b[32m━━━━━━━━━━━━━━━━━━━━\u001b[0m\u001b[37m\u001b[0m \u001b[1m0s\u001b[0m 10ms/step - accuracy: 0.4713 - loss: 1.7662 - val_accuracy: 0.4835 - val_loss: 1.7475\n",
            "Epoch 5/180\n",
            "\u001b[1m35/35\u001b[0m \u001b[32m━━━━━━━━━━━━━━━━━━━━\u001b[0m\u001b[37m\u001b[0m \u001b[1m0s\u001b[0m 10ms/step - accuracy: 0.4844 - loss: 1.6980 - val_accuracy: 0.5110 - val_loss: 1.6061\n",
            "Epoch 6/180\n",
            "\u001b[1m35/35\u001b[0m \u001b[32m━━━━━━━━━━━━━━━━━━━━\u001b[0m\u001b[37m\u001b[0m \u001b[1m0s\u001b[0m 9ms/step - accuracy: 0.4991 - loss: 1.6481 - val_accuracy: 0.5302 - val_loss: 1.6237\n",
            "Epoch 7/180\n",
            "\u001b[1m35/35\u001b[0m \u001b[32m━━━━━━━━━━━━━━━━━━━━\u001b[0m\u001b[37m\u001b[0m \u001b[1m0s\u001b[0m 10ms/step - accuracy: 0.5475 - loss: 1.5358 - val_accuracy: 0.5027 - val_loss: 1.6049\n",
            "Epoch 8/180\n",
            "\u001b[1m35/35\u001b[0m \u001b[32m━━━━━━━━━━━━━━━━━━━━\u001b[0m\u001b[37m\u001b[0m \u001b[1m0s\u001b[0m 10ms/step - accuracy: 0.5095 - loss: 1.6255 - val_accuracy: 0.5467 - val_loss: 1.5172\n",
            "Epoch 9/180\n",
            "\u001b[1m35/35\u001b[0m \u001b[32m━━━━━━━━━━━━━━━━━━━━\u001b[0m\u001b[37m\u001b[0m \u001b[1m0s\u001b[0m 9ms/step - accuracy: 0.5576 - loss: 1.5169 - val_accuracy: 0.5467 - val_loss: 1.5721\n",
            "Epoch 10/180\n",
            "\u001b[1m35/35\u001b[0m \u001b[32m━━━━━━━━━━━━━━━━━━━━\u001b[0m\u001b[37m\u001b[0m \u001b[1m0s\u001b[0m 10ms/step - accuracy: 0.5372 - loss: 1.5485 - val_accuracy: 0.5549 - val_loss: 1.4856\n",
            "Epoch 11/180\n",
            "\u001b[1m35/35\u001b[0m \u001b[32m━━━━━━━━━━━━━━━━━━━━\u001b[0m\u001b[37m\u001b[0m \u001b[1m0s\u001b[0m 10ms/step - accuracy: 0.5451 - loss: 1.5071 - val_accuracy: 0.5769 - val_loss: 1.4333\n",
            "Epoch 12/180\n",
            "\u001b[1m35/35\u001b[0m \u001b[32m━━━━━━━━━━━━━━━━━━━━\u001b[0m\u001b[37m\u001b[0m \u001b[1m0s\u001b[0m 9ms/step - accuracy: 0.5618 - loss: 1.4283 - val_accuracy: 0.5797 - val_loss: 1.4504\n",
            "Epoch 13/180\n",
            "\u001b[1m35/35\u001b[0m \u001b[32m━━━━━━━━━━━━━━━━━━━━\u001b[0m\u001b[37m\u001b[0m \u001b[1m0s\u001b[0m 8ms/step - accuracy: 0.5367 - loss: 1.5383 - val_accuracy: 0.5687 - val_loss: 1.4598\n",
            "Epoch 14/180\n",
            "\u001b[1m35/35\u001b[0m \u001b[32m━━━━━━━━━━━━━━━━━━━━\u001b[0m\u001b[37m\u001b[0m \u001b[1m0s\u001b[0m 10ms/step - accuracy: 0.5529 - loss: 1.4714 - val_accuracy: 0.5769 - val_loss: 1.3905\n",
            "Epoch 15/180\n",
            "\u001b[1m35/35\u001b[0m \u001b[32m━━━━━━━━━━━━━━━━━━━━\u001b[0m\u001b[37m\u001b[0m \u001b[1m0s\u001b[0m 10ms/step - accuracy: 0.5397 - loss: 1.4232 - val_accuracy: 0.5769 - val_loss: 1.3810\n",
            "Epoch 16/180\n",
            "\u001b[1m35/35\u001b[0m \u001b[32m━━━━━━━━━━━━━━━━━━━━\u001b[0m\u001b[37m\u001b[0m \u001b[1m0s\u001b[0m 10ms/step - accuracy: 0.5668 - loss: 1.3434 - val_accuracy: 0.6044 - val_loss: 1.3482\n",
            "Epoch 17/180\n",
            "\u001b[1m35/35\u001b[0m \u001b[32m━━━━━━━━━━━━━━━━━━━━\u001b[0m\u001b[37m\u001b[0m \u001b[1m0s\u001b[0m 10ms/step - accuracy: 0.6209 - loss: 1.2899 - val_accuracy: 0.6071 - val_loss: 1.3229\n",
            "Epoch 18/180\n",
            "\u001b[1m35/35\u001b[0m \u001b[32m━━━━━━━━━━━━━━━━━━━━\u001b[0m\u001b[37m\u001b[0m \u001b[1m0s\u001b[0m 10ms/step - accuracy: 0.5984 - loss: 1.2904 - val_accuracy: 0.6044 - val_loss: 1.2962\n",
            "Epoch 19/180\n",
            "\u001b[1m35/35\u001b[0m \u001b[32m━━━━━━━━━━━━━━━━━━━━\u001b[0m\u001b[37m\u001b[0m \u001b[1m0s\u001b[0m 10ms/step - accuracy: 0.5854 - loss: 1.3120 - val_accuracy: 0.6044 - val_loss: 1.2949\n",
            "Epoch 20/180\n",
            "\u001b[1m35/35\u001b[0m \u001b[32m━━━━━━━━━━━━━━━━━━━━\u001b[0m\u001b[37m\u001b[0m \u001b[1m0s\u001b[0m 10ms/step - accuracy: 0.5986 - loss: 1.2493 - val_accuracy: 0.6016 - val_loss: 1.2319\n",
            "Epoch 21/180\n",
            "\u001b[1m35/35\u001b[0m \u001b[32m━━━━━━━━━━━━━━━━━━━━\u001b[0m\u001b[37m\u001b[0m \u001b[1m0s\u001b[0m 8ms/step - accuracy: 0.5766 - loss: 1.2808 - val_accuracy: 0.6126 - val_loss: 1.2553\n",
            "Epoch 22/180\n",
            "\u001b[1m35/35\u001b[0m \u001b[32m━━━━━━━━━━━━━━━━━━━━\u001b[0m\u001b[37m\u001b[0m \u001b[1m0s\u001b[0m 10ms/step - accuracy: 0.5861 - loss: 1.2293 - val_accuracy: 0.6236 - val_loss: 1.2214\n",
            "Epoch 23/180\n",
            "\u001b[1m35/35\u001b[0m \u001b[32m━━━━━━━━━━━━━━━━━━━━\u001b[0m\u001b[37m\u001b[0m \u001b[1m0s\u001b[0m 8ms/step - accuracy: 0.5897 - loss: 1.2558 - val_accuracy: 0.6181 - val_loss: 1.2660\n",
            "Epoch 24/180\n",
            "\u001b[1m35/35\u001b[0m \u001b[32m━━━━━━━━━━━━━━━━━━━━\u001b[0m\u001b[37m\u001b[0m \u001b[1m0s\u001b[0m 8ms/step - accuracy: 0.5983 - loss: 1.2873 - val_accuracy: 0.6209 - val_loss: 1.2274\n",
            "Epoch 25/180\n",
            "\u001b[1m35/35\u001b[0m \u001b[32m━━━━━━━━━━━━━━━━━━━━\u001b[0m\u001b[37m\u001b[0m \u001b[1m0s\u001b[0m 10ms/step - accuracy: 0.6286 - loss: 1.1766 - val_accuracy: 0.6346 - val_loss: 1.1960\n",
            "Epoch 26/180\n",
            "\u001b[1m35/35\u001b[0m \u001b[32m━━━━━━━━━━━━━━━━━━━━\u001b[0m\u001b[37m\u001b[0m \u001b[1m0s\u001b[0m 11ms/step - accuracy: 0.6107 - loss: 1.1795 - val_accuracy: 0.6401 - val_loss: 1.1905\n",
            "Epoch 27/180\n",
            "\u001b[1m35/35\u001b[0m \u001b[32m━━━━━━━━━━━━━━━━━━━━\u001b[0m\u001b[37m\u001b[0m \u001b[1m0s\u001b[0m 10ms/step - accuracy: 0.6035 - loss: 1.1818 - val_accuracy: 0.6401 - val_loss: 1.1351\n",
            "Epoch 28/180\n",
            "\u001b[1m35/35\u001b[0m \u001b[32m━━━━━━━━━━━━━━━━━━━━\u001b[0m\u001b[37m\u001b[0m \u001b[1m0s\u001b[0m 9ms/step - accuracy: 0.6019 - loss: 1.2125 - val_accuracy: 0.6429 - val_loss: 1.1473\n",
            "Epoch 29/180\n",
            "\u001b[1m35/35\u001b[0m \u001b[32m━━━━━━━━━━━━━━━━━━━━\u001b[0m\u001b[37m\u001b[0m \u001b[1m0s\u001b[0m 11ms/step - accuracy: 0.6200 - loss: 1.1991 - val_accuracy: 0.6621 - val_loss: 1.1255\n",
            "Epoch 30/180\n",
            "\u001b[1m35/35\u001b[0m \u001b[32m━━━━━━━━━━━━━━━━━━━━\u001b[0m\u001b[37m\u001b[0m \u001b[1m0s\u001b[0m 9ms/step - accuracy: 0.6052 - loss: 1.1544 - val_accuracy: 0.6538 - val_loss: 1.1521\n",
            "Epoch 31/180\n",
            "\u001b[1m35/35\u001b[0m \u001b[32m━━━━━━━━━━━━━━━━━━━━\u001b[0m\u001b[37m\u001b[0m \u001b[1m0s\u001b[0m 11ms/step - accuracy: 0.6651 - loss: 1.0793 - val_accuracy: 0.6621 - val_loss: 1.1163\n",
            "Epoch 32/180\n",
            "\u001b[1m35/35\u001b[0m \u001b[32m━━━━━━━━━━━━━━━━━━━━\u001b[0m\u001b[37m\u001b[0m \u001b[1m0s\u001b[0m 9ms/step - accuracy: 0.6471 - loss: 1.0731 - val_accuracy: 0.6758 - val_loss: 1.1282\n",
            "Epoch 33/180\n",
            "\u001b[1m35/35\u001b[0m \u001b[32m━━━━━━━━━━━━━━━━━━━━\u001b[0m\u001b[37m\u001b[0m \u001b[1m0s\u001b[0m 11ms/step - accuracy: 0.6451 - loss: 1.0991 - val_accuracy: 0.6896 - val_loss: 1.0874\n",
            "Epoch 34/180\n",
            "\u001b[1m35/35\u001b[0m \u001b[32m━━━━━━━━━━━━━━━━━━━━\u001b[0m\u001b[37m\u001b[0m \u001b[1m0s\u001b[0m 9ms/step - accuracy: 0.6814 - loss: 1.0039 - val_accuracy: 0.6731 - val_loss: 1.1017\n",
            "Epoch 35/180\n",
            "\u001b[1m35/35\u001b[0m \u001b[32m━━━━━━━━━━━━━━━━━━━━\u001b[0m\u001b[37m\u001b[0m \u001b[1m0s\u001b[0m 10ms/step - accuracy: 0.6512 - loss: 1.0409 - val_accuracy: 0.6923 - val_loss: 1.0588\n",
            "Epoch 36/180\n",
            "\u001b[1m35/35\u001b[0m \u001b[32m━━━━━━━━━━━━━━━━━━━━\u001b[0m\u001b[37m\u001b[0m \u001b[1m0s\u001b[0m 11ms/step - accuracy: 0.6564 - loss: 1.0654 - val_accuracy: 0.6813 - val_loss: 1.0445\n",
            "Epoch 37/180\n",
            "\u001b[1m35/35\u001b[0m \u001b[32m━━━━━━━━━━━━━━━━━━━━\u001b[0m\u001b[37m\u001b[0m \u001b[1m0s\u001b[0m 10ms/step - accuracy: 0.6368 - loss: 1.1211 - val_accuracy: 0.7033 - val_loss: 1.0409\n",
            "Epoch 38/180\n",
            "\u001b[1m35/35\u001b[0m \u001b[32m━━━━━━━━━━━━━━━━━━━━\u001b[0m\u001b[37m\u001b[0m \u001b[1m0s\u001b[0m 10ms/step - accuracy: 0.6773 - loss: 1.0408 - val_accuracy: 0.7115 - val_loss: 1.0242\n",
            "Epoch 39/180\n",
            "\u001b[1m35/35\u001b[0m \u001b[32m━━━━━━━━━━━━━━━━━━━━\u001b[0m\u001b[37m\u001b[0m \u001b[1m0s\u001b[0m 9ms/step - accuracy: 0.6765 - loss: 1.0338 - val_accuracy: 0.6676 - val_loss: 1.0747\n",
            "Epoch 40/180\n",
            "\u001b[1m35/35\u001b[0m \u001b[32m━━━━━━━━━━━━━━━━━━━━\u001b[0m\u001b[37m\u001b[0m \u001b[1m0s\u001b[0m 9ms/step - accuracy: 0.5997 - loss: 1.1847 - val_accuracy: 0.6951 - val_loss: 1.0303\n",
            "Epoch 41/180\n",
            "\u001b[1m35/35\u001b[0m \u001b[32m━━━━━━━━━━━━━━━━━━━━\u001b[0m\u001b[37m\u001b[0m \u001b[1m0s\u001b[0m 11ms/step - accuracy: 0.6521 - loss: 0.9938 - val_accuracy: 0.6896 - val_loss: 1.0226\n",
            "Epoch 42/180\n",
            "\u001b[1m35/35\u001b[0m \u001b[32m━━━━━━━━━━━━━━━━━━━━\u001b[0m\u001b[37m\u001b[0m \u001b[1m0s\u001b[0m 8ms/step - accuracy: 0.6709 - loss: 1.0585 - val_accuracy: 0.6841 - val_loss: 1.0270\n",
            "Epoch 43/180\n",
            "\u001b[1m35/35\u001b[0m \u001b[32m━━━━━━━━━━━━━━━━━━━━\u001b[0m\u001b[37m\u001b[0m \u001b[1m0s\u001b[0m 9ms/step - accuracy: 0.6434 - loss: 1.0894 - val_accuracy: 0.6511 - val_loss: 1.1617\n",
            "Epoch 44/180\n",
            "\u001b[1m35/35\u001b[0m \u001b[32m━━━━━━━━━━━━━━━━━━━━\u001b[0m\u001b[37m\u001b[0m \u001b[1m0s\u001b[0m 10ms/step - accuracy: 0.6418 - loss: 1.1112 - val_accuracy: 0.7005 - val_loss: 1.0125\n",
            "Epoch 45/180\n",
            "\u001b[1m35/35\u001b[0m \u001b[32m━━━━━━━━━━━━━━━━━━━━\u001b[0m\u001b[37m\u001b[0m \u001b[1m0s\u001b[0m 10ms/step - accuracy: 0.6356 - loss: 1.0497 - val_accuracy: 0.7115 - val_loss: 1.0027\n",
            "Epoch 46/180\n",
            "\u001b[1m35/35\u001b[0m \u001b[32m━━━━━━━━━━━━━━━━━━━━\u001b[0m\u001b[37m\u001b[0m \u001b[1m0s\u001b[0m 9ms/step - accuracy: 0.6467 - loss: 0.9748 - val_accuracy: 0.6923 - val_loss: 1.0307\n",
            "Epoch 47/180\n",
            "\u001b[1m35/35\u001b[0m \u001b[32m━━━━━━━━━━━━━━━━━━━━\u001b[0m\u001b[37m\u001b[0m \u001b[1m0s\u001b[0m 10ms/step - accuracy: 0.7019 - loss: 0.9281 - val_accuracy: 0.7005 - val_loss: 0.9929\n",
            "Epoch 48/180\n",
            "\u001b[1m35/35\u001b[0m \u001b[32m━━━━━━━━━━━━━━━━━━━━\u001b[0m\u001b[37m\u001b[0m \u001b[1m0s\u001b[0m 11ms/step - accuracy: 0.6974 - loss: 0.9507 - val_accuracy: 0.7115 - val_loss: 0.9572\n",
            "Epoch 49/180\n",
            "\u001b[1m35/35\u001b[0m \u001b[32m━━━━━━━━━━━━━━━━━━━━\u001b[0m\u001b[37m\u001b[0m \u001b[1m0s\u001b[0m 9ms/step - accuracy: 0.6821 - loss: 0.8884 - val_accuracy: 0.7088 - val_loss: 0.9657\n",
            "Epoch 50/180\n",
            "\u001b[1m35/35\u001b[0m \u001b[32m━━━━━━━━━━━━━━━━━━━━\u001b[0m\u001b[37m\u001b[0m \u001b[1m0s\u001b[0m 11ms/step - accuracy: 0.6972 - loss: 0.8769 - val_accuracy: 0.7170 - val_loss: 0.9488\n",
            "Epoch 51/180\n",
            "\u001b[1m35/35\u001b[0m \u001b[32m━━━━━━━━━━━━━━━━━━━━\u001b[0m\u001b[37m\u001b[0m \u001b[1m0s\u001b[0m 10ms/step - accuracy: 0.6784 - loss: 0.9704 - val_accuracy: 0.7005 - val_loss: 0.9389\n",
            "Epoch 52/180\n",
            "\u001b[1m35/35\u001b[0m \u001b[32m━━━━━━━━━━━━━━━━━━━━\u001b[0m\u001b[37m\u001b[0m \u001b[1m0s\u001b[0m 9ms/step - accuracy: 0.6944 - loss: 0.9453 - val_accuracy: 0.7088 - val_loss: 0.9692\n",
            "Epoch 53/180\n",
            "\u001b[1m35/35\u001b[0m \u001b[32m━━━━━━━━━━━━━━━━━━━━\u001b[0m\u001b[37m\u001b[0m \u001b[1m0s\u001b[0m 9ms/step - accuracy: 0.6965 - loss: 0.9069 - val_accuracy: 0.6978 - val_loss: 1.0088\n",
            "Epoch 54/180\n",
            "\u001b[1m35/35\u001b[0m \u001b[32m━━━━━━━━━━━━━━━━━━━━\u001b[0m\u001b[37m\u001b[0m \u001b[1m0s\u001b[0m 10ms/step - accuracy: 0.7360 - loss: 0.8414 - val_accuracy: 0.7170 - val_loss: 0.8964\n",
            "Epoch 55/180\n",
            "\u001b[1m35/35\u001b[0m \u001b[32m━━━━━━━━━━━━━━━━━━━━\u001b[0m\u001b[37m\u001b[0m \u001b[1m0s\u001b[0m 10ms/step - accuracy: 0.7452 - loss: 0.8073 - val_accuracy: 0.7363 - val_loss: 0.8934\n",
            "Epoch 56/180\n",
            "\u001b[1m35/35\u001b[0m \u001b[32m━━━━━━━━━━━━━━━━━━━━\u001b[0m\u001b[37m\u001b[0m \u001b[1m0s\u001b[0m 9ms/step - accuracy: 0.6536 - loss: 0.9673 - val_accuracy: 0.7170 - val_loss: 0.9363\n",
            "Epoch 57/180\n",
            "\u001b[1m35/35\u001b[0m \u001b[32m━━━━━━━━━━━━━━━━━━━━\u001b[0m\u001b[37m\u001b[0m \u001b[1m0s\u001b[0m 9ms/step - accuracy: 0.7384 - loss: 0.8314 - val_accuracy: 0.7033 - val_loss: 0.9312\n",
            "Epoch 58/180\n",
            "\u001b[1m35/35\u001b[0m \u001b[32m━━━━━━━━━━━━━━━━━━━━\u001b[0m\u001b[37m\u001b[0m \u001b[1m0s\u001b[0m 9ms/step - accuracy: 0.6985 - loss: 0.9390 - val_accuracy: 0.7088 - val_loss: 0.9173\n",
            "Epoch 59/180\n",
            "\u001b[1m35/35\u001b[0m \u001b[32m━━━━━━━━━━━━━━━━━━━━\u001b[0m\u001b[37m\u001b[0m \u001b[1m0s\u001b[0m 9ms/step - accuracy: 0.6614 - loss: 0.9678 - val_accuracy: 0.7253 - val_loss: 0.9236\n",
            "Epoch 60/180\n",
            "\u001b[1m35/35\u001b[0m \u001b[32m━━━━━━━━━━━━━━━━━━━━\u001b[0m\u001b[37m\u001b[0m \u001b[1m0s\u001b[0m 11ms/step - accuracy: 0.6875 - loss: 0.8762 - val_accuracy: 0.7418 - val_loss: 0.8799\n",
            "Epoch 61/180\n",
            "\u001b[1m35/35\u001b[0m \u001b[32m━━━━━━━━━━━━━━━━━━━━\u001b[0m\u001b[37m\u001b[0m \u001b[1m0s\u001b[0m 11ms/step - accuracy: 0.6920 - loss: 0.9179 - val_accuracy: 0.7253 - val_loss: 0.8826\n",
            "Epoch 62/180\n",
            "\u001b[1m35/35\u001b[0m \u001b[32m━━━━━━━━━━━━━━━━━━━━\u001b[0m\u001b[37m\u001b[0m \u001b[1m0s\u001b[0m 10ms/step - accuracy: 0.7182 - loss: 0.8446 - val_accuracy: 0.7527 - val_loss: 0.8466\n",
            "Epoch 63/180\n",
            "\u001b[1m35/35\u001b[0m \u001b[32m━━━━━━━━━━━━━━━━━━━━\u001b[0m\u001b[37m\u001b[0m \u001b[1m0s\u001b[0m 9ms/step - accuracy: 0.7557 - loss: 0.7519 - val_accuracy: 0.7500 - val_loss: 0.9052\n",
            "Epoch 64/180\n",
            "\u001b[1m35/35\u001b[0m \u001b[32m━━━━━━━━━━━━━━━━━━━━\u001b[0m\u001b[37m\u001b[0m \u001b[1m0s\u001b[0m 11ms/step - accuracy: 0.6969 - loss: 0.8582 - val_accuracy: 0.7555 - val_loss: 0.8359\n",
            "Epoch 65/180\n",
            "\u001b[1m35/35\u001b[0m \u001b[32m━━━━━━━━━━━━━━━━━━━━\u001b[0m\u001b[37m\u001b[0m \u001b[1m0s\u001b[0m 9ms/step - accuracy: 0.7503 - loss: 0.7972 - val_accuracy: 0.7363 - val_loss: 0.8700\n",
            "Epoch 66/180\n",
            "\u001b[1m35/35\u001b[0m \u001b[32m━━━━━━━━━━━━━━━━━━━━\u001b[0m\u001b[37m\u001b[0m \u001b[1m0s\u001b[0m 9ms/step - accuracy: 0.7119 - loss: 0.8982 - val_accuracy: 0.7335 - val_loss: 0.9514\n",
            "Epoch 67/180\n",
            "\u001b[1m35/35\u001b[0m \u001b[32m━━━━━━━━━━━━━━━━━━━━\u001b[0m\u001b[37m\u001b[0m \u001b[1m0s\u001b[0m 9ms/step - accuracy: 0.7022 - loss: 0.8683 - val_accuracy: 0.7527 - val_loss: 0.8394\n",
            "Epoch 68/180\n",
            "\u001b[1m35/35\u001b[0m \u001b[32m━━━━━━━━━━━━━━━━━━━━\u001b[0m\u001b[37m\u001b[0m \u001b[1m0s\u001b[0m 10ms/step - accuracy: 0.7141 - loss: 0.8061 - val_accuracy: 0.7582 - val_loss: 0.8077\n",
            "Epoch 69/180\n",
            "\u001b[1m35/35\u001b[0m \u001b[32m━━━━━━━━━━━━━━━━━━━━\u001b[0m\u001b[37m\u001b[0m \u001b[1m0s\u001b[0m 9ms/step - accuracy: 0.7109 - loss: 0.8318 - val_accuracy: 0.7582 - val_loss: 0.8090\n",
            "Epoch 70/180\n",
            "\u001b[1m35/35\u001b[0m \u001b[32m━━━━━━━━━━━━━━━━━━━━\u001b[0m\u001b[37m\u001b[0m \u001b[1m0s\u001b[0m 9ms/step - accuracy: 0.7854 - loss: 0.7163 - val_accuracy: 0.7418 - val_loss: 0.8940\n",
            "Epoch 71/180\n",
            "\u001b[1m35/35\u001b[0m \u001b[32m━━━━━━━━━━━━━━━━━━━━\u001b[0m\u001b[37m\u001b[0m \u001b[1m0s\u001b[0m 9ms/step - accuracy: 0.8053 - loss: 0.6249 - val_accuracy: 0.7445 - val_loss: 0.8621\n",
            "Epoch 72/180\n",
            "\u001b[1m35/35\u001b[0m \u001b[32m━━━━━━━━━━━━━━━━━━━━\u001b[0m\u001b[37m\u001b[0m \u001b[1m0s\u001b[0m 10ms/step - accuracy: 0.7570 - loss: 0.7433 - val_accuracy: 0.7747 - val_loss: 0.7954\n",
            "Epoch 73/180\n",
            "\u001b[1m35/35\u001b[0m \u001b[32m━━━━━━━━━━━━━━━━━━━━\u001b[0m\u001b[37m\u001b[0m \u001b[1m0s\u001b[0m 8ms/step - accuracy: 0.6743 - loss: 0.8884 - val_accuracy: 0.7720 - val_loss: 0.8534\n",
            "Epoch 74/180\n",
            "\u001b[1m35/35\u001b[0m \u001b[32m━━━━━━━━━━━━━━━━━━━━\u001b[0m\u001b[37m\u001b[0m \u001b[1m0s\u001b[0m 8ms/step - accuracy: 0.7562 - loss: 0.7692 - val_accuracy: 0.7418 - val_loss: 0.8959\n",
            "Epoch 75/180\n",
            "\u001b[1m35/35\u001b[0m \u001b[32m━━━━━━━━━━━━━━━━━━━━\u001b[0m\u001b[37m\u001b[0m \u001b[1m0s\u001b[0m 8ms/step - accuracy: 0.7637 - loss: 0.6684 - val_accuracy: 0.7665 - val_loss: 0.8088\n",
            "Epoch 76/180\n",
            "\u001b[1m35/35\u001b[0m \u001b[32m━━━━━━━━━━━━━━━━━━━━\u001b[0m\u001b[37m\u001b[0m \u001b[1m0s\u001b[0m 9ms/step - accuracy: 0.7269 - loss: 0.9744 - val_accuracy: 0.7033 - val_loss: 0.9753\n",
            "Epoch 77/180\n",
            "\u001b[1m35/35\u001b[0m \u001b[32m━━━━━━━━━━━━━━━━━━━━\u001b[0m\u001b[37m\u001b[0m \u001b[1m0s\u001b[0m 9ms/step - accuracy: 0.7395 - loss: 0.7832 - val_accuracy: 0.7473 - val_loss: 0.8789\n",
            "Epoch 78/180\n",
            "\u001b[1m35/35\u001b[0m \u001b[32m━━━━━━━━━━━━━━━━━━━━\u001b[0m\u001b[37m\u001b[0m \u001b[1m0s\u001b[0m 8ms/step - accuracy: 0.7534 - loss: 0.7299 - val_accuracy: 0.7692 - val_loss: 0.8432\n",
            "Epoch 79/180\n",
            "\u001b[1m35/35\u001b[0m \u001b[32m━━━━━━━━━━━━━━━━━━━━\u001b[0m\u001b[37m\u001b[0m \u001b[1m0s\u001b[0m 9ms/step - accuracy: 0.7670 - loss: 0.6727 - val_accuracy: 0.7610 - val_loss: 0.8578\n",
            "Epoch 80/180\n",
            "\u001b[1m35/35\u001b[0m \u001b[32m━━━━━━━━━━━━━━━━━━━━\u001b[0m\u001b[37m\u001b[0m \u001b[1m0s\u001b[0m 9ms/step - accuracy: 0.7479 - loss: 0.7384 - val_accuracy: 0.7445 - val_loss: 0.8118\n",
            "Epoch 81/180\n",
            "\u001b[1m35/35\u001b[0m \u001b[32m━━━━━━━━━━━━━━━━━━━━\u001b[0m\u001b[37m\u001b[0m \u001b[1m0s\u001b[0m 8ms/step - accuracy: 0.7891 - loss: 0.6104 - val_accuracy: 0.7747 - val_loss: 0.7984\n",
            "Epoch 82/180\n",
            "\u001b[1m35/35\u001b[0m \u001b[32m━━━━━━━━━━━━━━━━━━━━\u001b[0m\u001b[37m\u001b[0m \u001b[1m0s\u001b[0m 8ms/step - accuracy: 0.7952 - loss: 0.6067 - val_accuracy: 0.7720 - val_loss: 0.8310\n",
            "Epoch 83/180\n",
            "\u001b[1m35/35\u001b[0m \u001b[32m━━━━━━━━━━━━━━━━━━━━\u001b[0m\u001b[37m\u001b[0m \u001b[1m0s\u001b[0m 10ms/step - accuracy: 0.7797 - loss: 0.6527 - val_accuracy: 0.7912 - val_loss: 0.7653\n",
            "Epoch 84/180\n",
            "\u001b[1m35/35\u001b[0m \u001b[32m━━━━━━━━━━━━━━━━━━━━\u001b[0m\u001b[37m\u001b[0m \u001b[1m0s\u001b[0m 9ms/step - accuracy: 0.7168 - loss: 0.8696 - val_accuracy: 0.7500 - val_loss: 0.8205\n",
            "Epoch 85/180\n",
            "\u001b[1m35/35\u001b[0m \u001b[32m━━━━━━━━━━━━━━━━━━━━\u001b[0m\u001b[37m\u001b[0m \u001b[1m0s\u001b[0m 9ms/step - accuracy: 0.7535 - loss: 0.6631 - val_accuracy: 0.7720 - val_loss: 0.8248\n",
            "Epoch 86/180\n",
            "\u001b[1m35/35\u001b[0m \u001b[32m━━━━━━━━━━━━━━━━━━━━\u001b[0m\u001b[37m\u001b[0m \u001b[1m0s\u001b[0m 9ms/step - accuracy: 0.7480 - loss: 0.6817 - val_accuracy: 0.7830 - val_loss: 0.8088\n",
            "Epoch 87/180\n",
            "\u001b[1m35/35\u001b[0m \u001b[32m━━━━━━━━━━━━━━━━━━━━\u001b[0m\u001b[37m\u001b[0m \u001b[1m0s\u001b[0m 9ms/step - accuracy: 0.7771 - loss: 0.6270 - val_accuracy: 0.7610 - val_loss: 0.8085\n",
            "Epoch 88/180\n",
            "\u001b[1m35/35\u001b[0m \u001b[32m━━━━━━━━━━━━━━━━━━━━\u001b[0m\u001b[37m\u001b[0m \u001b[1m0s\u001b[0m 9ms/step - accuracy: 0.7860 - loss: 0.6431 - val_accuracy: 0.7775 - val_loss: 0.8045\n",
            "Epoch 89/180\n",
            "\u001b[1m35/35\u001b[0m \u001b[32m━━━━━━━━━━━━━━━━━━━━\u001b[0m\u001b[37m\u001b[0m \u001b[1m0s\u001b[0m 8ms/step - accuracy: 0.7618 - loss: 0.6751 - val_accuracy: 0.7747 - val_loss: 0.8021\n",
            "Epoch 90/180\n",
            "\u001b[1m35/35\u001b[0m \u001b[32m━━━━━━━━━━━━━━━━━━━━\u001b[0m\u001b[37m\u001b[0m \u001b[1m0s\u001b[0m 9ms/step - accuracy: 0.7903 - loss: 0.6165 - val_accuracy: 0.7830 - val_loss: 0.7893\n",
            "Epoch 91/180\n",
            "\u001b[1m35/35\u001b[0m \u001b[32m━━━━━━━━━━━━━━━━━━━━\u001b[0m\u001b[37m\u001b[0m \u001b[1m0s\u001b[0m 9ms/step - accuracy: 0.8243 - loss: 0.5628 - val_accuracy: 0.7500 - val_loss: 0.9152\n",
            "Epoch 92/180\n",
            "\u001b[1m35/35\u001b[0m \u001b[32m━━━━━━━━━━━━━━━━━━━━\u001b[0m\u001b[37m\u001b[0m \u001b[1m0s\u001b[0m 10ms/step - accuracy: 0.7327 - loss: 0.8439 - val_accuracy: 0.7912 - val_loss: 0.7437\n",
            "Epoch 93/180\n",
            "\u001b[1m35/35\u001b[0m \u001b[32m━━━━━━━━━━━━━━━━━━━━\u001b[0m\u001b[37m\u001b[0m \u001b[1m0s\u001b[0m 9ms/step - accuracy: 0.7981 - loss: 0.6034 - val_accuracy: 0.7610 - val_loss: 0.8711\n",
            "Epoch 94/180\n",
            "\u001b[1m35/35\u001b[0m \u001b[32m━━━━━━━━━━━━━━━━━━━━\u001b[0m\u001b[37m\u001b[0m \u001b[1m0s\u001b[0m 9ms/step - accuracy: 0.7857 - loss: 0.6201 - val_accuracy: 0.7747 - val_loss: 0.8068\n",
            "Epoch 95/180\n",
            "\u001b[1m35/35\u001b[0m \u001b[32m━━━━━━━━━━━━━━━━━━━━\u001b[0m\u001b[37m\u001b[0m \u001b[1m0s\u001b[0m 8ms/step - accuracy: 0.8278 - loss: 0.5349 - val_accuracy: 0.7967 - val_loss: 0.7735\n",
            "Epoch 96/180\n",
            "\u001b[1m35/35\u001b[0m \u001b[32m━━━━━━━━━━━━━━━━━━━━\u001b[0m\u001b[37m\u001b[0m \u001b[1m0s\u001b[0m 9ms/step - accuracy: 0.8176 - loss: 0.5211 - val_accuracy: 0.7802 - val_loss: 0.7528\n",
            "Epoch 97/180\n",
            "\u001b[1m35/35\u001b[0m \u001b[32m━━━━━━━━━━━━━━━━━━━━\u001b[0m\u001b[37m\u001b[0m \u001b[1m0s\u001b[0m 9ms/step - accuracy: 0.7559 - loss: 0.7073 - val_accuracy: 0.7830 - val_loss: 0.7921\n",
            "Epoch 98/180\n",
            "\u001b[1m35/35\u001b[0m \u001b[32m━━━━━━━━━━━━━━━━━━━━\u001b[0m\u001b[37m\u001b[0m \u001b[1m0s\u001b[0m 9ms/step - accuracy: 0.8309 - loss: 0.5265 - val_accuracy: 0.7720 - val_loss: 0.8504\n",
            "Epoch 99/180\n",
            "\u001b[1m35/35\u001b[0m \u001b[32m━━━━━━━━━━━━━━━━━━━━\u001b[0m\u001b[37m\u001b[0m \u001b[1m0s\u001b[0m 9ms/step - accuracy: 0.8112 - loss: 0.5361 - val_accuracy: 0.7995 - val_loss: 0.7546\n",
            "Epoch 100/180\n",
            "\u001b[1m35/35\u001b[0m \u001b[32m━━━━━━━━━━━━━━━━━━━━\u001b[0m\u001b[37m\u001b[0m \u001b[1m0s\u001b[0m 9ms/step - accuracy: 0.8265 - loss: 0.4905 - val_accuracy: 0.7802 - val_loss: 0.8019\n",
            "Epoch 101/180\n",
            "\u001b[1m35/35\u001b[0m \u001b[32m━━━━━━━━━━━━━━━━━━━━\u001b[0m\u001b[37m\u001b[0m \u001b[1m0s\u001b[0m 9ms/step - accuracy: 0.7963 - loss: 0.5798 - val_accuracy: 0.7665 - val_loss: 0.9047\n",
            "Epoch 102/180\n",
            "\u001b[1m35/35\u001b[0m \u001b[32m━━━━━━━━━━━━━━━━━━━━\u001b[0m\u001b[37m\u001b[0m \u001b[1m0s\u001b[0m 9ms/step - accuracy: 0.8420 - loss: 0.4935 - val_accuracy: 0.7335 - val_loss: 0.9445\n",
            "Epoch 103/180\n",
            "\u001b[1m35/35\u001b[0m \u001b[32m━━━━━━━━━━━━━━━━━━━━\u001b[0m\u001b[37m\u001b[0m \u001b[1m0s\u001b[0m 9ms/step - accuracy: 0.8050 - loss: 0.5320 - val_accuracy: 0.7775 - val_loss: 0.8146\n",
            "Epoch 104/180\n",
            "\u001b[1m35/35\u001b[0m \u001b[32m━━━━━━━━━━━━━━━━━━━━\u001b[0m\u001b[37m\u001b[0m \u001b[1m0s\u001b[0m 11ms/step - accuracy: 0.8027 - loss: 0.5461 - val_accuracy: 0.8049 - val_loss: 0.7252\n",
            "Epoch 105/180\n",
            "\u001b[1m35/35\u001b[0m \u001b[32m━━━━━━━━━━━━━━━━━━━━\u001b[0m\u001b[37m\u001b[0m \u001b[1m0s\u001b[0m 9ms/step - accuracy: 0.8521 - loss: 0.4673 - val_accuracy: 0.8022 - val_loss: 0.7924\n",
            "Epoch 106/180\n",
            "\u001b[1m35/35\u001b[0m \u001b[32m━━━━━━━━━━━━━━━━━━━━\u001b[0m\u001b[37m\u001b[0m \u001b[1m0s\u001b[0m 9ms/step - accuracy: 0.8388 - loss: 0.5247 - val_accuracy: 0.7857 - val_loss: 0.7547\n",
            "Epoch 107/180\n",
            "\u001b[1m35/35\u001b[0m \u001b[32m━━━━━━━━━━━━━━━━━━━━\u001b[0m\u001b[37m\u001b[0m \u001b[1m0s\u001b[0m 8ms/step - accuracy: 0.8155 - loss: 0.5545 - val_accuracy: 0.7912 - val_loss: 0.7999\n",
            "Epoch 108/180\n",
            "\u001b[1m35/35\u001b[0m \u001b[32m━━━━━━━━━━━━━━━━━━━━\u001b[0m\u001b[37m\u001b[0m \u001b[1m0s\u001b[0m 9ms/step - accuracy: 0.8269 - loss: 0.5076 - val_accuracy: 0.7857 - val_loss: 0.8217\n",
            "Epoch 109/180\n",
            "\u001b[1m35/35\u001b[0m \u001b[32m━━━━━━━━━━━━━━━━━━━━\u001b[0m\u001b[37m\u001b[0m \u001b[1m0s\u001b[0m 9ms/step - accuracy: 0.7093 - loss: 0.9379 - val_accuracy: 0.7720 - val_loss: 0.8217\n",
            "Epoch 110/180\n",
            "\u001b[1m35/35\u001b[0m \u001b[32m━━━━━━━━━━━━━━━━━━━━\u001b[0m\u001b[37m\u001b[0m \u001b[1m0s\u001b[0m 9ms/step - accuracy: 0.7973 - loss: 0.5836 - val_accuracy: 0.7555 - val_loss: 0.8735\n",
            "Epoch 111/180\n",
            "\u001b[1m35/35\u001b[0m \u001b[32m━━━━━━━━━━━━━━━━━━━━\u001b[0m\u001b[37m\u001b[0m \u001b[1m0s\u001b[0m 9ms/step - accuracy: 0.8297 - loss: 0.5223 - val_accuracy: 0.8049 - val_loss: 0.7636\n",
            "Epoch 112/180\n",
            "\u001b[1m35/35\u001b[0m \u001b[32m━━━━━━━━━━━━━━━━━━━━\u001b[0m\u001b[37m\u001b[0m \u001b[1m0s\u001b[0m 9ms/step - accuracy: 0.8137 - loss: 0.5190 - val_accuracy: 0.8049 - val_loss: 0.7545\n",
            "Epoch 113/180\n",
            "\u001b[1m35/35\u001b[0m \u001b[32m━━━━━━━━━━━━━━━━━━━━\u001b[0m\u001b[37m\u001b[0m \u001b[1m0s\u001b[0m 9ms/step - accuracy: 0.8563 - loss: 0.4382 - val_accuracy: 0.7720 - val_loss: 0.8566\n",
            "Epoch 114/180\n",
            "\u001b[1m35/35\u001b[0m \u001b[32m━━━━━━━━━━━━━━━━━━━━\u001b[0m\u001b[37m\u001b[0m \u001b[1m0s\u001b[0m 9ms/step - accuracy: 0.7671 - loss: 0.7768 - val_accuracy: 0.7445 - val_loss: 0.9567\n",
            "Epoch 115/180\n",
            "\u001b[1m35/35\u001b[0m \u001b[32m━━━━━━━━━━━━━━━━━━━━\u001b[0m\u001b[37m\u001b[0m \u001b[1m0s\u001b[0m 9ms/step - accuracy: 0.8073 - loss: 0.5236 - val_accuracy: 0.7885 - val_loss: 0.8119\n",
            "Epoch 116/180\n",
            "\u001b[1m35/35\u001b[0m \u001b[32m━━━━━━━━━━━━━━━━━━━━\u001b[0m\u001b[37m\u001b[0m \u001b[1m0s\u001b[0m 9ms/step - accuracy: 0.8718 - loss: 0.4242 - val_accuracy: 0.8132 - val_loss: 0.7539\n",
            "Epoch 117/180\n",
            "\u001b[1m35/35\u001b[0m \u001b[32m━━━━━━━━━━━━━━━━━━━━\u001b[0m\u001b[37m\u001b[0m \u001b[1m0s\u001b[0m 8ms/step - accuracy: 0.8801 - loss: 0.3809 - val_accuracy: 0.8104 - val_loss: 0.7667\n",
            "Epoch 118/180\n",
            "\u001b[1m35/35\u001b[0m \u001b[32m━━━━━━━━━━━━━━━━━━━━\u001b[0m\u001b[37m\u001b[0m \u001b[1m0s\u001b[0m 9ms/step - accuracy: 0.8427 - loss: 0.4275 - val_accuracy: 0.8049 - val_loss: 0.8117\n",
            "Epoch 119/180\n",
            "\u001b[1m35/35\u001b[0m \u001b[32m━━━━━━━━━━━━━━━━━━━━\u001b[0m\u001b[37m\u001b[0m \u001b[1m0s\u001b[0m 9ms/step - accuracy: 0.8611 - loss: 0.4301 - val_accuracy: 0.8022 - val_loss: 0.8135\n",
            "Epoch 120/180\n",
            "\u001b[1m35/35\u001b[0m \u001b[32m━━━━━━━━━━━━━━━━━━━━\u001b[0m\u001b[37m\u001b[0m \u001b[1m0s\u001b[0m 8ms/step - accuracy: 0.7961 - loss: 0.6670 - val_accuracy: 0.7885 - val_loss: 0.7745\n",
            "Epoch 121/180\n",
            "\u001b[1m35/35\u001b[0m \u001b[32m━━━━━━━━━━━━━━━━━━━━\u001b[0m\u001b[37m\u001b[0m \u001b[1m0s\u001b[0m 9ms/step - accuracy: 0.8294 - loss: 0.4919 - val_accuracy: 0.8104 - val_loss: 0.7479\n",
            "Epoch 122/180\n",
            "\u001b[1m35/35\u001b[0m \u001b[32m━━━━━━━━━━━━━━━━━━━━\u001b[0m\u001b[37m\u001b[0m \u001b[1m0s\u001b[0m 8ms/step - accuracy: 0.8414 - loss: 0.4275 - val_accuracy: 0.7995 - val_loss: 0.7730\n",
            "Epoch 123/180\n",
            "\u001b[1m35/35\u001b[0m \u001b[32m━━━━━━━━━━━━━━━━━━━━\u001b[0m\u001b[37m\u001b[0m \u001b[1m0s\u001b[0m 9ms/step - accuracy: 0.8931 - loss: 0.3492 - val_accuracy: 0.7967 - val_loss: 0.8144\n",
            "Epoch 124/180\n",
            "\u001b[1m35/35\u001b[0m \u001b[32m━━━━━━━━━━━━━━━━━━━━\u001b[0m\u001b[37m\u001b[0m \u001b[1m0s\u001b[0m 9ms/step - accuracy: 0.8473 - loss: 0.4310 - val_accuracy: 0.8022 - val_loss: 0.8131\n",
            "\u001b[1m19/19\u001b[0m \u001b[32m━━━━━━━━━━━━━━━━━━━━\u001b[0m\u001b[37m\u001b[0m \u001b[1m0s\u001b[0m 2ms/step - accuracy: 0.7599 - loss: 0.9824 \n",
            "Test Loss: 1.0269076824188232, Test Accuracy: 0.7524752616882324\n"
          ]
        }
      ]
    },
    {
      "cell_type": "code",
      "source": [
        "y_pred_classes = classifier.predict(X_test)\n",
        "classifier.generate_report(y_test, y_pred_classes)"
      ],
      "metadata": {
        "colab": {
          "base_uri": "https://localhost:8080/"
        },
        "id": "K7vwxauVP4RF",
        "outputId": "6ff6ec6e-1d42-4485-b096-06c53a4858be"
      },
      "execution_count": 82,
      "outputs": [
        {
          "output_type": "stream",
          "name": "stdout",
          "text": [
            "\u001b[1m19/19\u001b[0m \u001b[32m━━━━━━━━━━━━━━━━━━━━\u001b[0m\u001b[37m\u001b[0m \u001b[1m1s\u001b[0m 17ms/step\n",
            "              precision    recall  f1-score   support\n",
            "\n",
            "           0       0.35      0.32      0.33        19\n",
            "           1       0.30      0.43      0.35         7\n",
            "           2       0.44      0.67      0.53        27\n",
            "           3       0.33      0.50      0.40        10\n",
            "           4       0.55      0.57      0.56        21\n",
            "           5       0.71      0.31      0.43        16\n",
            "           6       0.84      0.94      0.89        83\n",
            "           7       0.89      0.92      0.90       154\n",
            "           8       0.00      0.00      0.00         2\n",
            "           9       0.84      0.97      0.90        70\n",
            "          10       0.69      0.75      0.72        24\n",
            "          11       0.33      0.27      0.30        11\n",
            "          12       0.75      0.28      0.41        43\n",
            "          13       0.00      0.00      0.00         0\n",
            "          14       0.21      0.24      0.22        25\n",
            "          15       0.50      0.53      0.51        19\n",
            "          16       0.79      0.80      0.80        41\n",
            "          17       0.83      0.29      0.43        34\n",
            "\n",
            "    accuracy                           0.71       606\n",
            "   macro avg       0.52      0.49      0.48       606\n",
            "weighted avg       0.73      0.71      0.70       606\n",
            "\n"
          ]
        },
        {
          "output_type": "stream",
          "name": "stderr",
          "text": [
            "/usr/local/lib/python3.10/dist-packages/sklearn/metrics/_classification.py:1471: UndefinedMetricWarning: Recall and F-score are ill-defined and being set to 0.0 in labels with no true samples. Use `zero_division` parameter to control this behavior.\n",
            "  _warn_prf(average, modifier, msg_start, len(result))\n",
            "/usr/local/lib/python3.10/dist-packages/sklearn/metrics/_classification.py:1471: UndefinedMetricWarning: Recall and F-score are ill-defined and being set to 0.0 in labels with no true samples. Use `zero_division` parameter to control this behavior.\n",
            "  _warn_prf(average, modifier, msg_start, len(result))\n",
            "/usr/local/lib/python3.10/dist-packages/sklearn/metrics/_classification.py:1471: UndefinedMetricWarning: Recall and F-score are ill-defined and being set to 0.0 in labels with no true samples. Use `zero_division` parameter to control this behavior.\n",
            "  _warn_prf(average, modifier, msg_start, len(result))\n"
          ]
        }
      ]
    }
  ],
  "metadata": {
    "accelerator": "GPU",
    "colab": {
      "gpuType": "A100",
      "provenance": [],
      "machine_shape": "hm"
    },
    "kernelspec": {
      "display_name": "Python 3",
      "name": "python3"
    },
    "language_info": {
      "name": "python"
    }
  },
  "nbformat": 4,
  "nbformat_minor": 0
}